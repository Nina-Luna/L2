{
 "cells": [
  {
   "cell_type": "markdown",
   "metadata": {},
   "source": [
    "# <center>TP1 : résolution numérique de $f(x) = 0$</center>"
   ]
  },
  {
   "cell_type": "markdown",
   "metadata": {},
   "source": [
    "## 1. Premiers pas en Python\n",
    "Objectifs : présentation sur des exemples simples des notions suivantes :\n",
    "- def\n",
    "- while\n",
    "- print\n",
    "- if\n",
    "- for\n",
    "- import"
   ]
  },
  {
   "cell_type": "markdown",
   "metadata": {},
   "source": [
    "Commençons par examiner une fonction très simple\n",
    "$$f(x) = x^2 - x - 1$$\n",
    "En python ceci s'écrit"
   ]
  },
  {
   "cell_type": "code",
   "execution_count": 1,
   "metadata": {
    "collapsed": true
   },
   "outputs": [],
   "source": [
    "def f(x):\n",
    "    \"\"\"\n",
    "    def définit une fonction; remarquer le signe :, \n",
    "    l'indentation du bloc intérieur à la fonction, et le mot return.\n",
    "    Les symboles \"\" permettent les commentaires multilignes\n",
    "    \"\"\"\n",
    "    return x**2 - x - 1"
   ]
  },
  {
   "cell_type": "markdown",
   "metadata": {},
   "source": [
    "Créons une table de valeurs, et imprimons la"
   ]
  },
  {
   "cell_type": "code",
   "execution_count": 2,
   "metadata": {
    "collapsed": false
   },
   "outputs": [
    {
     "name": "stdout",
     "output_type": "stream",
     "text": [
      "[-2.0, -1.75, -1.5, -1.25, -1.0, -0.75, -0.5, -0.25, 0.0, 0.25, 0.5, 0.75, 1.0, 1.25, 1.5, 1.75, 2.0, 2.25, 2.5, 2.75]\n",
      "[5.0, 3.8125, 2.75, 1.8125, 1.0, 0.3125, -0.25, -0.6875, -1.0, -1.1875, -1.25, -1.1875, -1.0, -0.6875, -0.25, 0.3125, 1.0, 1.8125, 2.75, 3.8125]\n"
     ]
    }
   ],
   "source": [
    "x, dx = -2.0, 0.25\n",
    "X, Y, Points = [], [], [] # on définit une liste entre crochets [], ici les listes sont initialement vides\n",
    "\n",
    "while x < 3:\n",
    "    y = f(x)\n",
    "    point = (x, y) \n",
    "    # point est un tuple à deux éléments (un couple de réels); le tuple est défini par des parenthèses; \n",
    "    # c'est une structure un peu différente de la liste\n",
    "    X.append(x) # X devient une liste de réels\n",
    "    Y.append(y) # Y devient une liste de réels\n",
    "    Points.append(point) # Points devient une liste de couples de réels\n",
    "    x += dx\n",
    "\n",
    "print(X)\n",
    "print(Y)"
   ]
  },
  {
   "cell_type": "markdown",
   "metadata": {},
   "source": [
    "Points est une liste de couples (tuples de longueur $2$ en Python)"
   ]
  },
  {
   "cell_type": "code",
   "execution_count": 3,
   "metadata": {
    "collapsed": false
   },
   "outputs": [
    {
     "name": "stdout",
     "output_type": "stream",
     "text": [
      "[(-2.0, 5.0), (-1.75, 3.8125), (-1.5, 2.75), (-1.25, 1.8125), (-1.0, 1.0), (-0.75, 0.3125), (-0.5, -0.25), (-0.25, -0.6875), (0.0, -1.0), (0.25, -1.1875), (0.5, -1.25), (0.75, -1.1875), (1.0, -1.0), (1.25, -0.6875), (1.5, -0.25), (1.75, 0.3125), (2.0, 1.0), (2.25, 1.8125), (2.5, 2.75), (2.75, 3.8125)]\n"
     ]
    }
   ],
   "source": [
    "print(Points)"
   ]
  },
  {
   "cell_type": "markdown",
   "metadata": {},
   "source": [
    "Voici une impression de Points plus soignée"
   ]
  },
  {
   "cell_type": "code",
   "execution_count": 4,
   "metadata": {
    "collapsed": false
   },
   "outputs": [
    {
     "name": "stdout",
     "output_type": "stream",
     "text": [
      "    0.0000    -1.0000\n",
      "    0.2500    -1.1875\n",
      "    0.5000    -1.2500\n",
      "    0.7500    -1.1875\n",
      "    1.0000    -1.0000\n",
      "    1.2500    -0.6875\n",
      "    1.5000    -0.2500\n",
      "    1.7500     0.3125\n",
      "    2.0000     1.0000\n",
      "    2.2500     1.8125\n",
      "    2.5000     2.7500\n",
      "    2.7500     3.8125\n"
     ]
    }
   ],
   "source": [
    "for point in Points:\n",
    "    #remarquer, comme dans les fonctions, le signe : et l'indentation\n",
    "    x = point[0] # remarquer l'indexation; les tuples comme les listes ont leur premier élémen indexé à 0 \n",
    "    y = point[1]\n",
    "    if x >= 0.0: \n",
    "        print('{0:10.4f} {1:10.4f}'.format(x, y)) \n",
    "        # 0 réfère à x, 1 réfère à y, 10 donne le nombre de décimales à gauche du séparateur, \n",
    "        # 4 donne le nombre de décimales à droite du séparateur."
   ]
  },
  {
   "cell_type": "markdown",
   "metadata": {},
   "source": [
    "On utilise le module matplotlib pour la représentation graphique "
   ]
  },
  {
   "cell_type": "code",
   "execution_count": 15,
   "metadata": {
    "collapsed": false
   },
   "outputs": [
    {
     "data": {
      "image/png": "[encoded data removed]",
      "text/plain": [
       "<matplotlib.figure.Figure at 0x7f27e39e1668>"
      ]
     },
     "metadata": {},
     "output_type": "display_data"
    }
   ],
   "source": [
    "import matplotlib.pyplot as plt \n",
    "# importation d'un module (bibliothèque python); plt est un diminutif choisi par nous, l'utilisateur.\n",
    "plt.plot(X, Y, 'r')\n",
    "plt.grid()\n",
    "plt.show()"
   ]
  },
  {
   "cell_type": "markdown",
   "metadata": {},
   "source": [
    "On voit que $f$ possède deux racines sur l'intervalle. L'une d'entre elle, positive, est le [nombre d'or](https://fr.wikipedia.org/wiki/Nombre_d%27or), noté $\\phi$."
   ]
  },
  {
   "cell_type": "markdown",
   "metadata": {},
   "source": [
    "**Exercice**: calculer, sur papier, le nombre d'or et en donner une approximation numérique."
   ]
  },
  {
   "cell_type": "markdown",
   "metadata": {},
   "source": [
    "## 2. Méthodes numériques de résolution de $f(x) = 0$"
   ]
  },
  {
   "cell_type": "markdown",
   "metadata": {},
   "source": [
    "Objectif : présenter quelques méthodes classiques de résolution ** numérique **, c'est-à-dire fournissant des solutions approchées, d'une équation donnée $f(x) = 0$. Méthodes présentées ici :\n",
    "- point fixe\n",
    "- Newton\n",
    "- sécante\n",
    "- dichotomie"
   ]
  },
  {
   "cell_type": "markdown",
   "metadata": {},
   "source": [
    "### 2.1 Méthode du point fixe"
   ]
  },
  {
   "cell_type": "markdown",
   "metadata": {},
   "source": [
    "La [méthode du point fixe](https://fr.wikipedia.org/wiki/Point_fixe), que nous présentons maintenant, a beaucoup d'avantages:\n",
    "1. elle est très simple de conception,\n",
    "2. c'est une méthode universelle : elle s'emploie dans les situations les plus variées (par example pour des fonctions de plusieurs variables),\n",
    "3. elle se programme facilement.\n",
    "\n",
    "mais elle possède aussi des inconvénients :\n",
    "1. elle converge moins vite que la méthode de Newton\n",
    "2. son emploi nécessite quelques précautions : si on cherche une racine $\\alpha$, il faut que $\\left| g^\\prime(\\alpha)\\right| < 1$ pour que la méthode converge.\n",
    "\n",
    "Le principe est le suivant : \n",
    "- on transforme l'équation de départ $f(x) = 0$ sous la forme $g(x) = x$; le choix de la fonction $g$ peut se faire de nombreuses manières différentes. Un réel $\\alpha$ tel que $g(\\alpha) = \\alpha$ s'appelle un point fixe de $g$, d'où le nom de la méthode; c'est aussi une racine de $f$.\n",
    "- on choisit $x_0$ proche de la racine cherchée $\\alpha$\n",
    "- on calcule par récurrence les termes de la suite $x_{n+1} = g(x_n)$\n",
    "\n",
    "Si $\\left| g^\\prime(\\alpha)\\right| < 1$ et si $x_0$ est suffisament proche de $\\alpha$, alors la suite $x_n$ converge vers $\\alpha$."
   ]
  },
  {
   "cell_type": "markdown",
   "metadata": {},
   "source": [
    "** Exemple ** \n",
    "\n",
    "On veut encore résoudre $f(x) = x^2 - x - 1$; on vérifie que cette équation peut se mettre sous la forme $g(x) = x$ avec $g(x) = 1 + \\frac{1}{x}$.\n",
    "\n",
    "Sur un même graphique, représentons la fonction $g$ et la fonction identité"
   ]
  },
  {
   "cell_type": "code",
   "execution_count": 6,
   "metadata": {
    "collapsed": false
   },
   "outputs": [
    {
     "data": {
      "image/png": "[encoded data removed]",
      "text/plain": [
       "<matplotlib.figure.Figure at 0x7f27e38b7a90>"
      ]
     },
     "metadata": {},
     "output_type": "display_data"
    }
   ],
   "source": [
    "def g(x):\n",
    "    return 1 + 1/x\n",
    "\n",
    "import numpy as np\n",
    "t = np.arange(1.5, 2.0, 0.01)\n",
    "plt.plot(t, g(t), 'r-', t, t, 'b')\n",
    "plt.grid('on')\n",
    "plt.axis('equal')\n",
    "plt.show()"
   ]
  },
  {
   "cell_type": "markdown",
   "metadata": {},
   "source": [
    "On voit que $g$ possède un point fixe $\\alpha$ proche de $1.6$ (ici $\\alpha$ est le nombre d'or!), et que $\\left| g^\\prime(\\alpha)\\right| < 1$ (la pente de $g$ au point fixe semble inférieure à $1$ en valeur absolue). Choisissons alors $x_0 = 1.5$ et itérons $x_{n+1} = g(x_n)$."
   ]
  },
  {
   "cell_type": "markdown",
   "metadata": {},
   "source": [
    "** Exercice ** \n",
    "- Calculer à l'aide d'une boucle quelques valeurs de $x_n$ et observer la convergence de cette suite vers le nombre d'or.\n",
    "- Sur cahier, reproduire le dessin ci-dessus et représenter graphiquement les itérations successives (colimaçon)."
   ]
  },
  {
   "cell_type": "markdown",
   "metadata": {},
   "source": [
    "** Exercice **\n",
    "- Ecrire une fonction Python point_fixe(g, x0, epsi), qui prend en arguments une fonction $g$, une valeur initiale $x_0$, une précision $\\epsilon$, et qui renvoie une valeur numérique $r$, approximation de la racine cherchée à la précision $\\epsilon$. Test d'arrêt : $\\left| g(x_n) \\right| < \\epsilon$.\n",
    "- Testez $point\\_fixe$ sur la fonction $g(x) = 1 + \\frac{1}{x}$, $x_0 = 1.5$ et $\\epsilon = 10^{-12}$."
   ]
  },
  {
   "cell_type": "code",
   "execution_count": 7,
   "metadata": {
    "collapsed": true
   },
   "outputs": [],
   "source": [
    "def point_fixe(f, x0, epsi):\n",
    "    \"\"\"\n",
    "    code de la fonction point_fixe ici\n",
    "    \"\"\""
   ]
  },
  {
   "cell_type": "code",
   "execution_count": 8,
   "metadata": {
    "collapsed": true
   },
   "outputs": [],
   "source": [
    "# code test ici"
   ]
  },
  {
   "cell_type": "markdown",
   "metadata": {},
   "source": [
    "### 2.2 Méthode de Newton"
   ]
  },
  {
   "cell_type": "markdown",
   "metadata": {},
   "source": [
    "Il existe une autre méthode, très connue, pour calculer les racines d'une fonction; c'est la [méthode de Newton](https://fr.wikipedia.org/wiki/M%C3%A9thode_de_Newton). C'est une méthode itérative qui construit une suite d'approximations. Le principe est le suivant :\n",
    "\n",
    "- On choisit $x_0$ proche de la racine cherchée.\n",
    "- on calcule par récurrence les termes de la suite $x_{n+1} = x_n - \\dfrac{f(x_n)}{f'(x_n)}$\n",
    "\n",
    "La suite $x_n$ converge, si tout se passe bien, très rapidement vers la racine cherchée."
   ]
  },
  {
   "cell_type": "markdown",
   "metadata": {},
   "source": [
    "** Exercice **\n",
    "Sur cahier, expliquer le principe géométrique de la méthode de Newton"
   ]
  },
  {
   "cell_type": "markdown",
   "metadata": {},
   "source": [
    "** Exercice ** \n",
    "- Ecrire une fonction Python newton(f, x0, epsi), qui prend en arguments une fonction $f$, une valeur initiale $x_0$, une précision $\\epsilon$, et qui renvoie une valeur numérique $r$, approximation de la racine cherchée à la précision $\\epsilon$. Test d'arrêt : $\\vert x_{n+1} - x_n \\vert < \\epsilon$\n",
    "- Testez $newton$ sur la fonction $f(x) = x^2 - x - 1$ et avec $\\epsilon = 10^{-12}$."
   ]
  },
  {
   "cell_type": "code",
   "execution_count": 9,
   "metadata": {
    "collapsed": true
   },
   "outputs": [],
   "source": [
    "def newton(f, x0, epsi):\n",
    "    \"\"\"\n",
    "    code de la fonction Newton ici\n",
    "    \"\"\""
   ]
  },
  {
   "cell_type": "code",
   "execution_count": 10,
   "metadata": {
    "collapsed": true
   },
   "outputs": [],
   "source": [
    "# code test ici"
   ]
  },
  {
   "cell_type": "markdown",
   "metadata": {},
   "source": [
    "### 2.3 Méthode de la sécante"
   ]
  },
  {
   "cell_type": "markdown",
   "metadata": {},
   "source": [
    "La [méthode de la sécante](https://fr.wikipedia.org/wiki/M%C3%A9thode_de_la_s%C3%A9cante) est aussi une méthode itérative. Mais ici chaque approximation est construite à partir des deux approximations précédentes. On doit donc partir de deux approximations de la racine cherchée (en général les bornes d'un encadrement de la racine).\n",
    "\n",
    "- On choisit $x_0, x_1$ proches de la racine cherchée.\n",
    "- on calcule par récurrence les termes de la suite $x_{n+1} = x_n - \\dfrac{x_n - x_{n-1}}{f(x_n) - f(x_{n-1})}f(x_n)$\n",
    "\n",
    "La suite $x_n$ converge, si tout se passe bien, très rapidement vers la racine cherchée."
   ]
  },
  {
   "cell_type": "markdown",
   "metadata": {},
   "source": [
    "** Exercice **\n",
    "- Sur cahier, expliquer le principe géométrique de la méthode de la sécante\n",
    "- Quelle différence de conception voyez-vous entre la méthode de la sécante et la méthode de Newton ?"
   ]
  },
  {
   "cell_type": "markdown",
   "metadata": {},
   "source": [
    "** Exercice ** \n",
    "- Ecrire une fonction Python $secante(f, x0, x1, epsi)$, qui prend en arguments une fonction $f$, deux valeurs initiales $x_0, x_1$, une précision $\\epsilon$, et qui renvoie une valeur numérique $r$, approximation de la racine cherchée à la précision $\\epsilon$. Test d'arrêt : $\\vert x_{n+1} - x_n \\vert < \\epsilon$.\n",
    "- Testez $secante$ sur la fonction $f(x) = x^2 - x - 1$ et avec $\\epsilon = 10^{-12}$."
   ]
  },
  {
   "cell_type": "code",
   "execution_count": 11,
   "metadata": {
    "collapsed": true
   },
   "outputs": [],
   "source": [
    "def secante(f, x0, x1, epsi):\n",
    "    \"\"\"\n",
    "    code de la fonction secante ici\n",
    "    \"\"\""
   ]
  },
  {
   "cell_type": "code",
   "execution_count": 12,
   "metadata": {
    "collapsed": true
   },
   "outputs": [],
   "source": [
    "# code test ici"
   ]
  },
  {
   "cell_type": "markdown",
   "metadata": {},
   "source": [
    "### 2.4 Méthode de dichotomie\n",
    "La [méthode de dichotomie](https://fr.wikipedia.org/wiki/M%C3%A9thode_de_dichotomie) suppose que $f$ est continue sur un intervalle $(a, b)$ et change de signe sur cet intervalle; on est donc assuré que $f$ possède un zéro sur cet intervalle. Ensuite on coupe $(a, b)$ en deux et on garde celui des deux intervalles où $f$ change de signe. On répète l'opération jusqu'à obtenir la précision souhaitée.\n",
    "\n",
    "Voici une fonction python qui implémente cette méthode"
   ]
  },
  {
   "cell_type": "markdown",
   "metadata": {},
   "source": [
    "** Exercice **\n",
    "Sur cahier, expliquer le principe de la méthode de dichotomie"
   ]
  },
  {
   "cell_type": "markdown",
   "metadata": {},
   "source": [
    "** Exercice ** \n",
    "- Ecrire une fonction Python dichotomie(f, a0, b0, epsi), qui prend en arguments une fonction $f$, un encadrement initial $a_0, b_0$, une précision $\\epsilon$, et qui renvoie un encadrement $a, b$  de la racine cherchée à la précision $\\epsilon$. Test d'arrêt : $b - a < \\epsilon$\n",
    "- Testez $dichotomie$ sur la fonction $f(x) = x^2 - x - 1$, $a_0 = 1.0, b_0 = 2.0$ et $\\epsilon = 10^{-12}$."
   ]
  },
  {
   "cell_type": "code",
   "execution_count": 13,
   "metadata": {
    "collapsed": true
   },
   "outputs": [],
   "source": [
    "def dichotomie(f, a, b, epsi):\n",
    "    \"\"\"\n",
    "    code de la fonction dichotomie ici\n",
    "    \"\"\""
   ]
  },
  {
   "cell_type": "code",
   "execution_count": 14,
   "metadata": {
    "collapsed": true
   },
   "outputs": [],
   "source": [
    "# code test ici"
   ]
  }
 ],
 "metadata": {
  "anaconda-cloud": {},
  "kernelspec": {
   "display_name": "Python [conda root]",
   "language": "python",
   "name": "conda-root-py"
  },
  "language_info": {
   "codemirror_mode": {
    "name": "ipython",
    "version": 3
   },
   "file_extension": ".py",
   "mimetype": "text/x-python",
   "name": "python",
   "nbconvert_exporter": "python",
   "pygments_lexer": "ipython3",
   "version": "3.5.2"
  }
 },
 "nbformat": 4,
 "nbformat_minor": 1
}
