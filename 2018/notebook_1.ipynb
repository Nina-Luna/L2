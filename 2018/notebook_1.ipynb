{
 "cells": [
  {
   "cell_type": "markdown",
   "metadata": {},
   "source": [
    "#  Part 1.  Calculer avec Python 3.x"
   ]
  },
  {
   "cell_type": "markdown",
   "metadata": {},
   "source": [
    "Quelle est la différence entre Python et une calculette ? On commence cette leçon en montrant comment Python peut servir de **calculette**, puis nous verrons quelques éléments de base en programmation : types de données, variables, listes, et boucles.\n",
    "What is the difference between *Python* and a calculator?  We begin this first lesson by showing how Python can be used **as** a calculator, and we move into some of the basic programming language constructs:  data types, variables, lists, and loops."
   ]
  },
  {
   "cell_type": "markdown",
   "metadata": {},
   "source": [
    "## Table des matières\n",
    "\n",
    "- [Python comme calculette](#calculator)\n",
    "- [Calculer avec des booléens](#booleans)\n",
    "- [Déclarer des variables](#variables)\n",
    "- [Ranges](#ranges)\n",
    "- [Iteration sur un range](#iterating)"
   ]
  },
  {
   "cell_type": "markdown",
   "metadata": {},
   "source": [
    "<a id='calculator'></a>"
   ]
  },
  {
   "cell_type": "markdown",
   "metadata": {},
   "source": [
    "## Python comme calculette"
   ]
  },
  {
   "cell_type": "markdown",
   "metadata": {},
   "source": [
    "Différentes sortes de données sont stockées avec des types différents en Python. Par exemple, si vous voulez travailler avec des entiers, vos données seront stockées avec type *int*. Un nombre réel doit être stocké en *float*. Il y a aussi les types booléens (True/False), les chaines de caractères (comme \"Hello World!\"), et beaucoup d'autres types.\n",
    "\n",
    "On trouvera une référence complète pour les types numériques et les opérations arithmétiques dans la [documentation  Python officielle](https://docs.python.org/2/library/stdtypes.html#numeric-types-int-float-long-complex).\n",
    "\n",
    "Les opérations arithmétiques en Python sont  dénotés `+`, `-`, `*`, and `/`. Evaluez chacune des cellules suivantes pour voir comment Python traite ces opérations sur les *entiers*. A mesure que vous avancez dans cette leçon et les suivantes, essayez de *prévoir* ce que produira un calcul avant de l'effectuer.  "
   ]
  },
  {
   "cell_type": "code",
   "execution_count": null,
   "metadata": {
    "collapsed": false,
    "scrolled": true
   },
   "outputs": [],
   "source": [
    "2 + 3"
   ]
  },
  {
   "cell_type": "code",
   "execution_count": null,
   "metadata": {
    "collapsed": false,
    "scrolled": true
   },
   "outputs": [],
   "source": [
    "2 * 3"
   ]
  },
  {
   "cell_type": "code",
   "execution_count": null,
   "metadata": {
    "collapsed": false
   },
   "outputs": [],
   "source": [
    "5 - 11"
   ]
  },
  {
   "cell_type": "code",
   "execution_count": null,
   "metadata": {
    "collapsed": false
   },
   "outputs": [],
   "source": [
    "5.0 - 11"
   ]
  },
  {
   "cell_type": "code",
   "execution_count": null,
   "metadata": {
    "collapsed": false
   },
   "outputs": [],
   "source": [
    "5 / 11"
   ]
  },
  {
   "cell_type": "code",
   "execution_count": null,
   "metadata": {
    "collapsed": false
   },
   "outputs": [],
   "source": [
    "6 / 3"
   ]
  },
  {
   "cell_type": "code",
   "execution_count": null,
   "metadata": {
    "collapsed": false
   },
   "outputs": [],
   "source": [
    "5 // 11"
   ]
  },
  {
   "cell_type": "code",
   "execution_count": null,
   "metadata": {
    "collapsed": false
   },
   "outputs": [],
   "source": [
    "6 // 3"
   ]
  },
  {
   "cell_type": "markdown",
   "metadata": {},
   "source": [
    "Les résultats ne doivent pas être trop surprenants, mais les deux derniers demandent une petite explication. Python *interprète* le nombre 5 comme un *int* (entier) et 5.0 comme un *float* (décimal).\n",
    "\n",
    "Python permet deux sortes de division.  En Python 3.x une division avec un seul signe slash donne un résultat *float* ; avec deux signes slash on obtient le quotient *int* de la division euclidienne.\n",
    "\n",
    "Ceci est utile mais on doit faire attention. **Ce tutoriel suppose qu'on utilise Python 3.x.** Si vous êtes en Python 2.x, attention : les deux symboles de la division se comportent autrement."
   ]
  },
  {
   "cell_type": "code",
   "execution_count": null,
   "metadata": {
    "collapsed": false
   },
   "outputs": [],
   "source": [
    "-12 // 5"
   ]
  },
  {
   "cell_type": "markdown",
   "metadata": {},
   "source": [
    "Python vous permet de grouper des expressions entres parenthèses, et suit les priorités opératoires habituelles."
   ]
  },
  {
   "cell_type": "code",
   "execution_count": null,
   "metadata": {
    "collapsed": false
   },
   "outputs": [],
   "source": [
    "(3 + 4) * 5"
   ]
  },
  {
   "cell_type": "code",
   "execution_count": null,
   "metadata": {
    "collapsed": false
   },
   "outputs": [],
   "source": [
    "3 + (4 * 5)"
   ]
  },
  {
   "cell_type": "code",
   "execution_count": null,
   "metadata": {
    "collapsed": false
   },
   "outputs": [],
   "source": [
    "3 + 4 * 5   #  Prévoir le résultat avant d'exécuter"
   ]
  },
  {
   "cell_type": "markdown",
   "metadata": {},
   "source": [
    "Ci-dessous, une cellule vide pour vous exercer. Rappel : pour créer une nouvelle cellule, faire **Echap a** ou **Echap b**; pour supprimer une cellule faire **Echap x**."
   ]
  },
  {
   "cell_type": "code",
   "execution_count": null,
   "metadata": {
    "collapsed": true
   },
   "outputs": [],
   "source": [
    "#  Cellule vide ; expérimenter.\n"
   ]
  },
  {
   "cell_type": "markdown",
   "metadata": {},
   "source": [
    "En arithmétique, la division euclidienne est très importante. La division entière (deux signes slash) fournit le quotient, le symbole `%` fournit le reste."
   ]
  },
  {
   "cell_type": "code",
   "execution_count": null,
   "metadata": {
    "collapsed": false
   },
   "outputs": [],
   "source": [
    "23 // 5  # quotient"
   ]
  },
  {
   "cell_type": "code",
   "execution_count": null,
   "metadata": {
    "collapsed": false
   },
   "outputs": [],
   "source": [
    "23 % 5  # reste"
   ]
  },
  {
   "cell_type": "markdown",
   "metadata": {},
   "source": [
    "Remarquez ci-dessus le hashtag `#` pour commenter dans une ligne de code.\n",
    "\n",
    "Python possède aussi une commande unique pour la division euclidienne.  Le résultat est un *tuple*."
   ]
  },
  {
   "cell_type": "code",
   "execution_count": null,
   "metadata": {
    "collapsed": false
   },
   "outputs": [],
   "source": [
    "divmod(23,5)"
   ]
  },
  {
   "cell_type": "code",
   "execution_count": null,
   "metadata": {
    "collapsed": false
   },
   "outputs": [],
   "source": [
    "type(divmod(23,5))"
   ]
  },
  {
   "cell_type": "markdown",
   "metadata": {},
   "source": [
    "La fonction *type* permet de connaitre le type des données."
   ]
  },
  {
   "cell_type": "code",
   "execution_count": null,
   "metadata": {
    "collapsed": false
   },
   "outputs": [],
   "source": [
    "type(3)"
   ]
  },
  {
   "cell_type": "code",
   "execution_count": null,
   "metadata": {
    "collapsed": false
   },
   "outputs": [],
   "source": [
    "type(3.0)"
   ]
  },
  {
   "cell_type": "code",
   "execution_count": null,
   "metadata": {
    "collapsed": false
   },
   "outputs": [],
   "source": [
    "type('Hello')"
   ]
  },
  {
   "cell_type": "code",
   "execution_count": null,
   "metadata": {
    "collapsed": false
   },
   "outputs": [],
   "source": [
    "type([1,2,3])"
   ]
  },
  {
   "cell_type": "markdown",
   "metadata": {},
   "source": [
    "Il est très important de connaitre letype des données que l'on manipule, et comment Python va opérer sur ces différents types."
   ]
  },
  {
   "cell_type": "code",
   "execution_count": null,
   "metadata": {
    "collapsed": false
   },
   "outputs": [],
   "source": [
    "3 + 3"
   ]
  },
  {
   "cell_type": "code",
   "execution_count": null,
   "metadata": {
    "collapsed": false
   },
   "outputs": [],
   "source": [
    "3.0 + 3.0"
   ]
  },
  {
   "cell_type": "code",
   "execution_count": null,
   "metadata": {
    "collapsed": false
   },
   "outputs": [],
   "source": [
    "'Hello' + 'World!'"
   ]
  },
  {
   "cell_type": "code",
   "execution_count": null,
   "metadata": {
    "collapsed": false
   },
   "outputs": [],
   "source": [
    "[1,2,3] + [4,5,6]"
   ]
  },
  {
   "cell_type": "code",
   "execution_count": null,
   "metadata": {
    "collapsed": false
   },
   "outputs": [],
   "source": [
    "3 + 3.0"
   ]
  },
  {
   "cell_type": "code",
   "execution_count": null,
   "metadata": {
    "collapsed": false
   },
   "outputs": [],
   "source": [
    "3 + 'Hello!'"
   ]
  },
  {
   "cell_type": "code",
   "execution_count": null,
   "metadata": {
    "collapsed": true
   },
   "outputs": [],
   "source": [
    "#  Cellule vide, pour s'exercer.\n"
   ]
  },
  {
   "cell_type": "markdown",
   "metadata": {},
   "source": [
    "Comme vous pouvez le constater, l'addition a un sens entre valeurs numériques ou entre chaines de caractères, mais pas entre un nombre et une chaine.\n",
    "\n",
    "Par ailleurs, la multiplication a un sens entre un entier et une chaine ou une liste."
   ]
  },
  {
   "cell_type": "code",
   "execution_count": null,
   "metadata": {
    "collapsed": false
   },
   "outputs": [],
   "source": [
    "3 * 'Hello!'"
   ]
  },
  {
   "cell_type": "code",
   "execution_count": null,
   "metadata": {
    "collapsed": false
   },
   "outputs": [],
   "source": [
    "0 * 'Hello!'"
   ]
  },
  {
   "cell_type": "code",
   "execution_count": null,
   "metadata": {
    "collapsed": false
   },
   "outputs": [],
   "source": [
    "2 * [1,2,3]"
   ]
  },
  {
   "cell_type": "markdown",
   "metadata": {},
   "source": [
    "Pouvez vous créer une chaine de 100 A's (comme `AAA...`)?  Essayez dans la cellule ci-dessous."
   ]
  },
  {
   "cell_type": "code",
   "execution_count": null,
   "metadata": {
    "collapsed": false
   },
   "outputs": [],
   "source": [
    "# créer ici une chaine de 100 A's\n"
   ]
  },
  {
   "cell_type": "markdown",
   "metadata": {},
   "source": [
    "Les exposants en Python sont donnés par l'opérateur `**`."
   ]
  },
  {
   "cell_type": "code",
   "execution_count": null,
   "metadata": {
    "collapsed": false
   },
   "outputs": [],
   "source": [
    "2**1000"
   ]
  },
  {
   "cell_type": "code",
   "execution_count": null,
   "metadata": {
    "collapsed": false
   },
   "outputs": [],
   "source": [
    "2.0**1000"
   ]
  },
  {
   "cell_type": "markdown",
   "metadata": {},
   "source": [
    "Comme tout-à-l'heure, Python interprète l'operation (`**`) differéremment suivant les types. Avec des types entiers, le calcul est **exact**. Une bonne nouvelle, en Python, c'est que les entiers peuvent être de longueur arbitraire, comme ci-dessus, contrairement à des langages comme C/C++.\n",
    "\n",
    "La notation e+301 signifie \"multiplié par `10**301`\"; cela s'appelle *notation scientifique*."
   ]
  },
  {
   "cell_type": "code",
   "execution_count": null,
   "metadata": {
    "collapsed": false
   },
   "outputs": [],
   "source": [
    "type(2**1000)"
   ]
  },
  {
   "cell_type": "code",
   "execution_count": null,
   "metadata": {
    "collapsed": false
   },
   "outputs": [],
   "source": [
    "type(2.0**1000)"
   ]
  },
  {
   "cell_type": "markdown",
   "metadata": {},
   "source": [
    "### Exercises\n",
    "\n",
    "1.  Quels types avez vous vus, et sur quelles données sont ils utilisés ? Donner des exemples.\n",
    "\n",
    "2.  Comment se comporte la division `/` sur differents types ?\n",
    "\n",
    "3.  Même question avec la multiplication `*`.\n",
    "\n",
    "4.  Quelle est la différence entre 100 et 100.0, pour Python?"
   ]
  },
  {
   "cell_type": "markdown",
   "metadata": {},
   "source": [
    "Double-cliquez cette cellule markdown pour l'éditer, et répondre aux questions de l'exercice."
   ]
  },
  {
   "cell_type": "markdown",
   "metadata": {},
   "source": [
    "<a id='booleans'></a>"
   ]
  },
  {
   "cell_type": "markdown",
   "metadata": {},
   "source": [
    "## Calculer avec des booléens"
   ]
  },
  {
   "cell_type": "markdown",
   "metadata": {},
   "source": [
    "Un booléen (type *bool*) est le plus petit morceau de donnée possible ; il ne prend que les valeurs  *True* or *False*. C'est en particulier utile pour tester des égalités ou inégalités entre nombres. Ci-dessous quelques exemples. Voir aussi [la documentation Python officielle](https://docs.python.org/2/library/stdtypes.html#boolean-operations-and-or-not)."
   ]
  },
  {
   "cell_type": "code",
   "execution_count": null,
   "metadata": {
    "collapsed": false
   },
   "outputs": [],
   "source": [
    "3 > 2"
   ]
  },
  {
   "cell_type": "code",
   "execution_count": null,
   "metadata": {
    "collapsed": false
   },
   "outputs": [],
   "source": [
    "type(3 > 2)"
   ]
  },
  {
   "cell_type": "code",
   "execution_count": null,
   "metadata": {
    "collapsed": false
   },
   "outputs": [],
   "source": [
    "10 < 3"
   ]
  },
  {
   "cell_type": "code",
   "execution_count": null,
   "metadata": {
    "collapsed": false
   },
   "outputs": [],
   "source": [
    "2.4 < 2.4000001"
   ]
  },
  {
   "cell_type": "code",
   "execution_count": null,
   "metadata": {
    "collapsed": false
   },
   "outputs": [],
   "source": [
    "32 >= 32"
   ]
  },
  {
   "cell_type": "code",
   "execution_count": null,
   "metadata": {
    "collapsed": false
   },
   "outputs": [],
   "source": [
    "32 >= 31"
   ]
  },
  {
   "cell_type": "code",
   "execution_count": null,
   "metadata": {
    "collapsed": false
   },
   "outputs": [],
   "source": [
    "2 + 2 == 4"
   ]
  },
  {
   "cell_type": "markdown",
   "metadata": {},
   "source": [
    "Qui est le plus grand:  $23^{32}$ or $32^{23}$?  Utilisez la cellule ci-dessous pour répondre !"
   ]
  },
  {
   "cell_type": "code",
   "execution_count": null,
   "metadata": {
    "collapsed": true
   },
   "outputs": [],
   "source": [
    "#  Write your code here.\n"
   ]
  },
  {
   "cell_type": "markdown",
   "metadata": {},
   "source": [
    "Les expressions `<`, `>`, `<=`, `>=` arsonte interprétées comme des **operations** avec un input numerique et un output booléen.  Le symbole `==` teste si deux nombres sont égaux.  Attention à ne pas confondre avec `=`qui a une signification toute différente (déclaration de variable, voir plus bas)."
   ]
  },
  {
   "cell_type": "markdown",
   "metadata": {},
   "source": [
    "Using the remainder operator `%` and equality, we obtain a divisibility test."
   ]
  },
  {
   "cell_type": "code",
   "execution_count": null,
   "metadata": {
    "collapsed": false
   },
   "outputs": [],
   "source": [
    "63 % 7 == 0  # 63 est-il divisible par 7 ?"
   ]
  },
  {
   "cell_type": "code",
   "execution_count": null,
   "metadata": {
    "collapsed": false
   },
   "outputs": [],
   "source": [
    "101 % 2 == 0  # 101 est-il pair ?"
   ]
  },
  {
   "cell_type": "markdown",
   "metadata": {},
   "source": [
    "Utilisez la cellule dessous pour déterminer si 1234567890 est divisible par 3."
   ]
  },
  {
   "cell_type": "code",
   "execution_count": null,
   "metadata": {
    "collapsed": true
   },
   "outputs": [],
   "source": [
    "# Votre code ici.\n"
   ]
  },
  {
   "cell_type": "markdown",
   "metadata": {},
   "source": [
    "Entre booléens on peut utiliser les opérateurs and, or, not.\n",
    "\n",
    "Ci-dessous les **tables de vérité** des opérateurs **and** et **or**.\n",
    "\n",
    "| and || True | False |\n",
    "|-----||------|-------|\n",
    "|||||\n",
    "| **True** || True | False |\n",
    "| **False** || False | False|\n",
    "\n",
    "| or || True | False |\n",
    "|-----||------|-------|\n",
    "|||||\n",
    "| **True** || True | True |\n",
    "| **False** || True | False|\n"
   ]
  },
  {
   "cell_type": "code",
   "execution_count": null,
   "metadata": {
    "collapsed": false
   },
   "outputs": [],
   "source": [
    "True and False"
   ]
  },
  {
   "cell_type": "code",
   "execution_count": null,
   "metadata": {
    "collapsed": false
   },
   "outputs": [],
   "source": [
    "True or False"
   ]
  },
  {
   "cell_type": "code",
   "execution_count": null,
   "metadata": {
    "collapsed": false
   },
   "outputs": [],
   "source": [
    "True or True"
   ]
  },
  {
   "cell_type": "code",
   "execution_count": null,
   "metadata": {
    "collapsed": false
   },
   "outputs": [],
   "source": [
    "not True"
   ]
  },
  {
   "cell_type": "markdown",
   "metadata": {},
   "source": [
    "Utilisez les tables de vérité pour prévoir le résultat des expressions suivantes, avant d'évaluer le code."
   ]
  },
  {
   "cell_type": "code",
   "execution_count": null,
   "metadata": {
    "collapsed": false
   },
   "outputs": [],
   "source": [
    "(2 > 3) and (3 > 2)"
   ]
  },
  {
   "cell_type": "code",
   "execution_count": null,
   "metadata": {
    "collapsed": false
   },
   "outputs": [],
   "source": [
    "(1 + 1 == 2) or (1 + 1 == 3)"
   ]
  },
  {
   "cell_type": "code",
   "execution_count": null,
   "metadata": {
    "collapsed": false,
    "scrolled": true
   },
   "outputs": [],
   "source": [
    "not (-1 + 1 >= 0)"
   ]
  },
  {
   "cell_type": "code",
   "execution_count": null,
   "metadata": {
    "collapsed": false
   },
   "outputs": [],
   "source": [
    "2 + 2 == 4"
   ]
  },
  {
   "cell_type": "code",
   "execution_count": null,
   "metadata": {
    "collapsed": false
   },
   "outputs": [],
   "source": [
    "2 + 2 != 4  # Pour \"not equal\", Python utilise l'opérateur `!=`."
   ]
  },
  {
   "cell_type": "code",
   "execution_count": null,
   "metadata": {
    "collapsed": false
   },
   "outputs": [],
   "source": [
    "2 + 2 != 5  "
   ]
  },
  {
   "cell_type": "code",
   "execution_count": null,
   "metadata": {
    "collapsed": false
   },
   "outputs": [],
   "source": [
    "not (2 + 2 == 5)"
   ]
  },
  {
   "cell_type": "markdown",
   "metadata": {},
   "source": [
    "Python accepte quelques opérations entre booléens et nombres. Expérimentez ci-dessous et changez les valeurs."
   ]
  },
  {
   "cell_type": "code",
   "execution_count": null,
   "metadata": {
    "collapsed": false
   },
   "outputs": [],
   "source": [
    "False * 100"
   ]
  },
  {
   "cell_type": "code",
   "execution_count": null,
   "metadata": {
    "collapsed": false
   },
   "outputs": [],
   "source": [
    "True + 13"
   ]
  },
  {
   "cell_type": "markdown",
   "metadata": {},
   "source": [
    "L'aptitude de Python à interpréter les opérations suivant le contexte a ses avantages et inconvénients. D'un côté ça permet des codes plus courts, de l'autre ça peut diminuer la lisibilité du code. Les bons programmeurs visent à produire du code pas seulement court, mais aussi lisible.\n",
    "\n",
    "Le [Zen of Python](https://www.python.org/dev/peps/pep-0020/) est une série de 20 aphorismes pour programmeurs Python.  Voici les sept premiers.\n",
    "\n",
    "> Beautiful is better than ugly.\n",
    "\n",
    "> Explicit is better than implicit.\n",
    "\n",
    "> Simple is better than complex.\n",
    "\n",
    "> Complex is better than complicated.\n",
    "\n",
    "> Flat is better than nested.\n",
    "\n",
    "> Sparse is better than dense.\n",
    "\n",
    "> Readability counts."
   ]
  },
  {
   "cell_type": "markdown",
   "metadata": {},
   "source": [
    "### Exercises\n",
    "\n",
    "3.  Comment savoir, en une ligne de code, si 2349872348723, est un multiple de 7 mais pas un multiple de 11 ?\n",
    "\n",
    "6.  L'opérateur `xor` veut dire \"exclusive or\".  Sa table de vérité est : `True xor True = False` et `False xor False = False` et `True xor False = True` et `False xor True = True`.  Implémenter `xor` à l'aide des opérateurs `and`, `or`, et `not`."
   ]
  },
  {
   "cell_type": "code",
   "execution_count": null,
   "metadata": {
    "collapsed": true
   },
   "outputs": [],
   "source": [
    "#  Espace pour répondre aux questions de l'exercice"
   ]
  },
  {
   "cell_type": "markdown",
   "metadata": {},
   "source": [
    "<a id='variables'></a>"
   ]
  },
  {
   "cell_type": "markdown",
   "metadata": {},
   "source": [
    "## Déclaration de variables"
   ]
  },
  {
   "cell_type": "markdown",
   "metadata": {},
   "source": [
    "Une caractéristique essentielle en programmation est la déclaration de variables. Quand vous déclarez une variable, vous *stockez* une donnée en mémoire et vous donnez un *nom* à cette donnée. Tout ceci se fait à l'aide du symbole `=`."
   ]
  },
  {
   "cell_type": "code",
   "execution_count": null,
   "metadata": {
    "collapsed": true
   },
   "outputs": [],
   "source": [
    "e = 2.71828"
   ]
  },
  {
   "cell_type": "code",
   "execution_count": null,
   "metadata": {
    "collapsed": false
   },
   "outputs": [],
   "source": [
    "e * e"
   ]
  },
  {
   "cell_type": "code",
   "execution_count": null,
   "metadata": {
    "collapsed": false
   },
   "outputs": [],
   "source": [
    "type(e)"
   ]
  },
  {
   "cell_type": "markdown",
   "metadata": {},
   "source": [
    "Un nom de variable doit commencer avec une lettre, ne doit pas contenir d'espaces, et ne doit pas être un mot Python existant (comme `True` par exemple). On peut utiliser des lettres (minuscules et majuscules), des chiffres et des underscores `_`.  \n",
    "\n",
    "Donc, comme nom de variable, `e` est valide mais `type` ne l'est pas. Les débutants sont tentés d'utiliser des abréviations courtes comme `dx` or `vbn`.  Ce n'est pas recommandé ; utilisez plutôt des noms explicites comme `difference_x` ou `very_big_number`.  Cela fera un code plus lisible pour vous et les autres !\n",
    "\n",
    "Il y a différentes conventions de style pour les noms de variables. Nous utiliserons des noms en minuscule, et des underscores pour séparer les mots, suivant à peu près les [Google's style conventions](https://google.github.io/styleguide/pyguide.html#Python_Style_Rules) for Python code."
   ]
  },
  {
   "cell_type": "code",
   "execution_count": null,
   "metadata": {
    "collapsed": true
   },
   "outputs": [],
   "source": [
    "my_number = 17"
   ]
  },
  {
   "cell_type": "code",
   "execution_count": null,
   "metadata": {
    "collapsed": false
   },
   "outputs": [],
   "source": [
    "my_number < 23"
   ]
  },
  {
   "cell_type": "markdown",
   "metadata": {},
   "source": [
    "Après avoir déclaré une variable, sa valeur reste la même jusqu'à ce qu'elle soit modifiée. Vous pouvez modifier la valeur d'une variable avec une assignation simple. Après les lignes ci-dessus, la valeur de my_number est 17."
   ]
  },
  {
   "cell_type": "code",
   "execution_count": null,
   "metadata": {
    "collapsed": true
   },
   "outputs": [],
   "source": [
    "my_number = 3.14"
   ]
  },
  {
   "cell_type": "markdown",
   "metadata": {},
   "source": [
    "Cette commande réaffecte la valeur de my_number à 3.14. Notez que cela change aussi le type! Elle remplace effectivement la valeur précédente et la remplace par la nouvelle valeur.\n",
    "\n",
    "Il est souvent utile de changer la valeur d'une variable *de manière incrémentielle* ou *récursive*. Python, comme de nombreux langages de programmation, permet d’assigner des variables de manière auto-référentielle. Que pensez-vous de la valeur de S après les quatre lignes suivantes?"
   ]
  },
  {
   "cell_type": "code",
   "execution_count": null,
   "metadata": {
    "collapsed": false
   },
   "outputs": [],
   "source": [
    "S = 0\n",
    "S = S + 1\n",
    "S = S + 2\n",
    "S = S + 3\n",
    "print(S)"
   ]
  },
  {
   "cell_type": "markdown",
   "metadata": {},
   "source": [
    "Considérez maintenant les commandes suivantes"
   ]
  },
  {
   "cell_type": "code",
   "execution_count": null,
   "metadata": {
    "collapsed": true
   },
   "outputs": [],
   "source": [
    "my_number = 17\n",
    "new_number = my_number + 1\n",
    "my_number = 3.14"
   ]
  },
  {
   "cell_type": "markdown",
   "metadata": {},
   "source": [
    "Quelles sont les valeurs de my_number et new_number,après l'exécution de ces trois lignes ?\n",
    "\n",
    "Pour accéder à ces valeurs vous pouvez utiliser la fonction *print*."
   ]
  },
  {
   "cell_type": "code",
   "execution_count": null,
   "metadata": {
    "collapsed": false
   },
   "outputs": [],
   "source": [
    "print(my_number)\n",
    "print(new_number)"
   ]
  },
  {
   "cell_type": "markdown",
   "metadata": {},
   "source": [
    "### Exercises\n",
    "\n",
    "1. What is the difference between `=` and `==` in the Python language ?\n",
    "\n",
    "3. Imaginez deux variables `a` et `b`, et vous voulez permuter leurs valeurs.  Comment faites-vous ?"
   ]
  },
  {
   "cell_type": "code",
   "execution_count": null,
   "metadata": {
    "collapsed": true
   },
   "outputs": [],
   "source": [
    "#  Répondre ici, avec un exemple."
   ]
  },
  {
   "cell_type": "markdown",
   "metadata": {},
   "source": [
    "<a id='ranges'></a>"
   ]
  },
  {
   "cell_type": "markdown",
   "metadata": {},
   "source": [
    "## Listes et ranges"
   ]
  },
  {
   "cell_type": "markdown",
   "metadata": {},
   "source": [
    "Python se distingue par le rôle central joué par les listes (type `list`). Les données d'une liste peuvent être de tout type. Plusieurs types sont possibles dans la même liste! La syntaxe de base d'une liste consiste à utiliser des crochets pour inclure les éléments de liste et les virgules pour séparer les éléments de la liste."
   ]
  },
  {
   "cell_type": "code",
   "execution_count": null,
   "metadata": {
    "collapsed": false
   },
   "outputs": [],
   "source": [
    "type([1,2,3])"
   ]
  },
  {
   "cell_type": "code",
   "execution_count": null,
   "metadata": {
    "collapsed": false
   },
   "outputs": [],
   "source": [
    "type(['Hello',17])"
   ]
  },
  {
   "cell_type": "markdown",
   "metadata": {},
   "source": [
    "Il y a un autre type appelé un tuple que nous utiliserons rarement (type `tuple`). Les tuples utilisent des parenthèses pour la clôture au lieu des parenthèses."
   ]
  },
  {
   "cell_type": "code",
   "execution_count": null,
   "metadata": {
    "collapsed": false
   },
   "outputs": [],
   "source": [
    "type((1,2,3))"
   ]
  },
  {
   "cell_type": "markdown",
   "metadata": {},
   "source": [
    "Il existe un autre type de liste dans Python 3, appelé range. Les ranges sont un peu comme des listes, mais au lieu de mettre chaque élément dans un emplacement de mémoire, les ranges doivent simplement retenir trois nombres entiers: leur début, leur arrêt et leur pas.  \n",
    "\n",
    "La commande `range` crée un range avec un début, un arrêt et un pas donnés. Si vous ne saisissez qu'un seul entier en input, le range **commence à zéro** et utilise un **pas de un ** et arrête **juste avant le numéro d'arrêt**.\n",
    "\n",
    "On peut créer une liste à partir d'un range (en plaçant chaque terme du range dans un emplacement de mémoire), en utilisant la commande `list`. Voici quelques exemples."
   ]
  },
  {
   "cell_type": "code",
   "execution_count": null,
   "metadata": {
    "collapsed": false
   },
   "outputs": [],
   "source": [
    "type(range(10)) # Les ranges ont leur propre type en Python 3.x.  Pas en Python 2.x!"
   ]
  },
  {
   "cell_type": "code",
   "execution_count": null,
   "metadata": {
    "collapsed": false
   },
   "outputs": [],
   "source": [
    "list(range(10)) "
   ]
  },
  {
   "cell_type": "markdown",
   "metadata": {},
   "source": [
    "Une forme plus compliquée, à deux entrées, de la commande range produit une gamme d'entiers **commençant à** un nombre donné et **terminant avant** un autre nombre donné."
   ]
  },
  {
   "cell_type": "code",
   "execution_count": null,
   "metadata": {
    "collapsed": false
   },
   "outputs": [],
   "source": [
    "list(range(3,10))"
   ]
  },
  {
   "cell_type": "code",
   "execution_count": null,
   "metadata": {
    "collapsed": false
   },
   "outputs": [],
   "source": [
    "list(range(-4,5))"
   ]
  },
  {
   "cell_type": "markdown",
   "metadata": {},
   "source": [
    "C'est une source commune de difficulté pour les débutants en Python. Alors que le premier paramètre (-4) est le point de départ de la liste, la liste se termine juste avant le deuxième paramètre (5). Cela prend un peu de temps pour s'y habituer, mais les programmeurs Python expérimentés ont tendance à aimer cette convention."
   ]
  },
  {
   "cell_type": "markdown",
   "metadata": {},
   "source": [
    "La longueur d'une liste est accessible par la commande `len`."
   ]
  },
  {
   "cell_type": "code",
   "execution_count": null,
   "metadata": {
    "collapsed": false
   },
   "outputs": [],
   "source": [
    "len([2,4,6])"
   ]
  },
  {
   "cell_type": "code",
   "execution_count": null,
   "metadata": {
    "collapsed": false
   },
   "outputs": [],
   "source": [
    "len(range(10))  # La commande len peut traiter des listes et des plages. Pas besoin de convertir"
   ]
  },
  {
   "cell_type": "code",
   "execution_count": null,
   "metadata": {
    "collapsed": false
   },
   "outputs": [],
   "source": [
    "len(range(10,100)) # Prévoir le résultat avant d'évaluer"
   ]
  },
  {
   "cell_type": "markdown",
   "metadata": {},
   "source": [
    "La variante finale de la commande range (pour l'instant) est la commande à trois paramètres `range(a, b, s)`.\n",
    "Cela produit une liste comme le range (a, b), mais avec \"un pas de s\".\n",
    "En d'autres termes, il produit une liste d'entiers, commençant à a, augmentant de s d'une entrée à l'autre, allant jusqu'à (mais n'incluant pas) b. Il vaut mieux expérimenter un peu !"
   ]
  },
  {
   "cell_type": "code",
   "execution_count": null,
   "metadata": {
    "collapsed": false
   },
   "outputs": [],
   "source": [
    "list(range(1,10,2))"
   ]
  },
  {
   "cell_type": "code",
   "execution_count": null,
   "metadata": {
    "collapsed": false
   },
   "outputs": [],
   "source": [
    "list(range(11,30,2))"
   ]
  },
  {
   "cell_type": "code",
   "execution_count": null,
   "metadata": {
    "collapsed": false
   },
   "outputs": [],
   "source": [
    "list(range(-4,5,3))"
   ]
  },
  {
   "cell_type": "code",
   "execution_count": null,
   "metadata": {
    "collapsed": false
   },
   "outputs": [],
   "source": [
    "list(range(10,100,17))"
   ]
  },
  {
   "cell_type": "markdown",
   "metadata": {},
   "source": [
    "Cela peut aussi être utilisé pour les ranges décroissants ; observer que le nombre final b dans la plage (a, b, s) n'est pas inclus."
   ]
  },
  {
   "cell_type": "code",
   "execution_count": null,
   "metadata": {
    "collapsed": false
   },
   "outputs": [],
   "source": [
    "list(range(10,0,-1))"
   ]
  },
  {
   "cell_type": "markdown",
   "metadata": {},
   "source": [
    "### Exercises\n",
    "\n",
    "1.  Si `a` et `b` sont des entiers, quelle est la longueur de `range(a,b)`?\n",
    "\n",
    "2.  Combien de multiples de 7 sont compris entre 10 et 100? Vous pouvez répondre assez rapidement avec les commandes `range` et `len`.\n",
    "\n",
    "3.  Créez la liste `[1,2,3,4,5,1,2,3,4,5,1,2,3,4,5,1,2,3,4,5,1,2,3,4,5]` avec la commande range et une autre opération.\n"
   ]
  },
  {
   "cell_type": "code",
   "execution_count": null,
   "metadata": {
    "collapsed": true
   },
   "outputs": [],
   "source": [
    "#  Espace pour répondre aux questions.\n"
   ]
  },
  {
   "cell_type": "markdown",
   "metadata": {},
   "source": [
    "<a id='iterating'></a>"
   ]
  },
  {
   "cell_type": "markdown",
   "metadata": {},
   "source": [
    "## Itérer sur un range"
   ]
  },
  {
   "cell_type": "markdown",
   "metadata": {},
   "source": [
    "Les ordinateurs sont excellents pour les tâches répétitives et simples. Nous examinons ici un moyen simple et commun de réaliser un calcul répétitif: la boucle `for`. La  la boucle `for` itère à travers les éléments d'une liste ou d'un range, en effectuant une action pour chaque élément."
   ]
  },
  {
   "cell_type": "code",
   "execution_count": null,
   "metadata": {
    "collapsed": false
   },
   "outputs": [],
   "source": [
    "for n in [1,2,3,4,5]:\n",
    "    print(n*n)"
   ]
  },
  {
   "cell_type": "code",
   "execution_count": null,
   "metadata": {
    "collapsed": false
   },
   "outputs": [],
   "source": [
    "for s in ['I','Am','Python']:\n",
    "    print(s + \"!\")"
   ]
  },
  {
   "cell_type": "markdown",
   "metadata": {},
   "source": [
    "La première boucle, déroulée, exécute la séquence de commandes suivante."
   ]
  },
  {
   "cell_type": "code",
   "execution_count": null,
   "metadata": {
    "collapsed": false
   },
   "outputs": [],
   "source": [
    "n = 1\n",
    "print(n*n)\n",
    "n = 2\n",
    "print(n*n)\n",
    "n = 3\n",
    "print(n*n)\n",
    "n = 4\n",
    "print(n*n)\n",
    "n = 5\n",
    "print(n*n)"
   ]
  },
  {
   "cell_type": "markdown",
   "metadata": {},
   "source": [
    "Essayez de dérouler la boucle ci-dessous et de prédire le résultat avant d’évaluer le code."
   ]
  },
  {
   "cell_type": "code",
   "execution_count": null,
   "metadata": {
    "collapsed": false
   },
   "outputs": [],
   "source": [
    "P = 1\n",
    "for n in range(1,6):\n",
    "    P = P * n\n",
    "print(P)"
   ]
  },
  {
   "cell_type": "markdown",
   "metadata": {},
   "source": [
    "Parfois, en particulier lors du débogage, il est utile d'inspecter chaque étape de la boucle pour voir ce que fait Python. Nous pouvons inspecter la boucle ci-dessus en insérant une commande print dans le champ (scope) de la boucle."
   ]
  },
  {
   "cell_type": "code",
   "execution_count": null,
   "metadata": {
    "collapsed": false
   },
   "outputs": [],
   "source": [
    "P = 1\n",
    "for n in range(1,6):\n",
    "    P = P * n\n",
    "    print(\"n is\",n,\"and P is\",P)\n",
    "print(P)"
   ]
  },
  {
   "cell_type": "markdown",
   "metadata": {},
   "source": [
    "Ici, nous avons utilisé la commande *print* avec des chaînes et des nombres. Dans Python 3.x, vous pouvez imprimer plusieurs éléments sur la même ligne en les séparant par des virgules.\n",
    "Les éléments à imprimer peuvent être des chaînes (entre guillemets simples ou doubles) et des nombres (int, float, etc.)."
   ]
  },
  {
   "cell_type": "code",
   "execution_count": null,
   "metadata": {
    "collapsed": false
   },
   "outputs": [],
   "source": [
    "print(\"My favorite number is\", 17)"
   ]
  },
  {
   "cell_type": "markdown",
   "metadata": {},
   "source": [
    "Si nous déroulons la boucle ci-dessus, la séquence linéaire des commandes interprétées par Python est la suivante."
   ]
  },
  {
   "cell_type": "code",
   "execution_count": null,
   "metadata": {
    "collapsed": false
   },
   "outputs": [],
   "source": [
    "P = 1\n",
    "n = 1\n",
    "P = P * n\n",
    "print(\"n is\",n,\"and P is\",P)\n",
    "n = 2\n",
    "P = P * n\n",
    "print(\"n is\",n,\"and P is\",P)\n",
    "n = 3\n",
    "P = P * n\n",
    "print(\"n is\",n,\"and P is\",P)\n",
    "n = 4\n",
    "P = P * n\n",
    "print(\"n is\",n,\"and P is\",P)\n",
    "n = 5\n",
    "P = P * n\n",
    "print(\"n is\",n,\"and P is\",P)\n",
    "print (P)"
   ]
  },
  {
   "cell_type": "markdown",
   "metadata": {},
   "source": [
    "Analysons la boucle en détail.  \n",
    "```python\n",
    "P = 1\n",
    "for n in range(1, 6):\n",
    "    P = P * n  # commande dans le champ (ou scope) de la boucle.\n",
    "    print(\"n is\", n,\"and P is\", P)  # commande dans le champ de la boucle\n",
    "print(P) # commande hors du champ de la boucle\n",
    "```\n",
    "\n",
    "La commande \"for\" se termine par un deux-points `:` et les deux **prochaines** lignes sont indentées.\n",
    "Les deux points et l'indentation sont des indicateurs de portée (ou **scope**). La portée de la boucle for commence après les deux points et inclut toutes les lignes indentées. La portée de la boucle for est ce qui se répète à chaque étape de la boucle (en plus de la réaffectation de `n`)."
   ]
  },
  {
   "cell_type": "code",
   "execution_count": null,
   "metadata": {
    "collapsed": false
   },
   "outputs": [],
   "source": [
    "P = 1\n",
    "for n in range(1,6):\n",
    "    P = P * n  # this command is in the scope of the loop.\n",
    "    print(\"n is\",n,\"and P is\",P)  # this command is in the scope of the loop too!\n",
    "print(P)"
   ]
  },
  {
   "cell_type": "markdown",
   "metadata": {},
   "source": [
    "Si nous modifions l'indentation, cela change la portée de la boucle for. Prévoyez ce que fera la boucle suivante, en la déroulant, avant de l’évaluer."
   ]
  },
  {
   "cell_type": "code",
   "execution_count": null,
   "metadata": {
    "collapsed": false
   },
   "outputs": [],
   "source": [
    "P = 1\n",
    "for n in range(1,6):\n",
    "    P = P * n\n",
    "print(\"n is\",n,\"and P is\",P)\n",
    "print(P)"
   ]
  },
  {
   "cell_type": "markdown",
   "metadata": {},
   "source": [
    "Les portées peuvent être imbriquées par une indentation. Essayez de créer une (double) boucle imbriquée qui imprime\n",
    "\n",
    "`1 a` \n",
    "\n",
    "`2 a` \n",
    "\n",
    "`3 a` \n",
    "\n",
    "`1 b` \n",
    "\n",
    "`2 b` \n",
    "\n",
    "`3 b` "
   ]
  },
  {
   "cell_type": "code",
   "execution_count": null,
   "metadata": {
    "collapsed": true
   },
   "outputs": [],
   "source": [
    "# Ecrire votre boucle ici."
   ]
  },
  {
   "cell_type": "markdown",
   "metadata": {},
   "source": [
    "Parmi les langages de programmation les plus répandus, Python se distingue par l’utilisation de l'indentation. D'autres langages indiquent une portée avec des accolades ouvertes / fermées, par exemple, et l'indentation n'est qu'une question de style. En nécessitant une indentation pour indiquer la portée, Python supprime efficacement le besoin d'accolades et impose un style lisible.\n",
    "\n",
    "Nous avons maintenant rencontré des types de données, des opérations, des variables et des boucles. Pris ensemble, ce sont des outils puissants pour le calcul! Faire les exercices suivants pour plus de pratique. Faire ensuite, au choix, les exercices en fin du chapitre 0 de [An Illustrated Theory of Numbers](https://bookstore.ams.org/mbk-105/~~FreeAttachments/mbk-105-prev.pdf) -- certains peuvent être résolus facilement en écrivant quelques lignes de code Python."
   ]
  },
  {
   "cell_type": "markdown",
   "metadata": {},
   "source": [
    "## Exercises"
   ]
  },
  {
   "cell_type": "markdown",
   "metadata": {},
   "source": [
    "1. Décrivez comment Python interprète la division avec reste lorsque le diviseur et/ou le dividende est négatif.\n",
    "2. Quel est le reste lorsque $2 ^ {90}$ est divisé par $91$?\n",
    "3. Combien de multiples de $13$ y a-t-il entre $1$ et $1000$?\n",
    "4. Combien y a-t-il de multiples impairs de $13$ entre $1$ et $1000$?\n",
    "5. Quelle est la somme des nombres de $1$ à $1000$ ?\n",
    "6. Quelle est la somme des carrés, de $1^2$ à $1000^2$?"
   ]
  }
 ],
 "metadata": {
  "anaconda-cloud": {},
  "kernelspec": {
   "display_name": "Python [default]",
   "language": "python",
   "name": "python3"
  },
  "language_info": {
   "codemirror_mode": {
    "name": "ipython",
    "version": 3
   },
   "file_extension": ".py",
   "mimetype": "text/x-python",
   "name": "python",
   "nbconvert_exporter": "python",
   "pygments_lexer": "ipython3",
   "version": "3.5.2"
  }
 },
 "nbformat": 4,
 "nbformat_minor": 1
}
