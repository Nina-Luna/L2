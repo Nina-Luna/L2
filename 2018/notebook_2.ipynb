{
 "cells": [
  {
   "cell_type": "markdown",
   "metadata": {},
   "source": [
    "# Part 2:  Fonctions en Python 3.x"
   ]
  },
  {
   "cell_type": "markdown",
   "metadata": {},
   "source": [
    "Une propriété des langages de programmation est que le programmeur peut créer ses propres *fonctions*. Créer une *fonction*, c'est comme enseigner à l'ordinateur une nouvelle astuce. Généralement, une fonction recevra des données en entrée (*input*), exécutera un algorithme utilisant les données d'entrée et produira des données en sortie (*output*) lorsque l'algorithme se terminera.\n",
    "\n",
    "Dans cette partie, nous explorons les *fonctions* Python. Nous explorons également les instructions de contrôle, qui permettent à un programme de se comporter de différentes manières pour différentes entrées. Nous introduisons également la boucle *while*, une boucle dont la répétition peut être plus soigneusement contrôlée qu'une boucle *for*. En tant qu'application de ces techniques, nous implémentons, de plusieurs manières, l'algorithme d'Euclide comme une fonction Python, pour trouver efficacement le PGCD d'entiers et pour résoudre des équations Diophantiennes linéaires. Cela complète le chapitre 1 du livre [An Illustrated Theory of Numbers](http://bookstore.ams.org/mbk-105)."
   ]
  },
  {
   "cell_type": "markdown",
   "metadata": {},
   "source": [
    "## Table des matières\n",
    "\n",
    "- [Démarrer avec les fonctions Python](#functions)\n",
    "- [Instructions de contrôle](#controls)\n",
    "- [Boucles while et implémentation de l'algorithm d'Euclide](#while)\n",
    "- [Résolution de l'équation Diophantienne linéaire](#solving)\n"
   ]
  },
  {
   "cell_type": "markdown",
   "metadata": {},
   "source": [
    "<a id='functions'></a>"
   ]
  },
  {
   "cell_type": "markdown",
   "metadata": {},
   "source": [
    "## Démarrer avec les fonctions Python"
   ]
  },
  {
   "cell_type": "markdown",
   "metadata": {},
   "source": [
    "Une *fonction* dans Python est une construction qui prend des données d'entrée, effectue certaines actions et produit des données de sortie. Il est préférable de commencer par quelques exemples et de décomposer le code. Voici une fonction `square`. Exécutez le code comme d'habitude en appuyant sur * shift-Enter * lorsque le bloc de code est sélectionné."
   ]
  },
  {
   "cell_type": "code",
   "execution_count": 1,
   "metadata": {
    "collapsed": true
   },
   "outputs": [],
   "source": [
    "def square(x):\n",
    "    answer = x * x\n",
    "    return answer"
   ]
  },
  {
   "cell_type": "markdown",
   "metadata": {},
   "source": [
    "Lorsque vous exécutez le bloc de code, vous ne voyez probablement rien se passer. Mais vous avez effectivement appris à votre ordinateur une nouvelle astuce, augmenter le vocabulaire des commandes qu'il comprend grâce à l'interpréteur Python. Vous pouvez maintenant utiliser la commande `square` comme vous le souhaitez."
   ]
  },
  {
   "cell_type": "code",
   "execution_count": 2,
   "metadata": {
    "collapsed": false
   },
   "outputs": [
    {
     "data": {
      "text/plain": [
       "144"
      ]
     },
     "execution_count": 2,
     "metadata": {},
     "output_type": "execute_result"
    }
   ],
   "source": [
    "square(12)"
   ]
  },
  {
   "cell_type": "code",
   "execution_count": 3,
   "metadata": {
    "collapsed": false
   },
   "outputs": [
    {
     "data": {
      "text/plain": [
       "2.25"
      ]
     },
     "execution_count": 3,
     "metadata": {},
     "output_type": "execute_result"
    }
   ],
   "source": [
    "square(1.5)"
   ]
  },
  {
   "cell_type": "markdown",
   "metadata": {},
   "source": [
    "Décomposons la syntaxe de cette function, ligne par ligne.\n",
    "\n",
    "```python\n",
    "def square(x):\n",
    "    answer = x * x\n",
    "    return answer\n",
    "```\n",
    "\n",
    "La première ligne (déclaration de la fonction) commence par le mot réservé Python `def`. (Donc, n'utilisez pas `def` comme nom de variable!). Le mot `def` \"définit\" une fonction appelée `square`. Après le nom de la fonction `square` viennent les parenthèses contenant **l'argument** `x`. Les *paramètres* ou *arguments* d'une fonction font référence aux données d'entrée. Même si votre fonction n'a aucun argument, vous avez besoin de parenthèses, vides. L'argument `x` est utilisé pour nommer n'importe quel nombre entré dans la fonction `square`.\n",
    "\n",
    "À la fin de la ligne de déclaration il y a un deux-points `:` et les deux lignes suivantes sont en retrait (indentées). Comme pour les boucles for, les deux points et l'indentation signalent la portée (*scope*). Tout ce qui se trouve sur les lignes en retrait est considéré comme inclus dans la portée de la fonction et est exécuté lorsque la fonction est utilisée ultérieurement.\n",
    "\n",
    "La deuxième ligne `answer = x * x` est le début de la portée de la fonction. On déclare une variable `answer` et on lui affecte la valeur `x * x`. Donc, si l'argument `x` vaut `12`, alors `answer` sera évalué à `144`. La variable `answer`, déclarée dans la portée de la fonction, ne sera pas accessible en dehors de la portée de la fonction. C'est une variable **locale**.\n",
    "\n",
    "La dernière ligne `return answer` contient le mot réservé Python `return`, qui termine la fonction et renvoie la valeur de la variable `answer`. Donc, quand vous utilisez la fonction avec la commande `square(1.5)`, l’argument `x` vaut `1.5`; la variable locale `answer` vaut `2.25` et ce nombre est renvoyé en sortie."
   ]
  },
  {
   "cell_type": "markdown",
   "metadata": {},
   "source": [
    "Une fonction ne doit pas toujours renvoyer une valeur de sortie. Certaines fonctions peuvent simplement afficher (`print`) des informations. Voici une fonction qui affiche le résultat de la division Euclidienne comme une phrase avec addition et multiplication."
   ]
  },
  {
   "cell_type": "code",
   "execution_count": 9,
   "metadata": {
    "collapsed": true
   },
   "outputs": [],
   "source": [
    "def display_divmod(a, b):\n",
    "    quotient = a // b # Integer division\n",
    "    remainder = a % b #\n",
    "    print(\"{} = {} * {} + {}\".format(a, quotient, b, remainder))"
   ]
  },
  {
   "cell_type": "code",
   "execution_count": 10,
   "metadata": {
    "collapsed": false
   },
   "outputs": [
    {
     "name": "stdout",
     "output_type": "stream",
     "text": [
      "23 = 4 * 5 + 3\n"
     ]
    }
   ],
   "source": [
    "display_divmod(23, 5)"
   ]
  },
  {
   "cell_type": "markdown",
   "metadata": {},
   "source": [
    "Notez que cette fonction n'a pas de ligne `return`. La fonction se termine automatiquement à la fin de sa portée.\n",
    "La fonction utilise également le **formatage de chaîne** de Python. Cela a changé entre Python 2.x et 3.x, et ce notebook utilise la syntaxe Python 3.x.\n",
    "Le formatage de chaîne vous permet d'insérer des espaces réservés tels que {} dans une chaîne et de les remplir avec des valeurs."
   ]
  },
  {
   "cell_type": "code",
   "execution_count": 11,
   "metadata": {
    "collapsed": false
   },
   "outputs": [
    {
     "name": "stdout",
     "output_type": "stream",
     "text": [
      "My favorite number is 17\n"
     ]
    }
   ],
   "source": [
    "print(\"My favorite number is {}\".format(17))  # The .format \"method\" substitutes 17 for {}"
   ]
  },
  {
   "cell_type": "code",
   "execution_count": 12,
   "metadata": {
    "collapsed": false
   },
   "outputs": [
    {
     "name": "stdout",
     "output_type": "stream",
     "text": [
      "13 + 12 = 25\n"
     ]
    }
   ],
   "source": [
    "print(\"{} + {} = {}\".format(13, 12, 13+12))"
   ]
  },
  {
   "cell_type": "markdown",
   "metadata": {},
   "source": [
    "La commande `format` est un exemple de **méthode de chaîne**. Cela a pour effet de remplacer tous les espaces réservés {} par ses entrées, en séquence. Il existe une syntaxe complexe pour ces espaces réservés, qui permet de faire correspondre des espaces réservés avec des valeurs dans des ordres différents et de formater différents types de valeurs.\n",
    "Voici la référence officielle pour le [formatage de chaîne dans Python 3.x](https://docs.python.org/3/library/string.html#formatstrings) Python 3.x. Nous n'utiliserons que les fonctionnalités les plus élémentaires, exposées ci-dessous."
   ]
  },
  {
   "cell_type": "code",
   "execution_count": null,
   "metadata": {
    "collapsed": true
   },
   "outputs": [],
   "source": [
    "print (\"The number {} comes before {}.\".format(1, 2)) # This should be familiar.\n",
    "print (\"The number {1} comes before {0}.\".format(1, 2)) # What happens?\n",
    "print (\"The number {1} comes before {1}.\".format(1, 2)) # Got it now?"
   ]
  },
  {
   "cell_type": "markdown",
   "metadata": {},
   "source": [
    "En plaçant un nombre dans l'espace réservé, comme `{1}`, vous pouvez remplir les espaces réservés avec les valeurs dans un ordre différent ou répéter la même valeur. La méthode de formatage prend plusieurs paramètres et ils sont numérotés: paramètre 0, paramètre 1, paramètre 2, etc.\n",
    "L'espace réservé `{1}` sera donc remplacé par le deuxième paramètre (paramètre 1). C'est déroutant au début, mais Python commence toujours à compter à zéro."
   ]
  },
  {
   "cell_type": "code",
   "execution_count": 14,
   "metadata": {
    "collapsed": false
   },
   "outputs": [
    {
     "name": "stdout",
     "output_type": "stream",
     "text": [
      "pi is approximately 3.14159265\n",
      "pi is approximately 3.141593\n",
      "pi is approximately 3.142\n"
     ]
    }
   ],
   "source": [
    "pi = 3.14159265\n",
    "print(\"pi is approximately {0}\".format(pi))\n",
    "print(\"pi is approximately {0:f}\".format(pi)) # The \"f\" in \"0:f\" formats the float.\n",
    "print(\"pi is approximately {0:0.3f}\".format(pi)) # Choose 3 digits of precision."
   ]
  },
  {
   "cell_type": "markdown",
   "metadata": {},
   "source": [
    "Si vous donnez des informations sur la manière dont l’espace réservé est utilisé, la méthode de formatage formatera mieux les choses pour l’impression.\n",
    "L'espace réservé `{0:f}` sera remplacé par le paramètre 0, et sera formaté d'une manière agréable pour les flottants (d'où le `f`). N'essayez pas de formater des choses en dehors de leur type !"
   ]
  },
  {
   "cell_type": "code",
   "execution_count": 15,
   "metadata": {
    "collapsed": false
   },
   "outputs": [
    {
     "name": "stdout",
     "output_type": "stream",
     "text": [
      "1267650600228229401496703205376 is a pretty big integer.\n",
      "1267650600228229401496703205376.000000 is an integer, formatted like a float.\n",
      "0.142857 is a float, of course.\n",
      "Hi there! is a string.\n"
     ]
    },
    {
     "ename": "ValueError",
     "evalue": "Unknown format code 'd' for object of type 'float'",
     "output_type": "error",
     "traceback": [
      "\u001b[0;31m------------------------------------------------------------------------\u001b[0m",
      "\u001b[0;31mValueError\u001b[0m                             Traceback (most recent call last)",
      "\u001b[0;32m<ipython-input-15-9fe5dd824980>\u001b[0m in \u001b[0;36m<module>\u001b[0;34m()\u001b[0m\n\u001b[1;32m      3\u001b[0m \u001b[0mprint\u001b[0m\u001b[0;34m(\u001b[0m\u001b[0;34m\"{:f} is a float, of course.\"\u001b[0m\u001b[0;34m.\u001b[0m\u001b[0mformat\u001b[0m\u001b[0;34m(\u001b[0m\u001b[0;36m1\u001b[0m\u001b[0;34m/\u001b[0m\u001b[0;36m7\u001b[0m\u001b[0;34m)\u001b[0m\u001b[0;34m)\u001b[0m\u001b[0;34m\u001b[0m\u001b[0m\n\u001b[1;32m      4\u001b[0m \u001b[0mprint\u001b[0m\u001b[0;34m(\u001b[0m\u001b[0;34m\"{:s} is a string.\"\u001b[0m\u001b[0;34m.\u001b[0m\u001b[0mformat\u001b[0m\u001b[0;34m(\u001b[0m\u001b[0;34m'Hi there!'\u001b[0m\u001b[0;34m)\u001b[0m\u001b[0;34m)\u001b[0m \u001b[0;31m# s is the formatting code for strings.\u001b[0m\u001b[0;34m\u001b[0m\u001b[0m\n\u001b[0;32m----> 5\u001b[0;31m \u001b[0mprint\u001b[0m\u001b[0;34m(\u001b[0m\u001b[0;34m\"{:d} will give us an error message.\"\u001b[0m\u001b[0;34m.\u001b[0m\u001b[0mformat\u001b[0m\u001b[0;34m(\u001b[0m\u001b[0;36m1\u001b[0m\u001b[0;34m/\u001b[0m\u001b[0;36m7\u001b[0m\u001b[0;34m)\u001b[0m\u001b[0;34m)\u001b[0m\u001b[0;34m\u001b[0m\u001b[0m\n\u001b[0m",
      "\u001b[0;31mValueError\u001b[0m: Unknown format code 'd' for object of type 'float'"
     ]
    }
   ],
   "source": [
    "print(\"{:d} is a pretty big integer.\".format(2**100)) # d is the formatting code for integers.\n",
    "print(\"{:f} is an integer, formatted like a float.\".format(2**100))\n",
    "print(\"{:f} is a float, of course.\".format(1/7))\n",
    "print(\"{:s} is a string.\".format('Hi there!')) # s is the formatting code for strings.\n",
    "print(\"{:d} will give us an error message.\".format(1/7))\n"
   ]
  },
  {
   "cell_type": "code",
   "execution_count": 16,
   "metadata": {
    "collapsed": false
   },
   "outputs": [
    {
     "name": "stdout",
     "output_type": "stream",
     "text": [
      "The square root of 1000 is about 31.622777.\n"
     ]
    }
   ],
   "source": [
    "from math import sqrt  # Make sure the square root function is loaded.\n",
    "print(\"The square root of {0:d} is about {1:f}.\".format(1000, sqrt(1000)))"
   ]
  },
  {
   "cell_type": "markdown",
   "metadata": {},
   "source": [
    "### Exercises\n",
    "\n",
    "1. Comment signale-t'on la portée dans une fonction Python?\n",
    "\n",
    "2. Écrivez une fonction appelée area_circle, qui prend en argument un rayon. La fonction doit retourner l'aire du cercle, sous forme de nombre à virgule flottante. Ajoutez ensuite une ligne à la fonction, en utilisant le formatage de chaîne, de sorte qu’elle imprime en outre une phrase de la forme \"La surface d’un cercle de rayon 1.0 est 3.14159.\" (selon le rayon et l'aire calculée).\n",
    "\n",
    "3. `format` est un exemple de méthode. Une autre méthode intéressante est `replace`. Essayez `\"Python\".replace(\"yth\", \"arag\")` pour voir ce que ça fait.\n",
    "\n",
    "4. Essayez les codes de mise en forme `%` et `E` (au lieu de `f`) pour un nombre à virgule flottante. Que réalisent ces codes ?\n",
    "\n",
    "5. Voyez-vous une raison pour laquelle une fonction n'aurait aucun argument ?"
   ]
  },
  {
   "cell_type": "code",
   "execution_count": 18,
   "metadata": {
    "collapsed": true
   },
   "outputs": [],
   "source": [
    "# Utilisez cet espace pour travailler sur les exercices.\n",
    "# Rappelez-vous que vous pouvez ajouter une nouvelle cellule au-dessus / au-dessous en cliquant à gauche d'une cellule,\n",
    "# (la cellule aura une barre bleue à gauche), puis appuyez sur \"a\" ou \"b\" sur le clavier.\n"
   ]
  },
  {
   "cell_type": "markdown",
   "metadata": {},
   "source": [
    "<a id='controls'></a>"
   ]
  },
  {
   "cell_type": "markdown",
   "metadata": {},
   "source": [
    "## Instructions de contrôle"
   ]
  },
  {
   "cell_type": "markdown",
   "metadata": {},
   "source": [
    "Il est important pour un programme informatique de se comporter différemment selon les circonstances. Les instructions de contrôle les plus simples, `if` et son compagnon `else`, peuvent être utilisées pour demander à Python d'effectuer différentes actions en fonction de la valeur d'une variable booléenne. La fonction suivante présente la syntaxe."
   ]
  },
  {
   "cell_type": "code",
   "execution_count": 24,
   "metadata": {
    "collapsed": true
   },
   "outputs": [],
   "source": [
    "def is_even(n):\n",
    "    if n%2 == 0:\n",
    "        print(\"{} is even.\".format(n))\n",
    "        return True\n",
    "    else:\n",
    "        print(\"{} is odd.\".format(n))\n",
    "        return False"
   ]
  },
  {
   "cell_type": "code",
   "execution_count": 2,
   "metadata": {
    "collapsed": false
   },
   "outputs": [
    {
     "name": "stdout",
     "output_type": "stream",
     "text": [
      "17 is odd.\n"
     ]
    },
    {
     "data": {
      "text/plain": [
       "False"
      ]
     },
     "execution_count": 2,
     "metadata": {},
     "output_type": "execute_result"
    }
   ],
   "source": [
    "is_even(17)"
   ]
  },
  {
   "cell_type": "code",
   "execution_count": 3,
   "metadata": {
    "collapsed": false
   },
   "outputs": [
    {
     "name": "stdout",
     "output_type": "stream",
     "text": [
      "1000 is even.\n"
     ]
    },
    {
     "data": {
      "text/plain": [
       "True"
      ]
     },
     "execution_count": 3,
     "metadata": {},
     "output_type": "execute_result"
    }
   ],
   "source": [
    "is_even(1000)"
   ]
  },
  {
   "cell_type": "markdown",
   "metadata": {},
   "source": [
    "La syntaxe large de la fonction devrait être familière. Nous avons créé une fonction appelée `is_even` avec un argument appelé `n`. Le corps de la fonction utilise l'**instruction de contrôle** `if n% 2 == 0:`. Rappelons que `n%2` donne le reste après la division de `n` par `2`. Ainsi, `n%2` est `0` ou `1`, selon que `n` est pair ou impair. Par conséquent, le **booléen** `n%2 == 0` est `True` si `n` est pair, et `False` si `n` est impair.\n",
    "\n",
    "Les deux lignes suivantes (les premières instructions `print` et` return`) sont dans la  **portée** de l’instruction `if <boolean>:`, comme indiqué par les deux points et l’indentation. L'instruction `if <boolean>:` demande à l'interpréteur Python d'exécuter les instructions dans la portée si le booléen est `True`, et d'ignorer les instructions dans le portée si le booléen est `False`.\n",
    "\n",
    "Analysond le code de ce `if`.\n",
    "```python\n",
    "    if n%2 == 0:\n",
    "        print(\"{} is even.\".format(n))\n",
    "        return True\n",
    "```\n",
    "Si `n` est pair, alors l'interpréteur Python affichera la phrase `n is even`. Ensuite, l'interpréteur retournera (output) la valeur `True` et la fonction se terminera.\n",
    "Si `n` est impair, l'interpréteur Python ignorera les deux lignes de portée."
   ]
  },
  {
   "cell_type": "markdown",
   "metadata": {},
   "source": [
    "Souvent, nous ne voulons pas que Python *ne fasse rien* quand une condition n'est pas satisfaite. Dans le cas ci-dessus, nous préférerions que Python nous dise que le nombre est impair. L'instruction `else:` indique à Python ce qu'il faut faire si l'instruction de contrôle `if <boolean>:` reçoit un booléen `False`. Analysons le code\n",
    "```python\n",
    "     else:\n",
    "         print (\"{} est impair\".format(n))\n",
    "         return false\n",
    "```\n",
    "Les commandes `print` et` return` sont dans la portée de l'instruction `else:`. Donc, lorsque l'instruction `if` reçoit un signal `False` (le nombre` n` est impair), le programme imprime une phrase de la forme `n est odd` et retourne la valeur `False` et sort de la fonction."
   ]
  },
  {
   "cell_type": "markdown",
   "metadata": {},
   "source": [
    "La fonction `is_even` est une sorte de fonction \"bavarde\". Une telle fonction est parfois utile dans un environnement interactif, où le programmeur veut comprendre tout ce qui se passe. Mais si la fonction devait être appelée un million de fois, l'écran se remplirait de phrases imprimées ! En pratique, une fonction efficace et silencieuse `is_even` pourrait ressembler à ce qui suit."
   ]
  },
  {
   "cell_type": "code",
   "execution_count": 26,
   "metadata": {
    "collapsed": true
   },
   "outputs": [],
   "source": [
    "def is_even(n):\n",
    "    return (n%2 == 0)"
   ]
  },
  {
   "cell_type": "code",
   "execution_count": 27,
   "metadata": {
    "collapsed": false
   },
   "outputs": [
    {
     "data": {
      "text/plain": [
       "False"
      ]
     },
     "execution_count": 27,
     "metadata": {},
     "output_type": "execute_result"
    }
   ],
   "source": [
    "is_even(17)"
   ]
  },
  {
   "cell_type": "markdown",
   "metadata": {},
   "source": [
    "Une instruction `for` et une instruction `if`, utilisées ensemble, nous permettent d'effectuer une recherche par **force brute**. Nous pouvons rechercher, un par un, les facteurs d'un nombre afin de vérifier si celui-ci est premier. Ou nous pouvons chercher des solutions, une par une, à une équation jusqu'à ce que nous en trouvions une.\n",
    "\n",
    "Une chose à noter: la fonction ci-dessous commence par un bloc de texte entre un guillemet triple (trois guillemets simples lors de la saisie). Ce texte est appelé un **docstring** et il est destiné à documenter ce que fait la fonction. L'écriture de docstrings claires devient importante lorsque vous écrivez des programmes plus longs, ou collaborez avec d'autres programmeurs ou encore lorsque vous souhaitez revenir des mois ou des années plus tard pour réutiliser un programme. Il existe différentes conventions de style pour docstrings; par exemple, voici les [conventions docstring de Google](https://google.github.io/styleguide/pyguide.html?showone=Comments#Comments). Nous adoptons une approche moins formelle."
   ]
  },
  {
   "cell_type": "code",
   "execution_count": 30,
   "metadata": {
    "collapsed": true
   },
   "outputs": [],
   "source": [
    "def is_prime(n):\n",
    "    '''\n",
    "    Checks whether the argument n is a prime number.\n",
    "    Uses a brute force search for factors between 1 and n.\n",
    "    '''\n",
    "    for j in range(2,n):  # the list of numbers 2,3,...,n-1.\n",
    "        if n%j == 0:  # is n divisible by j?\n",
    "            print(\"{} is a factor of {}.\".format(j,n))\n",
    "            return False\n",
    "    return True"
   ]
  },
  {
   "cell_type": "markdown",
   "metadata": {},
   "source": [
    "Une note importante: le mot-clé `return` **termine** la fonction. Donc, dès qu'un facteur est trouvé, la fonction se termine et affiche `False`. Si aucun facteur n'est trouvé, l'exécution de la fonction survit au-delà de la boucle et la ligne `return True` est exécutée et termine la fonction."
   ]
  },
  {
   "cell_type": "code",
   "execution_count": 31,
   "metadata": {
    "collapsed": false
   },
   "outputs": [
    {
     "name": "stdout",
     "output_type": "stream",
     "text": [
      "7 is a factor of 91.\n"
     ]
    },
    {
     "data": {
      "text/plain": [
       "False"
      ]
     },
     "execution_count": 31,
     "metadata": {},
     "output_type": "execute_result"
    }
   ],
   "source": [
    "is_prime(91)"
   ]
  },
  {
   "cell_type": "code",
   "execution_count": 32,
   "metadata": {
    "collapsed": false
   },
   "outputs": [
    {
     "data": {
      "text/plain": [
       "True"
      ]
     },
     "execution_count": 32,
     "metadata": {},
     "output_type": "execute_result"
    }
   ],
   "source": [
    "is_prime(101)"
   ]
  },
  {
   "cell_type": "markdown",
   "metadata": {},
   "source": [
    "Essayez la fonction `is_prime` sur des nombres plus grands -- essayez des nombres avec 4 chiffres, 5 chiffres, 6 chiffres. Où commence-t-elle à ralentir ? Avez-vous des erreurs lorsque les nombres sont trop grands ?\n",
    "Assurez-vous de sauvegarder d'abord votre travail, juste au cas où votre ordinateur serait bloqué !"
   ]
  },
  {
   "cell_type": "code",
   "execution_count": 33,
   "metadata": {
    "collapsed": true
   },
   "outputs": [],
   "source": [
    "# Experimentez ici avec la fonction is_prime."
   ]
  },
  {
   "cell_type": "markdown",
   "metadata": {},
   "source": [
    "Deux facteurs limitants sont étudiés plus en détail dans la prochaine leçon. Ce sont **le temps** et **l'espace** (espace mémoire de votre ordinateur). Lorsque la boucle de `is_prime` tourne encore et encore, cela peut prendre beaucoup de temps à votre ordinateur! Si chaque étape de la boucle ne prend qu'une nanoseconde (1 milliardième de seconde), la boucle prend environ une seconde lors de l'exécution de `is_prime (1000000001)`.\n",
    "Si vous essayiez `is_prime` sur un nombre beaucoup plus grand, comme` is_prime (2 ** 101 - 1) `, la boucle prendrait plus de temps que la durée de vie de la Terre.\n",
    "\n",
    "L'autre problème qui peut survenir est un problème *d'espace*. Dans Python 3.x, astucieusement `range (2, n)` évite de stocker tous les nombres entre `2` et `n-1` en mémoire. Il se souvient simplement des bornes du range et de la manière de progresser d'un indice au suivant. Dans l'ancienne version, Python 2.x, la commande `range(2, n)` aurait tenté de stocker la liste complète des numéros `[2, 3, 4, .., n-1]` dans la mémoire de votre ordinateur. Votre ordinateur possède quelques (4, 8 ou 16, peut-être) gigaoctets de mémoire (RAM). Un gigaoctet est un milliard d'octets, et un octet est suffisant pour stocker un nombre compris entre 0 et 255. (Plus de détails à ce sujet plus tard!). Un gigaoctet ne suffira même pas à stocker un milliard de nombres. Donc, notre fonction `is_prime` aurait entraîné des problèmes de mémoire dans Python 2.x, mais dans Python 3.x, nous n'avons pas à nous soucier (pour l'instant) de l'espace."
   ]
  },
  {
   "cell_type": "markdown",
   "metadata": {},
   "source": [
    "### Exercises\n",
    "\n",
    "1. Créez une fonction `my_abs(x)` qui affiche la valeur absolue de l'argument `x`. (Notez que Python a déjà une fonction `abs(x)` intégrée).\n",
    "\n",
    "2. Modifiez la fonction `is_prime` pour qu'elle affiche un message `Nombre trop grand` et renvoie `None` si l'argument d'entrée est supérieur à un million. (Notez que `None` est un mot réservé Python. Vous pouvez utiliser la déclaration à une ligne `return None`.)\n",
    "\n",
    "3. Ecrivez une fonction Python `thrarity` qui prend un argument `n`, et affiche la chaîne `threeven` si `n` est un multiple de trois, `throdd` si `n` est un multiple de trois plus un, ou `thrugly` si n est un multiple de trois moins un. Exemple: `thrarity(31)` devrait renvoyer `throdd` et `thrarity(44)` devrait renvoyer `thrugly`. Astuce: étudiez la syntaxe `if/elif` du [tutoriel Python officiel](https://docs.python.org/2/tutorial/controlflow.html#if-statements)\n",
    "\n",
    "4. Ecrivez une fonction Python `sum_of_squares(n)` qui trouve et imprime une paire de nombres entiers naturels $x$, $y$ tels que $x^2 + y^2 = n$. La fonction utilisera une recherche par force brute et retournera `None` s'il n'existe aucune telle paire de nombres."
   ]
  },
  {
   "cell_type": "code",
   "execution_count": null,
   "metadata": {
    "collapsed": true
   },
   "outputs": [],
   "source": [
    "#  Utilisez cet espace pour les réponses aux questions."
   ]
  },
  {
   "cell_type": "markdown",
   "metadata": {},
   "source": [
    "<a id='while'></a>"
   ]
  },
  {
   "cell_type": "markdown",
   "metadata": {},
   "source": [
    "## Boucles while et implémentation de l'algorithme d'Euclide"
   ]
  },
  {
   "cell_type": "markdown",
   "metadata": {},
   "source": [
    "Nous avons presque tous les outils nécessaires pour implémenter l'algorithme d'Euclide. Le dernier outil dont nous aurons besoin est la **boucle while**. Nous avons déjà vu la *boucle for*, ce qui est très utile pour itérer sur un range. L'algorithme d'Euclide implique la répétition, mais il n'y a aucun moyen de savoir à l'avance combien de pas il faudra faire. La boucle while nous permet de répéter un processus tant qu'une valeur booléenne (parfois appelée drapeau ou **flag**) est vraie. L'exemple de compte à rebours suivant illustre la structure d'une boucle while."
   ]
  },
  {
   "cell_type": "code",
   "execution_count": 34,
   "metadata": {
    "collapsed": true
   },
   "outputs": [],
   "source": [
    "def countdown(n):\n",
    "    current_value = n\n",
    "    while current_value > 0:  # The condition (current_value > 0) is checked before every instance of the scope!\n",
    "        print(current_value)\n",
    "        current_value = current_value - 1"
   ]
  },
  {
   "cell_type": "code",
   "execution_count": 35,
   "metadata": {
    "collapsed": false
   },
   "outputs": [
    {
     "name": "stdout",
     "output_type": "stream",
     "text": [
      "10\n",
      "9\n",
      "8\n",
      "7\n",
      "6\n",
      "5\n",
      "4\n",
      "3\n",
      "2\n",
      "1\n"
     ]
    }
   ],
   "source": [
    "countdown(10)"
   ]
  },
  {
   "cell_type": "markdown",
   "metadata": {},
   "source": [
    "La syntaxe de la boucle while commence par `while <boolean>:` et les lignes indentées suivantes constituent la portée de la boucle. Si le booléen est `True`, la portée de la boucle est exécutée. Si le booléen est à nouveau True après, la portée de la boucle est à nouveau exécutée. Encore et encore et ainsi de suite.\n",
    "\n",
    "Cela peut être un **processus dangereux** ! Par exemple, que se passerait-il si vous faisiez une petite faute de frappe et que la dernière ligne de la boucle while se lisait `current_value = current_value + 1` ? Les nombres augmenteraient et augmenteraient ... et la valeur booléenne `current_value > 0` serait **toujours** `True`. Par conséquent, la boucle ne se terminerait jamais. Des nombres de plus en plus grands défileraient sur votre écran d'ordinateur.\n",
    "\n",
    "Vous pourriez paniquer dans de telles circonstances et éteindre votre ordinateur pour arrêter la boucle. Voici quelques conseils pour savoir si votre ordinateur est bloqué par une boucle qui ne s'arrête jamais:\n",
    "\n",
    "1. Sauvegardez souvent votre travail. Lorsque vous programmez, assurez-vous que tout le reste est enregistré au cas où.\n",
    "2. Sauvegardez votre travail de programmation (utilisez \"Save and checkpoint\" dans le menu \"Fichier\"), surtout avant de lancer une cellule avec une boucle pour la première fois.\n",
    "3. Si vous restez bloqué dans une boucle sans fin, cliquez sur \"Kernel ... Interrupt\". Cela va souvent arrêter la boucle et vous permettre de reprendre là où vous étiez resté.\n",
    "4. Vous pouvez essayer un \"Force Quit\" du processus Python, à l'aide du gestionnaire d'activité.\n",
    "5. Enfin, le plus sûr, pensez à inclure systématiquement une condition de sécurité - par exemple, le nombre d'itérations doit être limité à 1000 - dans chaque boucle.\n",
    "\n",
    "Maintenant, si vous vous sentez courageux, sauvegardez votre travail, changez la boucle while pour qu’elle ne se termine jamais et essayez de récupérer là où vous l’avez laissé. Mais sachez que cela pourrait provoquer un blocage ou un comportement erratique de votre ordinateur, un crash de votre navigateur, etc. Ne paniquez pas ; cela ne brisera pas votre ordinateur de manière permanente.\n",
    "\n",
    "La boucle sans fin cause deux problèmes ici. L'un est avec votre processeur d'ordinateur, qui tournera essentiellement ses roues. Ceci est appelé [busy waiting](https://en.wikipedia.org/wiki/Busy_waiting), et votre ordinateur sera essentiellement occupé à attendre pour toujours. L'autre problème est que votre boucle imprime de plus en plus de lignes de texte dans le bloc-notes.\n",
    "Cela peut facilement bloquer votre navigateur Web, qui essaie de stocker et d'afficher des milliards de lignes de chiffres. Alors soyez prêt pour les problèmes!\n"
   ]
  },
  {
   "cell_type": "markdown",
   "metadata": {},
   "source": [
    "### L'algorithme d'Euclide avec une boucle while"
   ]
  },
  {
   "cell_type": "markdown",
   "metadata": {
    "collapsed": true
   },
   "source": [
    "L'**algorithme d'Euclide** est un processus répété de division avec reste. En commençant par deux entiers `a` (dividende) et `b` (diviseur), on calcule le quotient `q` et le reste `r` pour exprimer `a = qb + r`. Ensuite `b` devient le dividende et `r` devient le diviseur, et on répète. Enfin, le **dernier reste non nul** est le plus grand diviseur commun de `a` et` b`. C'est le sujet du Chapitre 1 de [Une théorie illustrée des nombres](http://bookstore.ams.org/mbk-105)."
   ]
  },
  {
   "cell_type": "markdown",
   "metadata": {},
   "source": [
    "Nous implémentons quelques variantes de l'algorithme d'Euclide. La première est une version \"bavarde\", pour montrer à l'utilisateur ce qui se passe à chaque étape. Nous utilisons une boucle while pour faire la répétition."
   ]
  },
  {
   "cell_type": "code",
   "execution_count": null,
   "metadata": {
    "collapsed": true
   },
   "outputs": [],
   "source": [
    "def Euclidean_algorithm(a,b):\n",
    "    dividend = a\n",
    "    divisor = b\n",
    "    while divisor != 0:   # Recall that != means \"is not equal to\".\n",
    "        quotient = dividend // divisor\n",
    "        remainder = dividend % divisor\n",
    "        print(\"{} = {} ({}) + {}\".format(dividend, quotient, divisor, remainder))\n",
    "        dividend = divisor  \n",
    "        divisor = remainder"
   ]
  },
  {
   "cell_type": "code",
   "execution_count": null,
   "metadata": {
    "collapsed": true
   },
   "outputs": [],
   "source": [
    "Euclidean_algorithm(133, 58)"
   ]
  },
  {
   "cell_type": "code",
   "execution_count": null,
   "metadata": {
    "collapsed": true
   },
   "outputs": [],
   "source": [
    "Euclidean_algorithm(1312331323, 58123123)"
   ]
  },
  {
   "cell_type": "markdown",
   "metadata": {},
   "source": [
    "C'est excellent si l'on veut connaître toutes les étapes de l'algorithme d'Euclide. Si nous voulons simplement connaître le GCD de deux nombres, nous pouvons être moins bavard. Nous retournons le dernier reste non nul après la fin de la boucle while. Ce dernier reste non nul devient le diviseur lorsque le reste devient zéro, puis il deviendra le dividende dans la ligne suivante (non imprimée). C'est pourquoi nous retournons la (valeur absolue) du dividende après la fin de la boucle. Vous pouvez insérer une ligne à la fin de la boucle, comme un dividende imprimé, un diviseur, le reste pour vous aider à suivre les variables."
   ]
  },
  {
   "cell_type": "code",
   "execution_count": null,
   "metadata": {
    "collapsed": true
   },
   "outputs": [],
   "source": [
    "def GCD(a,b):\n",
    "    dividend = a # The first dividend is a.\n",
    "    divisor = b # The first divisor is b.\n",
    "    while divisor != 0:   # Recall that != means \"not equal to\".\n",
    "        quotient = dividend // divisor\n",
    "        remainder = dividend % divisor\n",
    "        dividend = divisor  \n",
    "        divisor = remainder\n",
    "    return abs(dividend)  #  abs() is used, since we like our GCDs to be positive."
   ]
  },
  {
   "cell_type": "markdown",
   "metadata": {},
   "source": [
    "Note that the `return dividend` statement occurs *after* the scope of the while loop.  So as soon as the *divisor* variable equals zero, the funtion `GCD` returns the *dividend* variable and terminates.\n",
    "\n",
    "Notez que la déclaration`return dividend` se produit *après* la portée de la boucle while. Donc, dès que *divisor* est égal à zéro, la fonction `GCD` retourne `dividend` et se termine."
   ]
  },
  {
   "cell_type": "code",
   "execution_count": null,
   "metadata": {
    "collapsed": true
   },
   "outputs": [],
   "source": [
    "GCD(111,27)"
   ]
  },
  {
   "cell_type": "code",
   "execution_count": null,
   "metadata": {
    "collapsed": true
   },
   "outputs": [],
   "source": [
    "GCD(111,-27)"
   ]
  },
  {
   "cell_type": "markdown",
   "metadata": {},
   "source": [
    "Nous pouvons affiner notre code de plusieurs manières. Tout d'abord, notez que la variable `quotient` n'est jamais utilisée! C'était bien dans la version bavarde de l'algorithme d'Euclide, mais ne joue aucun rôle dans la recherche du GCD. Notre code amélioré se lit\n",
    "```python\n",
    "def GCD(a,b):\n",
    "    dividend = a  \n",
    "    divisor = b  \n",
    "    while divisor != 0:   # Recall that != means \"not equal to\".\n",
    "        remainder = dividend % divisor\n",
    "        dividend = divisor  \n",
    "        divisor = remainder\n",
    "    return abs(dividend) \n",
    "```"
   ]
  },
  {
   "cell_type": "markdown",
   "metadata": {},
   "source": [
    "Maintenant, il existe deux astuces Python que nous pouvons utiliser pour raccourcir le code. La première est appelée **affectation multiple**. Il est possible de définir les valeurs de deux variables sur une seule ligne de code, avec une syntaxe comme ci-dessous."
   ]
  },
  {
   "cell_type": "code",
   "execution_count": null,
   "metadata": {
    "collapsed": true
   },
   "outputs": [],
   "source": [
    "x, y = 2, 3  # Sets x to 2 and y to 3."
   ]
  },
  {
   "cell_type": "markdown",
   "metadata": {},
   "source": [
    "Ceci est particulièrement utile pour les attributions autoréférentielles, car comme pour les affectations ordinaires, le côté droit est évalué en premier, puis lié aux variables du côté gauche. Par exemple, après la ligne ci-dessus, essayez la ligne ci-dessous. Utilisez des instructions print pour voir quelles sont les valeurs des variables après !"
   ]
  },
  {
   "cell_type": "code",
   "execution_count": null,
   "metadata": {
    "collapsed": true
   },
   "outputs": [],
   "source": [
    "x, y = y, x #  Guess what this does!"
   ]
  },
  {
   "cell_type": "code",
   "execution_count": null,
   "metadata": {
    "collapsed": true
   },
   "outputs": [],
   "source": [
    "print(\"x =\", x) # One could use \"x = {}\".format(x) too.\n",
    "print(\"y =\", y)"
   ]
  },
  {
   "cell_type": "markdown",
   "metadata": {},
   "source": [
    "Maintenant, nous pouvons utiliser l'affectation multiple pour transformer trois lignes de code en une seule ligne de code. Car la variable `remainder` n'est utilisée que temporairement avant que sa valeur ne soit donnée à la variable `divisor`. En utilisant l'affectation multiple, les trois lignes\n",
    "```python\n",
    "    remainder = dividend % divisor\n",
    "    dividend = divisor  \n",
    "    divisor = remainder\n",
    "```\n",
    "peuvent être écrites en une seule,\n",
    "```python\n",
    "    dividend, divisor = divisor, dividend % divisor # Evaluations on the right occur before any assignments!\n",
    "```"
   ]
  },
  {
   "cell_type": "markdown",
   "metadata": {},
   "source": [
    "Voici notre nouvelle fonction GCD raccorcie \n",
    "```python\n",
    "def GCD(a,b):\n",
    "    dividend = a  \n",
    "    divisor = b  \n",
    "    while divisor != 0:   # Recall that != means \"not equal to\".\n",
    "        dividend, divisor = divisor, dividend % divisor\n",
    "    return abs(dividend)\n",
    "```"
   ]
  },
  {
   "cell_type": "markdown",
   "metadata": {},
   "source": [
    "L'astuce suivante implique la boucle while. La syntaxe habituelle a la forme `while <boolean>:` Mais si `while` est suivi d'un type numérique, par ex. while `while <int>:`, alors la boucle while s'exécutera tant que le nombre est différent de zéro! Par conséquent, la ligne\n",
    "```python\n",
    "while divisor != 0:\n",
    "```\n",
    "peut être remplacée par\n",
    "```python\n",
    "while divisor:\n",
    "```\n",
    "C'est seulement un truc. Cela ne va probablement rien accélérer, et cela ne rend pas votre programme plus facile à lire pour les débutants. Alors, utilisez-le si vous préférez communiquer avec des programmeurs Python expérimentés!\n",
    "Voici la fonction complète\n",
    "```python\n",
    "def GCD(a,b):\n",
    "    dividend = a  \n",
    "    divisor = b  \n",
    "    while divisor:   # Executes the scope if divisor is nonzero.\n",
    "        dividend, divisor = divisor, dividend % divisor\n",
    "    return abs(dividend)\n",
    "```"
   ]
  },
  {
   "cell_type": "markdown",
   "metadata": {},
   "source": [
    "L'amélioration suivante est un peu plus dangereuse pour les débutants, mais ça marche ici. En général, il peut être dangereux d'opérer directement sur les arguments d'une fonction. Mais dans ce contexte, c'est sûr et ça ne fait aucune différence pour l’interpréteur Python. Au lieu de créer de nouvelles variables appelées `dividend` and `divisor`, on peut manipuler `a` et `b` directement dans la fonction. Si vous faites cela, la fonction GCD peut être raccourcie comme suit."
   ]
  },
  {
   "cell_type": "code",
   "execution_count": null,
   "metadata": {
    "collapsed": true
   },
   "outputs": [],
   "source": [
    "def GCD(a,b):\n",
    "    while b:   # Recall that != means \"not equal to\".\n",
    "        a, b = b, a % b\n",
    "    return abs(a)"
   ]
  },
  {
   "cell_type": "code",
   "execution_count": null,
   "metadata": {
    "collapsed": true
   },
   "outputs": [],
   "source": [
    "# Essayez GCD sur de grands nombres et voyez comme ça tourne vite!"
   ]
  },
  {
   "cell_type": "markdown",
   "metadata": {},
   "source": [
    "This code is essentially optimal, if one wishes to execute the Euclidean algorithm to find the GCD of two integers.  It almost [matches the GCD code in a standard Python library](https://stackoverflow.com/a/18944210).  It might be slightly faster than our original code -- but there is a tradeoff here between execution speed and readability of code.  In this and the following lessons, we often optimize enough for everyday purposes, but not so much that readability is lost.\n",
    "\n",
    "Ce code est essentiellement optimal, si l'on souhaite exécuter l'algorithme euclidien pour trouver le GCD de deux entiers. Il correspond presque au [code GCD dans une bibliothèque Python standard](https://stackoverflow.com/a/18944210). Celui-ci peut être légèrement plus rapide que notre code, mais il existe un compromis entre la vitesse d'exécution et la lisibilité du code. Dans cette leçon et les suivantes, nous optimisons suffisamment pour les besoins courants, mais pas trop afin de garder une bonne lisibilité."
   ]
  },
  {
   "cell_type": "markdown",
   "metadata": {},
   "source": [
    "### Exercises\n",
    "\n",
    "1. Modifiez la fonction is_prime en utilisant une boucle while au lieu de `for j in range(2,n):`. En quoi cela pourrait-il être une amélioration par rapport à la boucle for?\n",
    "\n",
    "2. Modifiez la fonction `Euclidean_algorithm` pour créer une fonction qui renvoie le *nombre d'étapes* nécessaires à l'algorithme d'Euclide, c'est-à-dire le nombre de divisions avec reste.\n",
    "\n",
    "3. Créez une fonction qui effectue la division avec un reste minimal. En d'autres termes, étant donné les entiers a,  b, la fonction exprime a = qb + r, où r est un entier *positif ou négatif* inférieur à b/2. Utilisez une telle fonction pour créer un nouvel algorithme d'Euclide qui utilise le reste minimal.\n",
    "\n",
    "4. Pour vous, quelle fonction `GCD(a, b)` offre le meilleur compris entre efficacité et lisibilité ?"
   ]
  },
  {
   "cell_type": "code",
   "execution_count": null,
   "metadata": {
    "collapsed": true
   },
   "outputs": [],
   "source": [
    "# Répondre ici aux exercices"
   ]
  },
  {
   "cell_type": "markdown",
   "metadata": {},
   "source": [
    "<a id='solving'></a>"
   ]
  },
  {
   "cell_type": "markdown",
   "metadata": {},
   "source": [
    "## Solving the linear Diophantine equation"
   ]
  },
  {
   "cell_type": "markdown",
   "metadata": {},
   "source": [
    "In Chapter 1 of [An Illustrated Theory of Numbers](http://bookstore.ams.org/mbk-105), we not only used the Euclidean algorithm to find the GCD of two integers, but also to solve the linear Diophantine equation $ax + by = c$.  On paper, this required us to perform the Euclidean algorithm, then \"work backwards\" to carefully solve a series of linear equations.  This process is repetetive and error-prone... perfect for a computer.  \n",
    "\n",
    "So here we develop a function `solve_LDE(a,b,c)` which will describe all integer solutions $x,y$ to the equation $ax + by = c$."
   ]
  },
  {
   "cell_type": "markdown",
   "metadata": {},
   "source": [
    "The idea of the algorithm is to keep track of \"hops\" and \"skips\" throughout the Euclidean algorithm.  A general step in the Euclidean algorithm looks like `u = q(v) + r`.  The remainder can then be expressed by the formula `r = u - q(v)`.  If `u` and `v` can be built from hops and skips, then `r` can be built from hops and skips.  How many?  Just tally the hops and skips to find: \n",
    "\n",
    "<p style=\"text-align: center;\">`r_hops = u_hops - q (v_hops)` and `r_skips = u_skips - q (v_skips)`.</p>\n",
    "\n",
    "This sort of tallying is what makes the algorithm below work.  The function below does not introduce any new programming concepts, but it assembles many ideas together.\n"
   ]
  },
  {
   "cell_type": "code",
   "execution_count": null,
   "metadata": {
    "collapsed": true
   },
   "outputs": [],
   "source": [
    "def hop_and_skip(a,b):\n",
    "    '''\n",
    "    Takes two integer arguments a,b, and prints a sentence of the form\n",
    "    GCD(a,b) = x(a) + y(b).  The method is the Euclidean algorithm,\n",
    "    tallying hops (units of a) and skips (units of b) along the way.\n",
    "    '''\n",
    "    u = a # We use u instead of dividend.\n",
    "    v = b # We use v instead of divisor.\n",
    "    u_hops, u_skips = 1,0 # u is built from one hop (a) and no skips, for now.\n",
    "    v_hops, v_skips = 0,1 # v is built from no hops and one skip (b), for now.\n",
    "    while v != 0:   # We could just write \"while v:\"\n",
    "        q = u // v  # q stands for quotient.\n",
    "        r = u % v  # r stands for remainder.  So u = q(v) + r.\n",
    "        \n",
    "        r_hops = u_hops - q * v_hops  # Tally hops\n",
    "        r_skips = u_skips - q * v_skips  # Tally skips\n",
    "        \n",
    "        u,v = v,r  # The new dividend,divisor is the old divisor,remainder.\n",
    "        u_hops, v_hops = v_hops, r_hops # The new u_hops, v_hops is the old v_hops, r_hops\n",
    "        u_skips, v_skips = v_skips, r_skips # The new u_skips, v_skips is the old v_skips, r_skips\n",
    "    \n",
    "    print(\"{} = {}({}) + {}({})\".format(u,u_hops,a,u_skips,b))"
   ]
  },
  {
   "cell_type": "code",
   "execution_count": null,
   "metadata": {
    "collapsed": true
   },
   "outputs": [],
   "source": [
    "hop_and_skip(102,45)"
   ]
  },
  {
   "cell_type": "markdown",
   "metadata": {},
   "source": [
    "Try out the hop_and_skip code on some integers of your choice.  Does it behave correctly?  Check the results, using Python as a calculator.  Does it run quickly for large integers?"
   ]
  },
  {
   "cell_type": "code",
   "execution_count": null,
   "metadata": {
    "collapsed": true
   },
   "outputs": [],
   "source": [
    "#  Experimentation space here.\n"
   ]
  },
  {
   "cell_type": "markdown",
   "metadata": {},
   "source": [
    "To conclude this lesson, we put everything together to create a long(ish) function to solve linear Diophantine equations.  We want this function to be smart enough to respond when an equation has no solutions, and to describe *all* solutions when they exist.  \n",
    "\n",
    "The first part of the function `solve_LDE` is the same as the hop and skip function above.  But rather than expressing $GCD(a,b)$ as $ax + by$, the function uses the GCD to determine the existence and the general form of a solution to $ax + by = c$.  The formula for the general form comes from [An Illustrated Theory of Numbers](http://bookstore.ams.org/mbk-105), Chapter 1, Corollary 1.25."
   ]
  },
  {
   "cell_type": "code",
   "execution_count": null,
   "metadata": {
    "collapsed": true
   },
   "outputs": [],
   "source": [
    "def solve_LDE(a,b,c):\n",
    "    '''\n",
    "    Describes all of the solutions to the linear Diophantine equation\n",
    "    ax + by = c.  There are either no solutions or infinitely many solutions.\n",
    "    Prints a description of the solution set, and returns None if there are no solutions\n",
    "    or returns a single solution if one exists.\n",
    "    '''  \n",
    "    u = a # We use u instead of dividend.\n",
    "    v = b # We use v instead of divisor.\n",
    "    u_hops, u_skips = 1,0 # u is built from one hop (a) and no skips.\n",
    "    v_hops, v_skips = 0,1 # v is built from no hops and one skip (b).\n",
    "    while v != 0:   # We could just write while v:\n",
    "        q = u // v  # q stands for quotient.\n",
    "        r = u % v  # r stands for remainder.  So u = q(v) + r.\n",
    "        \n",
    "        r_hops = u_hops - q * v_hops  # Tally hops\n",
    "        r_skips = u_skips - q * v_skips  # Tally skips\n",
    "        \n",
    "        u,v = v,r  # The new dividend,divisor is the old divisor,remainder.\n",
    "        u_hops, v_hops = v_hops, r_hops # The new u_hops, v_hops is the old v_hops, r_hops\n",
    "        u_skips, v_skips = v_skips, r_skips # The new u_skips, v_skips is the old v_skips, r_skips\n",
    "    \n",
    "    g = u # The variable g now describes the GCD of a and b.\n",
    "    \n",
    "    if c%g == 0:  # When GCD(a,b) divides c...\n",
    "        d = c//g\n",
    "        x = d * u_hops\n",
    "        y = d * u_skips  # Now ax + by = c is a specific solution!\n",
    "        print(\"{} x + {} y = {} if and only if \".format(a, b, c))\n",
    "        print(\"x = {} + {} n and y = {} - {} n, for some integer n.\".format(x,b//g,y,-a//g))\n",
    "        return x,y\n",
    "    else:  # When GCD(a,b) does not divide c...\n",
    "        print(\"There are no solutions to {} x + {} y = {},\".format(a,b,c))\n",
    "        print(\"because GCD({}, {}) = {}, which does not divide {}.\".format(a,b,g,c))\n",
    "        return None"
   ]
  },
  {
   "cell_type": "code",
   "execution_count": null,
   "metadata": {
    "collapsed": true
   },
   "outputs": [],
   "source": [
    "solve_LDE(102,45,3)"
   ]
  },
  {
   "cell_type": "code",
   "execution_count": null,
   "metadata": {
    "collapsed": true
   },
   "outputs": [],
   "source": [
    "solve_LDE(72,100,17)"
   ]
  },
  {
   "cell_type": "markdown",
   "metadata": {},
   "source": [
    "### Exercises\n",
    "\n",
    "1.  Solve problems 4-7 of Chapter 1 of [An Illustrated Theory of Numbers](http://bookstore.ams.org/mbk-105) using the `solve_LDE` function.\n",
    "\n",
    "2.  Write an `LCM` function, using the previous `GCD` function and the GCD-LCM product formula, Theorem 1.23 of [An Illustrated Theory of Numbers](http://bookstore.ams.org/mbk-105).\n",
    "\n",
    "3.  Sometimes it is important to find not the integer solutions, but the *positive* integer solutions to a Diophantine equation.  Modify the `solve_LDE` function to create a `solve_LDE_positive(a,b,c)` function.  The output of the function should be all pairs of *positive* integers $x$, $y$, such that $ax + by = c$ (if any pairs exist), and a helpful message if no pairs exist (and a `return None` should be used in this case)."
   ]
  },
  {
   "cell_type": "code",
   "execution_count": null,
   "metadata": {
    "collapsed": true
   },
   "outputs": [],
   "source": [
    "#  Use this space to work on the exercises.\n"
   ]
  }
 ],
 "metadata": {
  "anaconda-cloud": {},
  "kernelspec": {
   "display_name": "Python [default]",
   "language": "python",
   "name": "python3"
  },
  "language_info": {
   "codemirror_mode": {
    "name": "ipython",
    "version": 3
   },
   "file_extension": ".py",
   "mimetype": "text/x-python",
   "name": "python",
   "nbconvert_exporter": "python",
   "pygments_lexer": "ipython3",
   "version": "3.5.2"
  }
 },
 "nbformat": 4,
 "nbformat_minor": 1
}
