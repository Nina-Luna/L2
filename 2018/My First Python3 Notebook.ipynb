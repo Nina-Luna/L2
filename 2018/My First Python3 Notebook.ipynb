{
 "cells": [
  {
   "cell_type": "markdown",
   "metadata": {},
   "source": [
    "# Une brève introduction aux Notebooks Jupyter pour Python3."
   ]
  },
  {
   "cell_type": "markdown",
   "metadata": {},
   "source": [
    "Ceci est un notebook Jupyter.  **Python** est un langage de programmation, et un **notebook Jupyter** est un document interactif qui contient du texte (comme ce que vous êtes en train de lire maintenant) et du code Python.  Les notebooks Jupyter seront utilisés tout au long du tutoriel, et ceci est une brève introduction à cette interface.\n",
    "\n",
    "## Table des matières\n",
    "\n",
    "1.  [Cellules d'un notebook](#cells)\n",
    "2.  [Syntaxe Markdown](#markdown)\n",
    "3.  [Sauver, charger, imprimer](#files)"
   ]
  },
  {
   "cell_type": "markdown",
   "metadata": {},
   "source": [
    "<a id='cells'></a>"
   ]
  },
  {
   "cell_type": "markdown",
   "metadata": {},
   "source": [
    "##  Cellules d'un notebook"
   ]
  },
  {
   "cell_type": "markdown",
   "metadata": {},
   "source": [
    "Cliquez dans la cellule ci-dessous, dans la partie à droite du prompt `In [2]:` Une bordure devrait apparaître autour de la cellule, avec une barre verte sur le côté, indiquant que la cellule est active. Puis appuyez sur la touche *shift-Enter* (tenir enfoncée la touche  *shift* tout en appuyant sur la touche  *Enter*) du clavier pour **évaluer** la cellule."
   ]
  },
  {
   "cell_type": "code",
   "execution_count": 7,
   "metadata": {
    "collapsed": false
   },
   "outputs": [
    {
     "data": {
      "text/plain": [
       "4"
      ]
     },
     "execution_count": 7,
     "metadata": {},
     "output_type": "execute_result"
    }
   ],
   "source": [
    "2+2"
   ]
  },
  {
   "cell_type": "markdown",
   "metadata": {},
   "source": [
    "Si un message comme `Out[1]:  4` apparaît, alors tout marche correctement !"
   ]
  },
  {
   "cell_type": "markdown",
   "metadata": {},
   "source": [
    "Les notebooks Jupyter sont constitués de **cellules**.  Il y a deux types principaux de cellules :les **cellules Markdown** and **cellules de Code**.  Le contenu textuel sera contenu dans des cellules Markdown comme celle-ci.  Le contenu de programmation sera contenu dans des cellules de Code, comme la cellule `2+2` ci-dessus.\n",
    "\n",
    "Si une cellule a une bordure verte, ceci veut dire que vous êtes en train de l'éditer.  Si elle a une bordure bleue, c'est qu'elle est sélectionnée (et peut être coupée-collée, etc.) mais pas éditée.  Dans les autres cas elle n'est pas active.\n",
    "Pour éditer une cellule de Code, cliquez n'importe où dans sa zonz d'évaluation. Par exemple, vous pouvez cliquer la cellule `2+2`, changer les nombres en `2+3` et la re-évaluer avec *shift-Enter*.  \n",
    "\n",
    "Pour éditer une cellule Markdown comme celle-ci, double-cliquez n'importe où dansle corps de la cellule. Vous pouvez écrire du Markdown comme n'importe quel document text, pour la plus grande partie.  Quand vous avez fini d'éditer la cellule Markdown, appuyez sur *shift-Enter*.\n",
    "\n",
    "Pour convertir une cellule de Code à Markdown ou inversement, vous devriez voir un menu déroulant avec \"Markdown\" ou \"Code\" visible, juste en haut du notebook. Vous devez juste sélectionner le type de cellule choisi dans le menu déroulant.\n",
    "Comme exercice, changez la cellule ci-dessous en Markdown, et écrivez une phrase ou deux. Evaluer avec *shift-Enter*."
   ]
  },
  {
   "cell_type": "code",
   "execution_count": null,
   "metadata": {
    "collapsed": true
   },
   "outputs": [],
   "source": [
    "#  Convertissez cette cellule en cellule Markdown, et écrivez quelque chose."
   ]
  },
  {
   "cell_type": "markdown",
   "metadata": {},
   "source": [
    "Maintenant, convertissez la cellule ci-dessous en cellule Code, et utilisez la pour calculer `999 * 999`."
   ]
  },
  {
   "cell_type": "markdown",
   "metadata": {},
   "source": [
    "(Je suis une cellule markdown. Convertissez moi en cellule Code et calculez `999*999`)"
   ]
  },
  {
   "cell_type": "markdown",
   "metadata": {},
   "source": [
    "Souvent vous voudrez **insérer une nouvelle cellule** au-dessus ou au-dessous d'une cellule donnée. Pour cela, vous devez selectionner la cellule en cliquant en marge sur sa gauche, de façon à obtenit une bordure bleue.\n",
    "\n",
    "Une fois la bordure bleue visible, vous pouvez ajouter une nouvelle cellule **au-dessus** en appuyant sur la touche **a** (comme above). Vous pouvez ajouter une nouvelle cellule **au-dessous** en appuyant sur la touche **b** (comme below). Essayez d'ajouter une nouvelle cellule au-dessus puis au-dessous de la cellule Markdown ci-dessous. Les cellules nouvellement créées sont probablement des cellules Code par défaut.\n",
    "\n",
    "Au lieu d'appuyer sur les touches **a** ou **b**, vous pouvez aussi appuyer sur la touche **x**. Ceci détruira la cellule ; soyez donc prudent et sauvegardez souvent."
   ]
  },
  {
   "cell_type": "markdown",
   "metadata": {},
   "source": [
    "(Je suis une cellule Markdown.  Ajoutez une nouvelle cellule au-dessus et au-dessous de moi.)"
   ]
  },
  {
   "cell_type": "markdown",
   "metadata": {},
   "source": [
    "Une petite note : il y a quelques **cellules invisibles** dans ce notebook, et dans d'utres notebooks de ce tutoriel. En fait, une de ces cellules furtives se trouve juste au-dessous ! C'est une cellule Markdown, comme vous pouvez le voir en double-cliquant dessus. Son contenu est `<a id='markdown'></a>`, c'est un bout de code HTML qui permet d'activer les liens dans la tables des matières. Ne modifiez pas ces cellules Markdown, à moins que vous ne vouliez changer les liens de la table des matières."
   ]
  },
  {
   "cell_type": "markdown",
   "metadata": {},
   "source": [
    "<a id='markdown'></a>"
   ]
  },
  {
   "cell_type": "markdown",
   "metadata": {},
   "source": [
    "## Markdown de base pour les notebooks Jupyter"
   ]
  },
  {
   "cell_type": "markdown",
   "metadata": {},
   "source": [
    "Dans ce tutoriel vous allez apprendre à coder en Python. Au fur et à mesure de votre apprentissage, vous expérimenterez les cellules Code, et écrirez les réponses aux questions et d'autres notes dans les cellules Markdown. Markdown est un langage d'édition de texte, une sorte d'extension de HTLM. Voici un petit guide pour écrire en Markdown."
   ]
  },
  {
   "cell_type": "markdown",
   "metadata": {},
   "source": [
    "La plupart du temps, vous pouvez écrire du Markdown à peu près comme n'importe quel texte. Une petite différence est que pour commencer une nouvelle ligne, vous devez insérer une ligne vide supplémentaire dans le Markdown. Double-cliquez cette cellule pour voir comment le nouveau paragraphe ci-dessous est créé.\n",
    "\n",
    "Markdown possède de nombreuses possibilités : on peut utiliser différentes polices de caractères, des listes , des en-têtes, des liens, etc.. "
   ]
  },
  {
   "cell_type": "markdown",
   "metadata": {},
   "source": [
    "### Polices de caractères\n",
    "Pour mettre du texte en *italique* ou en **gras**, vous entourrez le texte par des astérisques, simples ou doubles. \n",
    "Double-cliquez dans cette cellule pour voir comment c'est fait. Puis, créez une nouvelle cellule ci-dessous pour expérimenter."
   ]
  },
  {
   "cell_type": "markdown",
   "metadata": {},
   "source": [
    "### Listes\n",
    "\n",
    "Il est souvent utile de créer des listes. Les deux sortes de liste qu'on utilisera sont les listes numérotées ou non-numérotées. En Markdown c'est facile ; pour une liste numérotée, démarrez chaque nouvelle ligne par un numéro. Double-cliquez cette cellule pour voir.\n",
    "1. Première ligne.\n",
    "2. Deuxième ligne.\n",
    "3. Troisième ligne."
   ]
  },
  {
   "cell_type": "markdown",
   "metadata": {},
   "source": [
    "Pour une liste non-numérotée, commencez chaque nouvelle ligne par un tiret `-` (quelques autres symboles marchent aussi).  Double-cliquez pour voir.\n",
    "\n",
    "- Première ligne.\n",
    "- Deuxième ligne.\n",
    "- Troisième ligne.\n",
    "\n",
    "Maintenant, retour au texte normal."
   ]
  },
  {
   "cell_type": "markdown",
   "metadata": {},
   "source": [
    "Vous pouvez imbriquer vos listes. Mais les gens utilisent trop souvent les listes imbriquées dans leurs écrits et présentations. Les listes sont utiles mais on doit utiliser les paragraphes plus souvent. Si vous voulez imbriquer des listes, double-cliquez cette cellule pour voir son code Markdown, et les indentations utilisées.\n",
    "\n",
    "1. Première ligne.\n",
    "    - Première sous-ligne\n",
    "    - Deuxième sous-ligne\n",
    "2. Deuxième ligne.\n",
    "3. Troisième ligne.\n",
    "\n",
    "Maintenant, retour au texte normal."
   ]
  },
  {
   "cell_type": "markdown",
   "metadata": {},
   "source": [
    "### Titres\n",
    "Il y a différents types de titres, c'est-à-dire des titres, sous-titres, qui seront typiquement rendus en caractères gras de différentes tailles. Pour un titre de haut niveau, utilisez un simple hashtag `#`. Au niveau suivant, utilisez un double  hashtag `##`, et ainsi de suite. Double-cliquez pour voir.\n",
    "There are different levels of headings, i.e., headings, subheadings, etc., which typically render as boldface text of different sizes.  To make a top-level heading, a single hashtag `#` is used.  The next level heading is created with a double hashtag `##`, and so on.  Double-click this cell to see how it was done.\n",
    "\n",
    "#  Titre de haut niveau.\n",
    "## Titre au niveau suivant.\n",
    "### Titre de troisème niveau.\n",
    "#### Titre de quatrième niveau. "
   ]
  },
  {
   "cell_type": "markdown",
   "metadata": {},
   "source": [
    "### Liens\n",
    "Enfin, nous discutons comment insérer des liens internet dans votre code Markdown. Par exemple, voici un lien vers la page du livre [An Illustrated Theory of Numbers](http://bookstore.ams.org/mbk-105). Le texte affiché doit être entouré de crochets et suivi de l'URL (adresse web) entre parenthèses. Double-cliquez pour voir."
   ]
  },
  {
   "cell_type": "markdown",
   "metadata": {},
   "source": [
    "### Conclusion\n",
    "On peut faire beaucoup d'autres choses en Markdown. En fait Markdown est une extension de HTML, donc on peut mettre n'importe quel contenu web dans une cellule Markdown. Une rapide recherche Google permet de trouver beaucoup de tutoriels Markdown, mais on doit préciser Markdown and Jupyter pour avoir une version plus particulièrement adaptée à Jupyter. On peut ainsi incorporer dans son texte \n",
    "\n",
    "des formules mathématiques\n",
    "\n",
    "$$e^x=\\sum_{i=0}^\\infty \\frac{1}{i!}x^i$$\n",
    "\n",
    "ou du code Python\n",
    "\n",
    "```python \n",
    "import abc\n",
    "def f(x):\n",
    "    \"\"\"a docstring\"\"\"\n",
    "    return x**2\n",
    "```\n",
    "\n",
    "ou encore des tableaux\n",
    "\n",
    "First Header  | Second Header\n",
    "------------- | -------------\n",
    "Content Cell  | Content Cell\n",
    "Content Cell  | Content Cell\n",
    "\n",
    "There is much much more you can do with Markdown.  In fact, Markdown is a superset of HTML, so you can put just about any basic web content in a Markdown cell.  A quick google search will turn up lots of Markdown guides, and it's best to search for Markdown and Jupyter to find a guide for Jupyter's particular flavor of Markdown (which differs a bit from WordPress markdown, for example).  "
   ]
  },
  {
   "cell_type": "markdown",
   "metadata": {},
   "source": [
    "## Saving, loading, and printing notebooks"
   ]
  },
  {
   "cell_type": "markdown",
   "metadata": {},
   "source": [
    "You can save, load, and print Jupyter notebooks.  In fact, it's probably a good time to save this notebook since you've edited the markdown so far.  Go to \"File...Save and Checkpoint\" (the File menu just under \"Jupyter\") to save your notebook so far.\n",
    "\n"
   ]
  },
  {
   "cell_type": "markdown",
   "metadata": {},
   "source": [
    "The standard notebook file format is `.ipynb` which stands for \"iPython Notebook\", since Jupyter used to be called iPython.  If you go to \"File...Download as...\", then \"IPython Notebook\" will be the top choice.  You will always be able to reload your notebook and edit it, if you save it as an iPython Notebook.\n",
    "\n",
    "You may also want to save a copy as an `.html` file.  HTML is the code used to render webpages, and so it's good for sharing with anyone with a web browser.  Also, your web browser can probably print the HTML file nicely, so it's a good format for printing.  You can go directly to \"File...Print preview\" to see what the notebook will look like when printed.\n",
    "\n",
    "To open a Python notebook, you can go to \"File...Open\" or you can return to your original Jupyter tab (if it's still there) and browse directories to find notebook files.  But Jupyter must be started to load python notebooks on your computer.\n",
    "\n",
    "\n",
    "\n"
   ]
  },
  {
   "cell_type": "markdown",
   "metadata": {},
   "source": [
    "One more tool to learn about is [GitHub](https://github.com/).  GitHub is a website which allows users to share and develop software of all sorts.  It's used for collaborative software development, and has many desirable features like \"versioning\" (keeping track of versions along the way as various parties make edits).  You can freely use GitHub to store your Python notebooks.  GitHub takes a bit of practice, but it's worth the effort in the long run. \n",
    "\n",
    "The tutorial notebooks are stored on GitHub for a few reasons.  First, they can be easily edited and improved.  Second, they become freely and publicly available.  Go to [my GitHub page](https://github.com/MartyWeissman/Python-for-number-theory) to see them!  Third, even though they are stored in `.ipynb` format, anyone can view Python notebooks on the web using the [Jupyter Notebook Viewer](https://nbviewer.jupyter.org/).  For example, you can use the Jupyter Notebook Viewer to see [this notebook online](https://nbviewer.jupyter.org/github/MartyWeissman/Python-for-number-theory/blob/master/My%20First%20Python%20Notebook.ipynb)."
   ]
  },
  {
   "cell_type": "markdown",
   "metadata": {},
   "source": [
    "Now you know more than enough to begin the Python tutorials.  Download the notebooks and **happy programming**!"
   ]
  },
  {
   "cell_type": "code",
   "execution_count": null,
   "metadata": {
    "collapsed": true
   },
   "outputs": [],
   "source": []
  }
 ],
 "metadata": {
  "anaconda-cloud": {},
  "kernelspec": {
   "display_name": "Python [default]",
   "language": "python",
   "name": "python3"
  },
  "language_info": {
   "codemirror_mode": {
    "name": "ipython",
    "version": 3
   },
   "file_extension": ".py",
   "mimetype": "text/x-python",
   "name": "python",
   "nbconvert_exporter": "python",
   "pygments_lexer": "ipython3",
   "version": "3.5.2"
  }
 },
 "nbformat": 4,
 "nbformat_minor": 1
}
