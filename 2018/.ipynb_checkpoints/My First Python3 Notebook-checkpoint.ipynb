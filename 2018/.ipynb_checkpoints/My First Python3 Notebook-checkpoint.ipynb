{
 "cells": [
  {
   "cell_type": "markdown",
   "metadata": {},
   "source": [
    "# Une brève introduction aux Notebooks Jupyter pour Python3."
   ]
  },
  {
   "cell_type": "markdown",
   "metadata": {},
   "source": [
    "Ceci est un notebook Jupyter.  **Python** est un langage de programmation, et un **notebook Jupyter** est un document interactif qui contient du texte (comme ce que vous êtes en train de lire maintenant) et du code Python.  Les notebooks Jupyter seront utilisés tout au long du tutoriel, et ceci est une brève introduction à cette interface.\n",
    "\n",
    "## Table des matières\n",
    "\n",
    "1.  [Cellules d'un notebook](#cells)\n",
    "2.  [Syntaxe Markdown](#markdown)\n",
    "3.  [Sauver, charger, imprimer](#files)"
   ]
  },
  {
   "cell_type": "markdown",
   "metadata": {},
   "source": [
    "<a id='cells'></a>"
   ]
  },
  {
   "cell_type": "markdown",
   "metadata": {},
   "source": [
    "##  Cellules d'un notebook"
   ]
  },
  {
   "cell_type": "markdown",
   "metadata": {},
   "source": [
    "Cliquez dans la cellule ci-dessous, dans la partie à droite du prompt `In [2]:` Une bordure devrait apparaître autour de la cellule, avec une barre verte sur le côté, indiquant que la cellule est active. Puis appuyez sur la touche *shift-Enter* (tenir enfoncée la touche  *shift* tout en appuyant sur la touche  *Enter*) du clavier pour **évaluer** la cellule."
   ]
  },
  {
   "cell_type": "code",
   "execution_count": 7,
   "metadata": {
    "collapsed": false
   },
   "outputs": [
    {
     "data": {
      "text/plain": [
       "4"
      ]
     },
     "execution_count": 7,
     "metadata": {},
     "output_type": "execute_result"
    }
   ],
   "source": [
    "2+2"
   ]
  },
  {
   "cell_type": "markdown",
   "metadata": {},
   "source": [
    "Si un message comme `Out[1]:  4` apparaît, alors tout marche correctement !"
   ]
  },
  {
   "cell_type": "markdown",
   "metadata": {},
   "source": [
    "Les notebooks Jupyter sont constitués de **cellules**.  Il y a deux types principaux de cellules :les **cellules Markdown** and **cellules de Code**.  Le contenu textuel sera contenu dans des cellules Markdown comme celle-ci.  Le contenu de programmation sera contenu dans des cellules de Code, comme la cellule `2+2` ci-dessus.\n",
    "\n",
    "Si une cellule a une bordure verte, ceci veut dire que vous êtes en train de l'éditer.  Si elle a une bordure bleue, c'est qu'elle est sélectionnée (et peut être coupée-collée, etc.) mais pas éditée.  Dans les autres cas elle n'est pas active.\n",
    "Pour éditer une cellule de Code, cliquez n'importe où dans sa zonz d'évaluation. Par exemple, vous pouvez cliquer la cellule `2+2`, changer les nombres en `2+3` et la re-évaluer avec *shift-Enter*.  \n",
    "\n",
    "Pour éditer une cellule Markdown comme celle-ci, double-cliquez n'importe où dansle corps de la cellule. Vous pouvez écrire du Markdown comme n'importe quel document text, pour la plus grande partie.  Quand vous avez fini d'éditer la cellule Markdown, appuyez sur *shift-Enter*.\n",
    "\n",
    "Pour convertir une cellule de Code à Markdown ou inversement, vous devriez voir un menu déroulant avec \"Markdown\" ou \"Code\" visible, juste en haut du notebook. Vous devez juste sélectionner le type de cellule choisi dans le menu déroulant.\n",
    "Comme exercice, changez la cellule ci-dessous en Markdown, et écrivez une phrase ou deux. Evaluer avec *shift-Enter*."
   ]
  },
  {
   "cell_type": "code",
   "execution_count": null,
   "metadata": {
    "collapsed": true
   },
   "outputs": [],
   "source": [
    "#  Convertissez cette cellule en cellule Markdown, et écrivez quelque chose."
   ]
  },
  {
   "cell_type": "markdown",
   "metadata": {},
   "source": [
    "Maintenant, convertissez la cellule ci-dessous en cellule Code, et utilisez la pour calculer `999 * 999`."
   ]
  },
  {
   "cell_type": "markdown",
   "metadata": {},
   "source": [
    "(Je suis une cellule markdown. Convertissez moi en cellule Code et celculez `999*999`)"
   ]
  },
  {
   "cell_type": "markdown",
   "metadata": {},
   "source": [
    "Souvent vous voudrez **insérer une nouvelle cellule** au-dessus ou au-dessous d'une cellule donnée. Pour cela, vous devez selectionner la cellule en cliquant en marge sur sa gauche, de façon à obtenit une bordure bleue.\n",
    "\n",
    "Une fois la bordure bleue visible, vous pouvez ajouter une nouvelle cellule **au-dessus** en appuyant sur la touche **a** (comme above). Vous pouvez ajouter une nouvelle cellule **au-dessous** en appuyant sur la touche **b** (comme below). Essayez d'ajouter une nouvelle cellule au-dessus puis au-dessous de la cellule Markdown ci-dessous. Les cellules nouvellement créées sont probablement des cellules Code par défaut.\n",
    "\n",
    "Au lieu d'appuyer sur les touches **a** ou **b**, vous pouvez aussi appuyer sur la touche **x**. Ceci détruira la cellule ; soyez donc prudent et sauvegardez souvent."
   ]
  },
  {
   "cell_type": "markdown",
   "metadata": {},
   "source": [
    "(Je suis une cellule Markdown.  Ajoutez une nouvelle cellule au-dessus et au-dessous de moi.)"
   ]
  },
  {
   "cell_type": "markdown",
   "metadata": {},
   "source": [
    "Une petite note : il y a quelques **cellules invisibles** dans ce notebook, et dans d'utres notebooks de ce tutoriel. En fait, une de ces cellules furtives se trouve juste au-dessous ! C'est une cellule Markdown, comme vous pouvez le voir en double-cliquant dessus. Son contenu est `<a id='markdown'></a>`, c'est un bout de code HTML qui permet d'activer les liens dans la tables des matières. Ne modifiez pas ces cellules Markdown, à moins que vous ne vouliez changer les liens de la table des matières."
   ]
  },
  {
   "cell_type": "markdown",
   "metadata": {},
   "source": [
    "<a id='markdown'></a>"
   ]
  },
  {
   "cell_type": "markdown",
   "metadata": {},
   "source": [
    "## Basic Markdown for Jupyter notebooks"
   ]
  },
  {
   "cell_type": "markdown",
   "metadata": {},
   "source": [
    "You will learn more about Python code in the tutorial.  As you are learning, you should experiment in code cells, and write answers to questions and other notes in markdown cells.  Markdown is a neat text-editing language, a sort of shorthand that extends HTML.  Here is a brief guide to typing in Markdown."
   ]
  },
  {
   "cell_type": "markdown",
   "metadata": {},
   "source": [
    "Most of the time, you can type Markdown just like any old text document.  One little difference is that to start a new line, you have to insert an extra empty line in the Markdown.  Double-click this cell to see how the new paragraph was started below.  \n",
    "\n",
    "Markdown has many more features that you'll notice in this document: there are different typefaces, lists, headings, links, and more.  "
   ]
  },
  {
   "cell_type": "markdown",
   "metadata": {},
   "source": [
    "### Typefaces\n",
    "\n",
    "To change from plain text to *italics* or to **boldface**, you surround the text by asterisks or double-asterisks.  Double-click inside this Markdown cell to see how it was done!  Then insert a new Markdown cell below this one to experiment.  Strictly speaking, the single-asterisks are used to convert to the HTML `<em>` tag, which places emphasis on text.  The double-asterisks convert to the HTML `<strong>` tag, which is often boldfaced.  But different web-browsers behave differently."
   ]
  },
  {
   "cell_type": "markdown",
   "metadata": {},
   "source": [
    "### Lists\n",
    "\n",
    "Often it is useful to make lists.  The two kinds of lists we'll use are numbered lists and unnumbered lists.  These are easy in Markdown.  For a numbered list, just start each new line with a number.  Double-click this cell to see how it was done.\n",
    "\n",
    "1.  This is the first line.\n",
    "2.  This is the second line.\n",
    "3.  This is the third line."
   ]
  },
  {
   "cell_type": "markdown",
   "metadata": {},
   "source": [
    "For an unnumbered (bulleted) list, start each new line with a dash `-` (a few other symbols work too).  Double-click this cell to see how it was done.\n",
    "\n",
    "-  This is the first line.\n",
    "-  This is the second line.\n",
    "-  This is the third line.\n",
    "\n",
    "Now I'm back to ordinary text again."
   ]
  },
  {
   "cell_type": "markdown",
   "metadata": {},
   "source": [
    "You can nest your lists.  But people get too attached to nested hierarchies in their writing and presentations.  Lists have their place, but paragraphs should be more common.  If you must nest a list, double-click this cell to see how it was done, with a bit of indentation.  \n",
    "\n",
    "-  This is the first line.\n",
    "    - This is the first subline within the first line.\n",
    "    - This is the second subline within the first line.\n",
    "-  This is the second line.\n",
    "-  This is the third line.\n",
    "\n",
    "Now I'm back to ordinary text again."
   ]
  },
  {
   "cell_type": "markdown",
   "metadata": {},
   "source": [
    "### Headings\n",
    "\n",
    "There are different levels of headings, i.e., headings, subheadings, etc., which typically render as boldface text of different sizes.  To make a top-level heading, a single hashtag `#` is used.  The next level heading is created with a double hashtag `##`, and so on.  Double-click this cell to see how it was done.\n",
    "\n",
    "#  A top-level heading.\n",
    "## The next-level heading.\n",
    "### A third-level heading.\n",
    "#### A fourth-level heading. "
   ]
  },
  {
   "cell_type": "markdown",
   "metadata": {},
   "source": [
    "### Links\n",
    "\n",
    "Finally, we discuss how to insert web-links in your Markdown code.  For example, here is a [link to the webpage to buy An Illustrated Theory of Numbers](http://bookstore.ams.org/mbk-105).  The general syntax is that the displayed text goes in brackets followed by the URL (web address) in parentheses.  Double-click this cell to see how it was done."
   ]
  },
  {
   "cell_type": "markdown",
   "metadata": {},
   "source": [
    "### Conclusion\n",
    "\n",
    "There is much much more you can do with Markdown.  In fact, Markdown is a superset of HTML, so you can put just about any basic web content in a Markdown cell.  A quick google search will turn up lots of Markdown guides, and it's best to search for Markdown and Jupyter to find a guide for Jupyter's particular flavor of Markdown (which differs a bit from WordPress markdown, for example).  "
   ]
  },
  {
   "cell_type": "markdown",
   "metadata": {
    "collapsed": true
   },
   "source": [
    "<a id='files'></a>"
   ]
  },
  {
   "cell_type": "markdown",
   "metadata": {},
   "source": [
    "## Saving, loading, and printing notebooks"
   ]
  },
  {
   "cell_type": "markdown",
   "metadata": {},
   "source": [
    "You can save, load, and print Jupyter notebooks.  In fact, it's probably a good time to save this notebook since you've edited the markdown so far.  Go to \"File...Save and Checkpoint\" (the File menu just under \"Jupyter\") to save your notebook so far.\n",
    "\n"
   ]
  },
  {
   "cell_type": "markdown",
   "metadata": {},
   "source": [
    "The standard notebook file format is `.ipynb` which stands for \"iPython Notebook\", since Jupyter used to be called iPython.  If you go to \"File...Download as...\", then \"IPython Notebook\" will be the top choice.  You will always be able to reload your notebook and edit it, if you save it as an iPython Notebook.\n",
    "\n",
    "You may also want to save a copy as an `.html` file.  HTML is the code used to render webpages, and so it's good for sharing with anyone with a web browser.  Also, your web browser can probably print the HTML file nicely, so it's a good format for printing.  You can go directly to \"File...Print preview\" to see what the notebook will look like when printed.\n",
    "\n",
    "To open a Python notebook, you can go to \"File...Open\" or you can return to your original Jupyter tab (if it's still there) and browse directories to find notebook files.  But Jupyter must be started to load python notebooks on your computer.\n",
    "\n",
    "\n",
    "\n"
   ]
  },
  {
   "cell_type": "markdown",
   "metadata": {},
   "source": [
    "One more tool to learn about is [GitHub](https://github.com/).  GitHub is a website which allows users to share and develop software of all sorts.  It's used for collaborative software development, and has many desirable features like \"versioning\" (keeping track of versions along the way as various parties make edits).  You can freely use GitHub to store your Python notebooks.  GitHub takes a bit of practice, but it's worth the effort in the long run. \n",
    "\n",
    "The tutorial notebooks are stored on GitHub for a few reasons.  First, they can be easily edited and improved.  Second, they become freely and publicly available.  Go to [my GitHub page](https://github.com/MartyWeissman/Python-for-number-theory) to see them!  Third, even though they are stored in `.ipynb` format, anyone can view Python notebooks on the web using the [Jupyter Notebook Viewer](https://nbviewer.jupyter.org/).  For example, you can use the Jupyter Notebook Viewer to see [this notebook online](https://nbviewer.jupyter.org/github/MartyWeissman/Python-for-number-theory/blob/master/My%20First%20Python%20Notebook.ipynb)."
   ]
  },
  {
   "cell_type": "markdown",
   "metadata": {},
   "source": [
    "Now you know more than enough to begin the Python tutorials.  Download the notebooks and **happy programming**!"
   ]
  },
  {
   "cell_type": "code",
   "execution_count": null,
   "metadata": {
    "collapsed": true
   },
   "outputs": [],
   "source": []
  }
 ],
 "metadata": {
  "anaconda-cloud": {},
  "kernelspec": {
   "display_name": "Python [default]",
   "language": "python",
   "name": "python3"
  },
  "language_info": {
   "codemirror_mode": {
    "name": "ipython",
    "version": 3
   },
   "file_extension": ".py",
   "mimetype": "text/x-python",
   "name": "python",
   "nbconvert_exporter": "python",
   "pygments_lexer": "ipython3",
   "version": "3.5.2"
  }
 },
 "nbformat": 4,
 "nbformat_minor": 1
}
