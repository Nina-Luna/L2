{
 "cells": [
  {
   "cell_type": "markdown",
   "metadata": {},
   "source": [
    "# Partie 4: Dictionnaires, factorisation et fonctions multiplicatives en Python 3.x"
   ]
  },
  {
   "cell_type": "markdown",
   "metadata": {},
   "source": [
    "Le type de `list` est parfait pour stocker les données de façon ordonnée (premier élément de la liste - indéxé à zéro -, deuxième, etc.). Nous introduisons ici le type `dict` - pour dictionary -, qui peut être utilisé pour des paires *clé-valeur*, en anglais `key-value`. Cette structure de données convient bien pour stocker la décomposition en facteurs premiers des entiers, dans laquelle à chaque facteur premier - la *clé* - est associé un exposant - la  *valeur* -. Au fur et à mesure que nous introduirons le type `dict`, nous discuterons aussi plus généralement des *méthodes* et des *objets* en programmation Python.\n",
    "\n",
    "Nous appliquons maintenent ces concepts de programmation à la fonction *somme des diviseurs* et aux fonctions multiplicatives en arithmétique - voir le Chapitre 2 de [An Illustrated Theory of Numbers](http://illustratedtheoryofnumbers.com/index.html)."
   ]
  },
  {
   "cell_type": "markdown",
   "metadata": {},
   "source": [
    "## Table des matières\n",
    "\n",
    "- [Dictionnaires et factorisation des entiers](#dictfact)\n",
    "- [Fonctions multiplicatives](#multfunc)\n"
   ]
  },
  {
   "cell_type": "markdown",
   "metadata": {},
   "source": [
    "<a id='dictfact'></a>"
   ]
  },
  {
   "cell_type": "markdown",
   "metadata": {},
   "source": [
    "## Dictionnaires et factorisation des entiers"
   ]
  },
  {
   "cell_type": "markdown",
   "metadata": {},
   "source": [
    "### Listes, dictionnaires, objets et méthodes"
   ]
  },
  {
   "cell_type": "markdown",
   "metadata": {},
   "source": [
    "Les listes, comme `[2, 3, 5, 7]` sont des structures de données construites pour des données séquentiellement ordonnées. Les **éléments** d'une liste (dans ce cas, les nombres 2, 3, 5, 7) sont *indexés* par les entiers naturels (dans ce cas, les **indices** sont 0, 1, 2, 3).\n",
    "Python vous permet d'accéder aux éléments d'une liste via leur index."
   ]
  },
  {
   "cell_type": "code",
   "execution_count": 1,
   "metadata": {
    "collapsed": false
   },
   "outputs": [
    {
     "data": {
      "text/plain": [
       "list"
      ]
     },
     "execution_count": 1,
     "metadata": {},
     "output_type": "execute_result"
    }
   ],
   "source": [
    "L = [2, 3, 5, 7]\n",
    "type(L)"
   ]
  },
  {
   "cell_type": "code",
   "execution_count": 2,
   "metadata": {
    "collapsed": false
   },
   "outputs": [
    {
     "name": "stdout",
     "output_type": "stream",
     "text": [
      "2\n"
     ]
    }
   ],
   "source": [
    "print(L[0])  # What is the output?"
   ]
  },
  {
   "cell_type": "code",
   "execution_count": 3,
   "metadata": {
    "collapsed": false
   },
   "outputs": [
    {
     "name": "stdout",
     "output_type": "stream",
     "text": [
      "7\n"
     ]
    }
   ],
   "source": [
    "print(L[3])  # What is the output?"
   ]
  },
  {
   "cell_type": "code",
   "execution_count": 4,
   "metadata": {
    "collapsed": false
   },
   "outputs": [
    {
     "ename": "IndexError",
     "evalue": "list index out of range",
     "output_type": "error",
     "traceback": [
      "\u001b[0;31m------------------------------------------------------------------------\u001b[0m",
      "\u001b[0;31mIndexError\u001b[0m                             Traceback (most recent call last)",
      "\u001b[0;32m<ipython-input-4-b6bfbd53fcd5>\u001b[0m in \u001b[0;36m<module>\u001b[0;34m()\u001b[0m\n\u001b[0;32m----> 1\u001b[0;31m \u001b[0mprint\u001b[0m\u001b[0;34m(\u001b[0m\u001b[0mL\u001b[0m\u001b[0;34m[\u001b[0m\u001b[0;36m5\u001b[0m\u001b[0;34m]\u001b[0m\u001b[0;34m)\u001b[0m  \u001b[0;31m# This should give an IndexError.\u001b[0m\u001b[0;34m\u001b[0m\u001b[0m\n\u001b[0m",
      "\u001b[0;31mIndexError\u001b[0m: list index out of range"
     ]
    }
   ],
   "source": [
    "print(L[5])  # This should give an IndexError."
   ]
  },
  {
   "cell_type": "markdown",
   "metadata": {},
   "source": [
    "Les **dictionnaires** Python sont des structures conçues pour les données ayant une structure *clé-valeur*. Les clés sont comme des indices. Mais au lieu d'indices numériques (0, 1, 2, etc.), les clés peuvent être n'importe quels nombres ou chaînes de caractères - techniquement, n'importe quel type [hashable](https://blog.m157q.tw/posts/2013/06/05/python-mutable-vs-hashable/), par exemple des tuples, des booléens, même des fonctions !, mais pas des listes, ni des dictionnaires. Chaque clé du dictionnaire fait référence à une **valeur**, de la même manière que chaque indice d'une liste fait référence à un élément. La syntaxe permettant de définir un dictionnaire est `{key1:value1, key2:value2, key3:value3, ...}`. Un premier exemple est ci-dessous. Vous pouvez également lire le [official tutorial](https://docs.python.org/3/tutorial/datastructures.html#dictionaries) pour en savoir plus sur les dictionnaires."
   ]
  },
  {
   "cell_type": "code",
   "execution_count": 5,
   "metadata": {
    "collapsed": true
   },
   "outputs": [],
   "source": [
    "nemo = {'species': 'clownfish', 'color': 'orange', 'age': 6}"
   ]
  },
  {
   "cell_type": "code",
   "execution_count": 6,
   "metadata": {
    "collapsed": false
   },
   "outputs": [
    {
     "data": {
      "text/plain": [
       "'orange'"
      ]
     },
     "execution_count": 6,
     "metadata": {},
     "output_type": "execute_result"
    }
   ],
   "source": [
    "nemo['color']  # The key 'color' references the value 'orange'."
   ]
  },
  {
   "cell_type": "code",
   "execution_count": 7,
   "metadata": {
    "collapsed": false
   },
   "outputs": [
    {
     "data": {
      "text/plain": [
       "6"
      ]
     },
     "execution_count": 7,
     "metadata": {},
     "output_type": "execute_result"
    }
   ],
   "source": [
    "nemo['age']  # Predict the result.  Notice the quotes are necessary.  The *string* 'age' is the key."
   ]
  },
  {
   "cell_type": "code",
   "execution_count": 8,
   "metadata": {
    "collapsed": false
   },
   "outputs": [
    {
     "ename": "KeyError",
     "evalue": "1",
     "output_type": "error",
     "traceback": [
      "\u001b[0;31m------------------------------------------------------------------------\u001b[0m",
      "\u001b[0;31mKeyError\u001b[0m                               Traceback (most recent call last)",
      "\u001b[0;32m<ipython-input-8-3d2d5ebc20e6>\u001b[0m in \u001b[0;36m<module>\u001b[0;34m()\u001b[0m\n\u001b[0;32m----> 1\u001b[0;31m \u001b[0mnemo\u001b[0m\u001b[0;34m[\u001b[0m\u001b[0;36m1\u001b[0m\u001b[0;34m]\u001b[0m  \u001b[0;31m# This yields a KeyError, since 1 is not a key in the dictionary.\u001b[0m\u001b[0;34m\u001b[0m\u001b[0m\n\u001b[0m",
      "\u001b[0;31mKeyError\u001b[0m: 1"
     ]
    }
   ],
   "source": [
    "nemo[1]  # This yields a KeyError, since 1 is not a key in the dictionary."
   ]
  },
  {
   "cell_type": "markdown",
   "metadata": {},
   "source": [
    "Les dictionnaires peuvent avoir des valeurs de n'importe quel type.. Dans le cas précédent, les clés sont toutes des chaînes de caractères, tandis que les valeurs incluent des chaînes et des entiers. De cette façon, les dictionnaires sont utiles pour stocker des propriétés de différents types - ils peuvent également être utilisés pour stocker des [records](https://en.wikipedia.org/wiki/Record_(computer_science%29), car ils sont appelés dans d'autres langages de programmation."
   ]
  },
  {
   "cell_type": "markdown",
   "metadata": {},
   "source": [
    "### Un interlude sur les objets Python\n",
    "\n",
    "Nous avons discuté de la manière dont Python stocke les données de différents types: `int, bool, str, list, dict`, entre autres. C'est maintenant le moment de discuter des \"unités\" fondamentales de Python : les **objets**. Si vous avez exécuté les cellules ci-dessus, Python stocke actuellement beaucoup d'objets dans la mémoire de votre ordinateur. Ces objets incluent `nemo` et` L`. De même, `L[0]` est un objet et `nemo['age']` est un objet. Chaque objet a un type. Chaque objet occupe un espace en mémoire."
   ]
  },
  {
   "cell_type": "markdown",
   "metadata": {},
   "source": [
    "Nous référençons ces objets par les noms que nous avons créés, comme `nemo` et` L`. Mais en interne, Python attribue à chaque objet un numéro d'identification unique. Vous pouvez voir le numéro d'identification d'un objet avec la fonction `id`."
   ]
  },
  {
   "cell_type": "code",
   "execution_count": 9,
   "metadata": {
    "collapsed": false
   },
   "outputs": [
    {
     "data": {
      "text/plain": [
       "140648570040776"
      ]
     },
     "execution_count": 9,
     "metadata": {},
     "output_type": "execute_result"
    }
   ],
   "source": [
    "id(L)"
   ]
  },
  {
   "cell_type": "code",
   "execution_count": 10,
   "metadata": {
    "collapsed": false
   },
   "outputs": [
    {
     "data": {
      "text/plain": [
       "140648509972680"
      ]
     },
     "execution_count": 10,
     "metadata": {},
     "output_type": "execute_result"
    }
   ],
   "source": [
    "id(nemo)"
   ]
  },
  {
   "cell_type": "code",
   "execution_count": 11,
   "metadata": {
    "collapsed": false
   },
   "outputs": [
    {
     "data": {
      "text/plain": [
       "140648730131008"
      ]
     },
     "execution_count": 11,
     "metadata": {},
     "output_type": "execute_result"
    }
   ],
   "source": [
    "id(L[0])"
   ]
  },
  {
   "cell_type": "markdown",
   "metadata": {},
   "source": [
    "Il est parfois utile de vérifier le numéro d'identification des objets, de regarder un peu \"sous le capot\". Par exemple, considérez ce qui suit."
   ]
  },
  {
   "cell_type": "code",
   "execution_count": 12,
   "metadata": {
    "collapsed": false
   },
   "outputs": [
    {
     "name": "stdout",
     "output_type": "stream",
     "text": [
      "True\n"
     ]
    }
   ],
   "source": [
    "x = 3\n",
    "y = 3\n",
    "print(x == y)  # This should be true!"
   ]
  },
  {
   "cell_type": "code",
   "execution_count": 13,
   "metadata": {
    "collapsed": false
   },
   "outputs": [
    {
     "data": {
      "text/plain": [
       "140648730131040"
      ]
     },
     "execution_count": 13,
     "metadata": {},
     "output_type": "execute_result"
    }
   ],
   "source": [
    "id(x)"
   ]
  },
  {
   "cell_type": "code",
   "execution_count": 14,
   "metadata": {
    "collapsed": false
   },
   "outputs": [
    {
     "data": {
      "text/plain": [
       "140648730131040"
      ]
     },
     "execution_count": 14,
     "metadata": {},
     "output_type": "execute_result"
    }
   ],
   "source": [
    "id(y)"
   ]
  },
  {
   "cell_type": "markdown",
   "metadata": {},
   "source": [
    "Qu'est-il arrivé ? Vous avez probablement remarqué que les deux variables `x` et` y` ont le même numéro d'identification. Cela signifie que Python est efficace et ne remplit pas deux emplacements de mémoire différents avec le même nombre $3$. Au lieu de cela, il place le nombre dans un seul et même emplacement mémoire et utilise `x` et` y` comme différents noms au choix pour cet emplacement.\n",
    "\n",
    "Mais que se passe-t-il si nous changeons la valeur d'une variable ?"
   ]
  },
  {
   "cell_type": "code",
   "execution_count": 15,
   "metadata": {
    "collapsed": true
   },
   "outputs": [],
   "source": [
    "x = 5"
   ]
  },
  {
   "cell_type": "code",
   "execution_count": 17,
   "metadata": {
    "collapsed": false
   },
   "outputs": [
    {
     "data": {
      "text/plain": [
       "140648730131104"
      ]
     },
     "execution_count": 17,
     "metadata": {},
     "output_type": "execute_result"
    }
   ],
   "source": [
    "id(x)"
   ]
  },
  {
   "cell_type": "code",
   "execution_count": 18,
   "metadata": {
    "collapsed": false
   },
   "outputs": [
    {
     "data": {
      "text/plain": [
       "140648730131040"
      ]
     },
     "execution_count": 18,
     "metadata": {},
     "output_type": "execute_result"
    }
   ],
   "source": [
    "id(y)"
   ]
  },
  {
   "cell_type": "markdown",
   "metadata": {},
   "source": [
    "Python ne sera pas dérouté par cela. Lorsque nous avons affecté `x = 5`, Python a ouvert un nouvel emplacement de mémoire pour le numéro $5$ et lui a attribué `x` comme nom de variable. Notez que y toujours \"pointe\" toujours à l'ancien emplacement. Python tente d’être intelligent en matière de mémoire, en se souvenant où les objets sont stockés."
   ]
  },
  {
   "cell_type": "code",
   "execution_count": 19,
   "metadata": {
    "collapsed": false
   },
   "outputs": [
    {
     "data": {
      "text/plain": [
       "140648730131040"
      ]
     },
     "execution_count": 19,
     "metadata": {},
     "output_type": "execute_result"
    }
   ],
   "source": [
    "id(3)  # Does Python remember where it put 3?"
   ]
  },
  {
   "cell_type": "code",
   "execution_count": 20,
   "metadata": {
    "collapsed": false
   },
   "outputs": [
    {
     "data": {
      "text/plain": [
       "140648730131104"
      ]
     },
     "execution_count": 20,
     "metadata": {},
     "output_type": "execute_result"
    }
   ],
   "source": [
    "id(5)  # Does Python remember where it put 5?"
   ]
  },
  {
   "cell_type": "code",
   "execution_count": 21,
   "metadata": {
    "collapsed": false
   },
   "outputs": [
    {
     "data": {
      "text/plain": [
       "140648730131072"
      ]
     },
     "execution_count": 21,
     "metadata": {},
     "output_type": "execute_result"
    }
   ],
   "source": [
    "id(4)  #  4 was probably not in memory before.  But now it is!"
   ]
  },
  {
   "cell_type": "code",
   "execution_count": 22,
   "metadata": {
    "collapsed": true
   },
   "outputs": [],
   "source": [
    "y = 5"
   ]
  },
  {
   "cell_type": "code",
   "execution_count": 23,
   "metadata": {
    "collapsed": false
   },
   "outputs": [
    {
     "data": {
      "text/plain": [
       "140648730131104"
      ]
     },
     "execution_count": 23,
     "metadata": {},
     "output_type": "execute_result"
    }
   ],
   "source": [
    "id(y)  #  Did Python change the number in a slot?  Or did it point `y` at another slot?"
   ]
  },
  {
   "cell_type": "code",
   "execution_count": 24,
   "metadata": {
    "collapsed": false
   },
   "outputs": [
    {
     "data": {
      "text/plain": [
       "140648730131104"
      ]
     },
     "execution_count": 24,
     "metadata": {},
     "output_type": "execute_result"
    }
   ],
   "source": [
    "id(L[2]) #  Python doesn't like to waste space."
   ]
  },
  {
   "cell_type": "markdown",
   "metadata": {},
   "source": [
    "Cette gestion de la mémoire est utile pour éviter la répétition. Par exemple, considérons une liste avec répétition."
   ]
  },
  {
   "cell_type": "code",
   "execution_count": 25,
   "metadata": {
    "collapsed": true
   },
   "outputs": [],
   "source": [
    "R = [19, 19, 19]"
   ]
  },
  {
   "cell_type": "code",
   "execution_count": 26,
   "metadata": {
    "collapsed": false
   },
   "outputs": [
    {
     "data": {
      "text/plain": [
       "140648510047688"
      ]
     },
     "execution_count": 26,
     "metadata": {},
     "output_type": "execute_result"
    }
   ],
   "source": [
    "id(R)  # The list itself is an object."
   ]
  },
  {
   "cell_type": "code",
   "execution_count": 28,
   "metadata": {
    "collapsed": false
   },
   "outputs": [
    {
     "data": {
      "text/plain": [
       "140648730131552"
      ]
     },
     "execution_count": 28,
     "metadata": {},
     "output_type": "execute_result"
    }
   ],
   "source": [
    "id(R[0])  # The 0th item in the list is an object."
   ]
  },
  {
   "cell_type": "code",
   "execution_count": 29,
   "metadata": {
    "collapsed": false
   },
   "outputs": [
    {
     "data": {
      "text/plain": [
       "140648730131552"
      ]
     },
     "execution_count": 29,
     "metadata": {},
     "output_type": "execute_result"
    }
   ],
   "source": [
    "id(R[1])  # The 1st item in the list is an object."
   ]
  },
  {
   "cell_type": "code",
   "execution_count": 30,
   "metadata": {
    "collapsed": false
   },
   "outputs": [
    {
     "data": {
      "text/plain": [
       "140648730131552"
      ]
     },
     "execution_count": 30,
     "metadata": {},
     "output_type": "execute_result"
    }
   ],
   "source": [
    "id(R[2])  # The 2nd item in the list is an object."
   ]
  },
  {
   "cell_type": "markdown",
   "metadata": {},
   "source": [
    "Comme chaque entrée de liste pointe au même emplacement en mémoire, Python évite de remplir trois blocs mémoire avec le même nombre $19$."
   ]
  },
  {
   "cell_type": "markdown",
   "metadata": {},
   "source": [
    "Les objets Python peuvent être associés à **méthodes**. Les méthodes sont des fonctions qui peuvent utiliser ou modifier les données dans un objet. La syntaxe de base pour utiliser des méthodes est `<object>.<method>()`. Par exemple, les clés et les valeurs d'un dictionnaire peuvent être récupérées à l'aide des méthodes `keys()` et `values()`."
   ]
  },
  {
   "cell_type": "code",
   "execution_count": 33,
   "metadata": {
    "collapsed": false
   },
   "outputs": [
    {
     "data": {
      "text/plain": [
       "dict_keys(['color', 'species', 'age'])"
      ]
     },
     "execution_count": 33,
     "metadata": {},
     "output_type": "execute_result"
    }
   ],
   "source": [
    "nemo.keys()  # What are the keys of nemo?"
   ]
  },
  {
   "cell_type": "code",
   "execution_count": 34,
   "metadata": {
    "collapsed": false
   },
   "outputs": [
    {
     "data": {
      "text/plain": [
       "dict_values(['orange', 'clownfish', 6])"
      ]
     },
     "execution_count": 34,
     "metadata": {},
     "output_type": "execute_result"
    }
   ],
   "source": [
    "nemo.values()  # What are the values of nemo?"
   ]
  },
  {
   "cell_type": "markdown",
   "metadata": {},
   "source": [
    "The output of the `keys()` and `values()` methods are list-like.  As such, they are convenient for iteration and membership-testing."
   ]
  },
  {
   "cell_type": "code",
   "execution_count": 35,
   "metadata": {
    "collapsed": false
   },
   "outputs": [
    {
     "data": {
      "text/plain": [
       "True"
      ]
     },
     "execution_count": 35,
     "metadata": {},
     "output_type": "execute_result"
    }
   ],
   "source": [
    "'color' in nemo.keys()"
   ]
  },
  {
   "cell_type": "code",
   "execution_count": 36,
   "metadata": {
    "collapsed": false
   },
   "outputs": [
    {
     "data": {
      "text/plain": [
       "False"
      ]
     },
     "execution_count": 36,
     "metadata": {},
     "output_type": "execute_result"
    }
   ],
   "source": [
    "'taste' in nemo.keys()"
   ]
  },
  {
   "cell_type": "code",
   "execution_count": 37,
   "metadata": {
    "collapsed": false
   },
   "outputs": [
    {
     "data": {
      "text/plain": [
       "False"
      ]
     },
     "execution_count": 37,
     "metadata": {},
     "output_type": "execute_result"
    }
   ],
   "source": [
    "'orange' in nemo.keys()  # Is 'orange' a key in the dictionary?"
   ]
  },
  {
   "cell_type": "code",
   "execution_count": 38,
   "metadata": {
    "collapsed": false
   },
   "outputs": [
    {
     "data": {
      "text/plain": [
       "True"
      ]
     },
     "execution_count": 38,
     "metadata": {},
     "output_type": "execute_result"
    }
   ],
   "source": [
    "'orange' in nemo.values()  # Is 'orange' a value in the dictionary?"
   ]
  },
  {
   "cell_type": "code",
   "execution_count": 40,
   "metadata": {
    "collapsed": false
   },
   "outputs": [
    {
     "name": "stdout",
     "output_type": "stream",
     "text": [
      "Nemo's color is orange.\n",
      "Nemo's species is clownfish.\n",
      "Nemo's age is 6.\n"
     ]
    }
   ],
   "source": [
    "for k in nemo.keys():  # Iterates through the keys.\n",
    "    print('Nemo\\'s {} is {}.'.format(k, nemo[k]))  \n",
    "    # \\' is used to get a single-quote in a string."
   ]
  },
  {
   "cell_type": "markdown",
   "metadata": {},
   "source": [
    "En fait, Python fournit une syntaxe simple pour parcourir des clés ou tester l'appartenance à des clés. La syntaxe `for k in <dictionary>:` itère la variable `k` à travers les clés du dictionnaire. De même, la syntaxe `k in <dictionary>` est un raccourci pour `k in <dictionary>.keys()`."
   ]
  },
  {
   "cell_type": "code",
   "execution_count": 35,
   "metadata": {
    "collapsed": false
   },
   "outputs": [
    {
     "name": "stdout",
     "output_type": "stream",
     "text": [
      "Nemo's species is clownfish.\n",
      "Nemo's color is orange.\n",
      "Nemo's age is 6.\n"
     ]
    }
   ],
   "source": [
    "for k in nemo:  # This will iterate through the *keys* of the dictionary nemo.\n",
    "    print('Nemo\\'s {} is {}.'.format(k,nemo[k]))"
   ]
  },
  {
   "cell_type": "markdown",
   "metadata": {},
   "source": [
    "Parfois, nous voulons modifier un dictionnaire. Supposons par exemple que Nemo s'est perdu."
   ]
  },
  {
   "cell_type": "code",
   "execution_count": 37,
   "metadata": {
    "collapsed": true
   },
   "outputs": [],
   "source": [
    "nemo['status'] = 'lost'"
   ]
  },
  {
   "cell_type": "code",
   "execution_count": 38,
   "metadata": {
    "collapsed": false
   },
   "outputs": [
    {
     "data": {
      "text/plain": [
       "140265918310856"
      ]
     },
     "execution_count": 38,
     "metadata": {},
     "output_type": "execute_result"
    }
   ],
   "source": [
    "id(nemo)"
   ]
  },
  {
   "cell_type": "code",
   "execution_count": 39,
   "metadata": {
    "collapsed": false
   },
   "outputs": [
    {
     "data": {
      "text/plain": [
       "140266111704512"
      ]
     },
     "execution_count": 39,
     "metadata": {},
     "output_type": "execute_result"
    }
   ],
   "source": [
    "id('status')"
   ]
  },
  {
   "cell_type": "code",
   "execution_count": 40,
   "metadata": {
    "collapsed": false
   },
   "outputs": [
    {
     "name": "stdout",
     "output_type": "stream",
     "text": [
      "{'species': 'clownfish', 'color': 'orange', 'age': 6, 'status': 'lost'}\n"
     ]
    }
   ],
   "source": [
    "print(nemo)"
   ]
  },
  {
   "cell_type": "markdown",
   "metadata": {},
   "source": [
    "La commande `nemo['status'] = 'lost'` crée une nouvelle clé dans le dictionnaire appelée `'status'` et attribue la valeur `'lost'` à la clé. Si nous trouvons nemo, nous pouvons changer la valeur."
   ]
  },
  {
   "cell_type": "code",
   "execution_count": 41,
   "metadata": {
    "collapsed": false
   },
   "outputs": [
    {
     "name": "stdout",
     "output_type": "stream",
     "text": [
      "{'color': 'orange', 'species': 'clownfish', 'age': 6, 'status': 'found'}\n"
     ]
    }
   ],
   "source": [
    "nemo['status'] = 'found'\n",
    "print(nemo)"
   ]
  },
  {
   "cell_type": "markdown",
   "metadata": {},
   "source": [
    "Comme `'status'` fait déjà partie des clés de `nemo`, la commande nemo `nemo['status'] = 'found'` ne crée pas de nouvelle clé cette fois. Cela change simplement la valeur associée de `'lost'` à `'found'`."
   ]
  },
  {
   "cell_type": "code",
   "execution_count": 42,
   "metadata": {
    "collapsed": false
   },
   "outputs": [
    {
     "data": {
      "text/plain": [
       "dict_keys(['color', 'species', 'age', 'status'])"
      ]
     },
     "execution_count": 42,
     "metadata": {},
     "output_type": "execute_result"
    }
   ],
   "source": [
    "nemo.keys()  # What are the keys of nemo now?"
   ]
  },
  {
   "cell_type": "code",
   "execution_count": 43,
   "metadata": {
    "collapsed": false
   },
   "outputs": [
    {
     "data": {
      "text/plain": [
       "dict_values(['orange', 'clownfish', 6, 'found'])"
      ]
     },
     "execution_count": 43,
     "metadata": {},
     "output_type": "execute_result"
    }
   ],
   "source": [
    "nemo.values()  # What are the values of nemo now?"
   ]
  },
  {
   "cell_type": "markdown",
   "metadata": {},
   "source": [
    "Nous avons mentionné précédemment que `keys()` and `values()` sont des méthodes associées à l'objet `nemo`, et que les méthodes sont des fonctions attachées aux objets Python.\n",
    "Les objets Python ont souvent des méthodes qui leur sont attachées. Chaque dictionnaire et chaque liste de Python sont fournis avec des méthodes associées. Les méthodes peuvent être utilisées pour extraire les propriétés des objets ou les modifier. Voici des exemples de méthodes de liste."
   ]
  },
  {
   "cell_type": "code",
   "execution_count": 44,
   "metadata": {
    "collapsed": false
   },
   "outputs": [
    {
     "name": "stdout",
     "output_type": "stream",
     "text": [
      "[2, 3, 5, 7]\n"
     ]
    }
   ],
   "source": [
    "L = [2, 3, 5, 7]\n",
    "print(L) # Let's remember what the list L is."
   ]
  },
  {
   "cell_type": "code",
   "execution_count": 45,
   "metadata": {
    "collapsed": false
   },
   "outputs": [
    {
     "data": {
      "text/plain": [
       "2"
      ]
     },
     "execution_count": 45,
     "metadata": {},
     "output_type": "execute_result"
    }
   ],
   "source": [
    "L[0] # What is this?"
   ]
  },
  {
   "cell_type": "code",
   "execution_count": 46,
   "metadata": {
    "collapsed": false
   },
   "outputs": [
    {
     "data": {
      "text/plain": [
       "140648730131008"
      ]
     },
     "execution_count": 46,
     "metadata": {},
     "output_type": "execute_result"
    }
   ],
   "source": [
    "id(L[0]) # What is the ID number of the 0th item in the list?"
   ]
  },
  {
   "cell_type": "code",
   "execution_count": 47,
   "metadata": {
    "collapsed": false
   },
   "outputs": [
    {
     "name": "stdout",
     "output_type": "stream",
     "text": [
      "[7, 5, 3, 2]\n"
     ]
    }
   ],
   "source": [
    "L.reverse() # The reverse() method changes L!\n",
    "print(L)"
   ]
  },
  {
   "cell_type": "code",
   "execution_count": 48,
   "metadata": {
    "collapsed": false
   },
   "outputs": [
    {
     "data": {
      "text/plain": [
       "7"
      ]
     },
     "execution_count": 48,
     "metadata": {},
     "output_type": "execute_result"
    }
   ],
   "source": [
    "L[0]  # We have definitely changed L."
   ]
  },
  {
   "cell_type": "code",
   "execution_count": 49,
   "metadata": {
    "collapsed": false
   },
   "outputs": [
    {
     "data": {
      "text/plain": [
       "2"
      ]
     },
     "execution_count": 49,
     "metadata": {},
     "output_type": "execute_result"
    }
   ],
   "source": [
    "L[3]  # The last item in the list L."
   ]
  },
  {
   "cell_type": "code",
   "execution_count": 50,
   "metadata": {
    "collapsed": false
   },
   "outputs": [
    {
     "data": {
      "text/plain": [
       "140648730131008"
      ]
     },
     "execution_count": 50,
     "metadata": {},
     "output_type": "execute_result"
    }
   ],
   "source": [
    "id(L[3]) # The ID number of the last item in the list L."
   ]
  },
  {
   "cell_type": "markdown",
   "metadata": {},
   "source": [
    "Notez que Python a modifié l'ordre des éléments de la liste. Mais cela ne les a pas déplacés en mémoire! L'objet `2` conserve le même numéro d'identification et reste au même endroit en mémoire. Mais l'élément `L[0]` pointe sur `2` avant le `reverse()` tandis que c'est `L[3]` qui pointe sur `2` après le `reverse()`. Ça peut être déroutant au début, mais le cadre général est `<variable> points at <memory location>`. Vous choisissez le nom de la variable et travaillez directement avec la variable. Python attribue un numéro d’identification à chaque emplacement de mémoire, place les objets en mémoire et les récupère en fonction de vos souhaits."
   ]
  },
  {
   "cell_type": "code",
   "execution_count": 52,
   "metadata": {
    "collapsed": false
   },
   "outputs": [
    {
     "name": "stdout",
     "output_type": "stream",
     "text": [
      "[7, 5, 3, 2, 11, 11]\n"
     ]
    }
   ],
   "source": [
    "L.append(11) # Let's add another term to the list with the append(*) method.\n",
    "print(L)"
   ]
  },
  {
   "cell_type": "code",
   "execution_count": 53,
   "metadata": {
    "collapsed": false
   },
   "outputs": [
    {
     "name": "stdout",
     "output_type": "stream",
     "text": [
      "[2, 3, 5, 7, 11, 11]\n"
     ]
    }
   ],
   "source": [
    "L.sort()  # Let's get this list back in order.\n",
    "print(L)"
   ]
  },
  {
   "cell_type": "markdown",
   "metadata": {},
   "source": [
    "D'autres méthodes de listes utiles peuvent être trouvées à [tutoriel Python officiel](https://docs.python.org/3/tutorial/datastructures.html#more-on-lists).  "
   ]
  },
  {
   "cell_type": "markdown",
   "metadata": {},
   "source": [
    "### Dictionnaires pour la factorisation des entiers\n",
    "\n",
    "Si $N$ est un entier positif, alors on peut le décomposer de manière unique en un produit de nombres premiers, de la forme\n",
    "$$N = 2^{e_2} 3^{e_3} 5^{e_5} \\cdots$$\n",
    "dans lequel les exposants $ e_2, e_3, e_5 $, etc., sont des nombres entiers non nuls.\n",
    "\n",
    "Un dictionnaire Python est bien adapté pour stocker la décomposition principale résultante. Par exemple, nous pourrions stocker la décomposition  $2^3 3^2 7$ dans le dictionnaire `{2:3, 3:2, 7:1}`.\n",
    "Les nombres premiers qui apparaissent seront les *clés* du dictionnaire et les exposants les *valeurs* du dictionnaire."
   ]
  },
  {
   "cell_type": "markdown",
   "metadata": {},
   "source": [
    "Les fonctions suivantes décomposent un entier positif `N` en facteurs premiers, et enregistrent le résultat dans un dictionnaire. La stratégie consiste à séparer (diviser par) le plus petit facteur premier d'un nombre, en mettant à jour le dictionnaire en cours de processus, jusqu'à ce que le nombre soit réduit à `1`. La première fonction ci-dessous trouve le plus petit facteur premier d'un nombre."
   ]
  },
  {
   "cell_type": "code",
   "execution_count": 70,
   "metadata": {
    "collapsed": false
   },
   "outputs": [
    {
     "data": {
      "text/plain": [
       "504"
      ]
     },
     "execution_count": 70,
     "metadata": {},
     "output_type": "execute_result"
    }
   ],
   "source": [
    "2**3 * 3**2 * 7"
   ]
  },
  {
   "cell_type": "markdown",
   "metadata": {},
   "source": [
    "### Exercices\n",
    "\n",
    "1. Ecrire une fonction `smallest_factor` qui prend en argument un entier `n`, et qui renvoie le plus petit facteur premier de `n`. Attention : on utilisera la fonction `sqrt` pour gagner en temps d'exécution.\n",
    "\n",
    "2. Ecrire une fonction `decompose` qui prend en argument un entier `n`, et qui renvoie un dictionnaire de la décomposition en facteurs premiers de `n`. Par exemple, pour `n = 504`, on devra obtenir le dictionnaire `{2:3, 3:2, 7:1}`."
   ]
  },
  {
   "cell_type": "code",
   "execution_count": 54,
   "metadata": {
    "collapsed": true
   },
   "outputs": [],
   "source": [
    "# Réponse à l'exercice 1. ci-dessous\n",
    "from math import sqrt  # We'll want to use the square root.\n",
    "def smallest_factor(n):\n",
    "    '''\n",
    "    Gives the smallest prime factor of n.\n",
    "    '''\n",
    "    \n",
    "    # Compléter le code de la fonction smallest_factor ici"
   ]
  },
  {
   "cell_type": "markdown",
   "metadata": {},
   "source": [
    "Tests `smallest_factor()` ci-dessous"
   ]
  },
  {
   "cell_type": "code",
   "execution_count": 59,
   "metadata": {
    "collapsed": false
   },
   "outputs": [
    {
     "data": {
      "text/plain": [
       "3"
      ]
     },
     "execution_count": 59,
     "metadata": {},
     "output_type": "execute_result"
    }
   ],
   "source": [
    "smallest_factor(105)"
   ]
  },
  {
   "cell_type": "code",
   "execution_count": 67,
   "metadata": {
    "collapsed": false
   },
   "outputs": [
    {
     "data": {
      "text/plain": [
       "1999"
      ]
     },
     "execution_count": 67,
     "metadata": {},
     "output_type": "execute_result"
    }
   ],
   "source": [
    "smallest_factor(1999*1999) # The result should be 1999."
   ]
  },
  {
   "cell_type": "code",
   "execution_count": 68,
   "metadata": {
    "collapsed": false
   },
   "outputs": [
    {
     "data": {
      "text/plain": [
       "11"
      ]
     },
     "execution_count": 68,
     "metadata": {},
     "output_type": "execute_result"
    }
   ],
   "source": [
    "smallest_factor(11**3 * 13**9) # The result should be 11."
   ]
  },
  {
   "cell_type": "code",
   "execution_count": null,
   "metadata": {
    "collapsed": true
   },
   "outputs": [],
   "source": []
  },
  {
   "cell_type": "code",
   "execution_count": 57,
   "metadata": {
    "collapsed": true
   },
   "outputs": [],
   "source": [
    "# Réponse à l'exercice 2. ci-dessous\n",
    "def decompose(N):\n",
    "    '''\n",
    "    Gives the unique prime decomposition of a positive integer N,\n",
    "    as a dictionary with primes as keys and exponents as values.\n",
    "    '''\n",
    "    \n",
    "    # Compléter le code de la fonction decompose ici"
   ]
  },
  {
   "cell_type": "markdown",
   "metadata": {},
   "source": [
    "Tests `decompose` ci-dessous"
   ]
  },
  {
   "cell_type": "code",
   "execution_count": 58,
   "metadata": {
    "collapsed": false
   },
   "outputs": [
    {
     "data": {
      "text/plain": [
       "{2: 2, 5: 2}"
      ]
     },
     "execution_count": 58,
     "metadata": {},
     "output_type": "execute_result"
    }
   ],
   "source": [
    "decompose(100) # What is the prime decomposition of 100?"
   ]
  },
  {
   "cell_type": "code",
   "execution_count": 59,
   "metadata": {
    "collapsed": false
   },
   "outputs": [
    {
     "data": {
      "text/plain": [
       "{11: 3, 13: 9, 1999: 2}"
      ]
     },
     "execution_count": 59,
     "metadata": {},
     "output_type": "execute_result"
    }
   ],
   "source": [
    "decompose(56401910421778813463) # This should be quick."
   ]
  },
  {
   "cell_type": "code",
   "execution_count": 60,
   "metadata": {
    "collapsed": false
   },
   "outputs": [
    {
     "data": {
      "text/plain": [
       "{}"
      ]
     },
     "execution_count": 60,
     "metadata": {},
     "output_type": "execute_result"
    }
   ],
   "source": [
    "decompose(1)  # Good to test the base case!"
   ]
  },
  {
   "cell_type": "code",
   "execution_count": 61,
   "metadata": {
    "collapsed": true
   },
   "outputs": [],
   "source": [
    "#  Use this space to experiment a bit with the decompose function.\n"
   ]
  },
  {
   "cell_type": "markdown",
   "metadata": {},
   "source": [
    "Maintenant que nous avons une fonction pour calculer la décomposition première d'un entier positif, écrivons une fonction pour récupérer un entier positif à partir d'une telle décomposition. La fonction est d'une grande simplicité; il suffit de parcourir les clés du dictionnaire."
   ]
  },
  {
   "cell_type": "code",
   "execution_count": 62,
   "metadata": {
    "collapsed": true
   },
   "outputs": [],
   "source": [
    "def recompose(D):\n",
    "    '''\n",
    "    If D is a dictionary with prime keys and natural values,\n",
    "    this function outputs the product of terms of the form\n",
    "    key^value.  In this way, it recovers a single number from a\n",
    "    prime decomposition.\n",
    "    '''\n",
    "    N = 1\n",
    "    for p in D.keys():  # iterate p through all the keys of D.\n",
    "        N = N * (p ** D[p])  # Note that D[p] refers to the value (exponent) for the key p.\n",
    "    return N"
   ]
  },
  {
   "cell_type": "code",
   "execution_count": 63,
   "metadata": {
    "collapsed": false
   },
   "outputs": [
    {
     "name": "stdout",
     "output_type": "stream",
     "text": [
      "{2: 3, 5: 3}\n"
     ]
    }
   ],
   "source": [
    "D = decompose(1000)\n",
    "print(D)"
   ]
  },
  {
   "cell_type": "code",
   "execution_count": 64,
   "metadata": {
    "collapsed": false
   },
   "outputs": [
    {
     "data": {
      "text/plain": [
       "1000"
      ]
     },
     "execution_count": 64,
     "metadata": {},
     "output_type": "execute_result"
    }
   ],
   "source": [
    "recompose(D)  # This should recover 1000."
   ]
  },
  {
   "cell_type": "code",
   "execution_count": 65,
   "metadata": {
    "collapsed": false
   },
   "outputs": [
    {
     "data": {
      "text/plain": [
       "210"
      ]
     },
     "execution_count": 65,
     "metadata": {},
     "output_type": "execute_result"
    }
   ],
   "source": [
    "recompose({2:1, 3:1, 5:1, 7:1})  # What will this give?"
   ]
  },
  {
   "cell_type": "code",
   "execution_count": 66,
   "metadata": {
    "collapsed": true
   },
   "outputs": [],
   "source": [
    "# Use this space to experiment with decompose and recompose.\n"
   ]
  },
  {
   "cell_type": "markdown",
   "metadata": {},
   "source": [
    "### Exercices\n",
    "\n",
    "1. Créez la liste [1, 100 ,2, 99, 3, 98, 4, 97, ..., 50, 51] avec le moins de commandes possible.\n",
    "\n",
    "2. Si vous essayez les commandes `x = 7`, `y = 11`, puis `x, y = y, x`, qu'attendez-vous obtenir ensuite des commandes `id(x)` et `id(y)` ?\n",
    "\n",
    "4. Ecrivez une fonction `multiply(A, B)`, qui prend en arguments des entiers `A` et` B` donnés sous la forme de leur décomposition en facteurs premiers et qui renvoie la décomposition du produit `AB` en facteurs premiers.\n",
    "\n",
    "5. Ecrivez une fonction `divides(A, B)`, qui prend en arguments des entiers `A` et` B` donnés sous la forme de leur décomposition en facteurs premiers et qui renvoie un booléen: `True` si `A` divise` B` et `False` sinon.\n",
    "\n",
    "6. Le *radical* d'un nombre entier positif `N` est le nombre entier positif dont les facteurs premiers sont identiques à ceux de `N`, mais dans lequel tous les exposants valent `1`. Par exemple, $rad(500) = 2 \\cdot 5 = 10$. Ecrivez une fonction `radical(N)` qui calcule le radical de `N`. Vous pouvez utiliser les fonctions `decompose(N)` et `recompose(N)`."
   ]
  },
  {
   "cell_type": "code",
   "execution_count": 67,
   "metadata": {
    "collapsed": true
   },
   "outputs": [],
   "source": [
    "# Use this space for the exercises.\n"
   ]
  },
  {
   "cell_type": "markdown",
   "metadata": {},
   "source": [
    "<a id='multfunc'></a>"
   ]
  },
  {
   "cell_type": "markdown",
   "metadata": {},
   "source": [
    "## Multiplicative functions"
   ]
  },
  {
   "cell_type": "markdown",
   "metadata": {},
   "source": [
    "A *multiplicative function* is a function $f(n)$ which takes positive integer input $n$, and which satisfies $f(1) = 1$ and $f(ab) = f(a) f(b)$ whenever $a$ and $b$ are *coprime*.  A good example is the divisor-sum function, implemented below."
   ]
  },
  {
   "cell_type": "code",
   "execution_count": 68,
   "metadata": {
    "collapsed": true
   },
   "outputs": [],
   "source": [
    "def divisor_sum(n):\n",
    "    S = 0 # Start the sum at zero.\n",
    "    for d in range(1,n+1):  # potential divisors between 1 and n.\n",
    "        if n%d == 0:\n",
    "            S = S + d\n",
    "    return S"
   ]
  },
  {
   "cell_type": "code",
   "execution_count": 69,
   "metadata": {
    "collapsed": false
   },
   "outputs": [
    {
     "data": {
      "text/plain": [
       "217"
      ]
     },
     "execution_count": 69,
     "metadata": {},
     "output_type": "execute_result"
    }
   ],
   "source": [
    "divisor_sum(100)  # The sum 1 + 2 + 4 + 5 + 10 + 20 + 25 + 50 + 100"
   ]
  },
  {
   "cell_type": "code",
   "execution_count": 70,
   "metadata": {
    "collapsed": false
   },
   "outputs": [
    {
     "name": "stdout",
     "output_type": "stream",
     "text": [
      "10000 loops, best of 3: 67 µs per loop\n"
     ]
    }
   ],
   "source": [
    "%timeit divisor_sum(730) # Let's see how quickly this runs."
   ]
  },
  {
   "cell_type": "markdown",
   "metadata": {},
   "source": [
    "A perfect number is a positive integer which equals the sum of its proper factors (its positive factors, not including itself).  Thus a number $n$ is perfect if its divisor sum equals $2n$.  This can be implemented in a very short function."
   ]
  },
  {
   "cell_type": "code",
   "execution_count": 71,
   "metadata": {
    "collapsed": true
   },
   "outputs": [],
   "source": [
    "def is_perfect(n):\n",
    "    return divisor_sum(n) == 2*n"
   ]
  },
  {
   "cell_type": "code",
   "execution_count": 72,
   "metadata": {
    "collapsed": false
   },
   "outputs": [
    {
     "data": {
      "text/plain": [
       "False"
      ]
     },
     "execution_count": 72,
     "metadata": {},
     "output_type": "execute_result"
    }
   ],
   "source": [
    "is_perfect(10)"
   ]
  },
  {
   "cell_type": "code",
   "execution_count": 73,
   "metadata": {
    "collapsed": false
   },
   "outputs": [
    {
     "data": {
      "text/plain": [
       "True"
      ]
     },
     "execution_count": 73,
     "metadata": {},
     "output_type": "execute_result"
    }
   ],
   "source": [
    "is_perfect(28)"
   ]
  },
  {
   "cell_type": "markdown",
   "metadata": {},
   "source": [
    "Let's find the perfect numbers up to 10000.  It might take a few seconds."
   ]
  },
  {
   "cell_type": "code",
   "execution_count": 74,
   "metadata": {
    "collapsed": false
   },
   "outputs": [
    {
     "name": "stdout",
     "output_type": "stream",
     "text": [
      "6 is perfect!\n",
      "28 is perfect!\n",
      "496 is perfect!\n",
      "8128 is perfect!\n"
     ]
    }
   ],
   "source": [
    "for j in range(1,10000):\n",
    "    if is_perfect(j):\n",
    "        print(\"{} is perfect!\".format(j))"
   ]
  },
  {
   "cell_type": "markdown",
   "metadata": {},
   "source": [
    "Multiplicative functions like the divisor sum function can be computed via prime decomposition.  Indeed, if $f$ is a multiplicative function, and $$n = 2^{e_2} 3^{e_3} 5^{e_5} \\cdots,$$ then the value $f(n)$ satisfies\n",
    "$$f(n) = f(2^{e_2}) \\cdot f(3^{e_3}) \\cdot f(5^{e_5}) \\cdots.$$\n",
    "\n",
    "So if we can compute the values of $f$ on prime powers, we can compute the values of $f$ for all positive integers.\n",
    "\n",
    "The following function computes the divisor sum function, for a prime power $p^e$."
   ]
  },
  {
   "cell_type": "code",
   "execution_count": 75,
   "metadata": {
    "collapsed": true
   },
   "outputs": [],
   "source": [
    "def divisor_sum_pp(p,e):  # pp stands for prime power\n",
    "    '''\n",
    "    Computes the divisor sum of the prime power p**e,\n",
    "    when p is prime and e is a positive integer.\n",
    "    This is just 1 + p^2 + p^3 + ... + p^e,\n",
    "    simplified using a geometric series formula.\n",
    "    '''\n",
    "    return (p**(e+1) - 1) // (p - 1)"
   ]
  },
  {
   "cell_type": "code",
   "execution_count": 76,
   "metadata": {
    "collapsed": false
   },
   "outputs": [
    {
     "data": {
      "text/plain": [
       "15"
      ]
     },
     "execution_count": 76,
     "metadata": {},
     "output_type": "execute_result"
    }
   ],
   "source": [
    "divisor_sum_pp(2,3)  # Should equal 1 + 2 + 4 + 8"
   ]
  },
  {
   "cell_type": "code",
   "execution_count": 77,
   "metadata": {
    "collapsed": false
   },
   "outputs": [
    {
     "data": {
      "text/plain": [
       "4"
      ]
     },
     "execution_count": 77,
     "metadata": {},
     "output_type": "execute_result"
    }
   ],
   "source": [
    "divisor_sum_pp(3,1)  # Should equal 1 + 3"
   ]
  },
  {
   "cell_type": "markdown",
   "metadata": {},
   "source": [
    "Now let's re-implement the divisor sum function, using prime decomposition and the divisor_sum_pp function for prime powers."
   ]
  },
  {
   "cell_type": "code",
   "execution_count": 78,
   "metadata": {
    "collapsed": true
   },
   "outputs": [],
   "source": [
    "def divisor_sum(n):\n",
    "    '''\n",
    "    Computes the sum of the positive divisors of a \n",
    "    positive integer n.\n",
    "    '''\n",
    "    D = decompose(n)  # We require the decompose function from before!\n",
    "    result = 1\n",
    "    for p in D.keys():\n",
    "        result = result * divisor_sum_pp(p,D[p])\n",
    "    return result\n",
    "    "
   ]
  },
  {
   "cell_type": "code",
   "execution_count": 79,
   "metadata": {
    "collapsed": false
   },
   "outputs": [
    {
     "data": {
      "text/plain": [
       "24"
      ]
     },
     "execution_count": 79,
     "metadata": {},
     "output_type": "execute_result"
    }
   ],
   "source": [
    "divisor_sum(15)"
   ]
  },
  {
   "cell_type": "code",
   "execution_count": 80,
   "metadata": {
    "collapsed": false
   },
   "outputs": [
    {
     "name": "stdout",
     "output_type": "stream",
     "text": [
      "The slowest run took 4.25 times longer than the fastest. This could mean that an intermediate result is being cached.\n",
      "100000 loops, best of 3: 7.03 µs per loop\n"
     ]
    }
   ],
   "source": [
    "% timeit(divisor_sum(730)) # this probably runs faster than the previous version."
   ]
  },
  {
   "cell_type": "markdown",
   "metadata": {},
   "source": [
    "There are a lot of interesting multiplicative functions.  We could implement each one by a two-step process as above:  implementing the function for prime powers, then defining a version for positive integers by using the decompose function.  But there's a shortcut for the second step, which brings in a very cool aspect of Python.\n",
    "\n",
    "In Python, **functions are Python objects**.  \n",
    "\n"
   ]
  },
  {
   "cell_type": "code",
   "execution_count": 81,
   "metadata": {
    "collapsed": false
   },
   "outputs": [
    {
     "data": {
      "text/plain": [
       "function"
      ]
     },
     "execution_count": 81,
     "metadata": {},
     "output_type": "execute_result"
    }
   ],
   "source": [
    "type(divisor_sum_pp) # Every object has a type."
   ]
  },
  {
   "cell_type": "code",
   "execution_count": 82,
   "metadata": {
    "collapsed": false
   },
   "outputs": [
    {
     "data": {
      "text/plain": [
       "140265917826864"
      ]
     },
     "execution_count": 82,
     "metadata": {},
     "output_type": "execute_result"
    }
   ],
   "source": [
    "id(divisor_sum_pp) # Yes, every object gets an ID number."
   ]
  },
  {
   "cell_type": "markdown",
   "metadata": {},
   "source": [
    "Since functions are Python objects, it is possible to define a function which takes a function as input and outputs a function too!  You can pass a function as an input parameter to another function, just as if it were any other variable.  You can output a function with the `return` keyword, just as if it were another variable.  And you can define a new function within the scope of a function!\n",
    "\n",
    "Here's a basic example as a warmup."
   ]
  },
  {
   "cell_type": "code",
   "execution_count": 83,
   "metadata": {
    "collapsed": true
   },
   "outputs": [],
   "source": [
    "def addone(x):  # Let's make a simple function.\n",
    "    return x + 1  # It's not a very interesting function, is it."
   ]
  },
  {
   "cell_type": "code",
   "execution_count": 84,
   "metadata": {
    "collapsed": false
   },
   "outputs": [
    {
     "data": {
      "text/plain": [
       "11"
      ]
     },
     "execution_count": 84,
     "metadata": {},
     "output_type": "execute_result"
    }
   ],
   "source": [
    "addone(10) # Predict the result."
   ]
  },
  {
   "cell_type": "code",
   "execution_count": 85,
   "metadata": {
    "collapsed": true
   },
   "outputs": [],
   "source": [
    "def do_twice(f):\n",
    "    '''\n",
    "    If a function f is input, then the output is the function\n",
    "    \"f composed with f.\"\n",
    "    '''\n",
    "    def ff(x):  # Defines a new function ff!\n",
    "        return f(f(x)) # This is what ff does.\n",
    "    \n",
    "    return ff"
   ]
  },
  {
   "cell_type": "code",
   "execution_count": 86,
   "metadata": {
    "collapsed": true
   },
   "outputs": [],
   "source": [
    "addtwo = do_twice(addone)  # addtwo is a function!"
   ]
  },
  {
   "cell_type": "code",
   "execution_count": 87,
   "metadata": {
    "collapsed": false
   },
   "outputs": [
    {
     "data": {
      "text/plain": [
       "12"
      ]
     },
     "execution_count": 87,
     "metadata": {},
     "output_type": "execute_result"
    }
   ],
   "source": [
    "addtwo(10)  # What is the result?"
   ]
  },
  {
   "cell_type": "markdown",
   "metadata": {},
   "source": [
    "Now we exploit this function-as-object approach to create a Python function called `mult_function`.  Given a function `f_pp(p,e)`, the function `mult_function` outputs the *multiplicative function* which coincides with `f_pp` on prime powers.  In other words, if `f = mult_function(f_pp)`, then `f(p**e)` will equal `f_pp(p,e)`."
   ]
  },
  {
   "cell_type": "code",
   "execution_count": 88,
   "metadata": {
    "collapsed": true
   },
   "outputs": [],
   "source": [
    "def mult_function(f_pp):\n",
    "    '''\n",
    "    When a function f_pp(p,e) of two arguments is input,\n",
    "    this outputs a multiplicative function obtained from f_pp\n",
    "    via prime decomposition.\n",
    "    '''\n",
    "    def f(n):\n",
    "        D = decompose(n)\n",
    "        result = 1\n",
    "        for p in D:\n",
    "            result = result * f_pp(p, D[p])\n",
    "        return result\n",
    "    \n",
    "    return f"
   ]
  },
  {
   "cell_type": "markdown",
   "metadata": {},
   "source": [
    "Let's see how this works for the *divisor-counting* function.  This is the function $\\sigma_0(n)$ whose value is the *number* of positive divisors of $n$.  For prime powers, it is easy to count divisors, $$\\sigma_0(p^e) = e + 1.$$  "
   ]
  },
  {
   "cell_type": "code",
   "execution_count": 89,
   "metadata": {
    "collapsed": true
   },
   "outputs": [],
   "source": [
    "def sigma0_pp(p,e):\n",
    "    return e+1"
   ]
  },
  {
   "cell_type": "markdown",
   "metadata": {},
   "source": [
    "Since the divisor-counting function is multiplicative, we can implement it by applying `mult_function` to `sigma0_pp`.  "
   ]
  },
  {
   "cell_type": "code",
   "execution_count": 90,
   "metadata": {
    "collapsed": true
   },
   "outputs": [],
   "source": [
    "sigma0 = mult_function(sigma0_pp)"
   ]
  },
  {
   "cell_type": "code",
   "execution_count": 91,
   "metadata": {
    "collapsed": false
   },
   "outputs": [
    {
     "data": {
      "text/plain": [
       "9"
      ]
     },
     "execution_count": 91,
     "metadata": {},
     "output_type": "execute_result"
    }
   ],
   "source": [
    "sigma0(100)  # How many divisors does 100 have?"
   ]
  },
  {
   "cell_type": "markdown",
   "metadata": {},
   "source": [
    "### Exercises\n",
    "\n",
    "1.  A positive integer $n$ is called deficient/perfect/abundant according to whether the sum of its proper divisors is less than/equal to/greater than $n$ itself.  Among the numbers up to 10000, how many are deficient, perfect, and abundant?\n",
    "\n",
    "2.  If $f(n)$ is a function with natural number input and real output, define $F(n)$ to be the function given by the formula $F(n) = \\sum_{i=0}^n f(i)$.  Create a function `sumfun(f)` which takes as input a function `f` and outputs the function `F` as described above.\n",
    "\n",
    "3.  Consider the function $f(n)$ which counts the number of positive divisors of $n$ which *are not* divisible by 4.  Verify that this is a multiplicative function, and implement it using `mult_function`.\n",
    "\n",
    "4.  Write a function `foursquare(n)` which counts the number of ways that a positive integer `n` can be expressed as `a*a + b*b + c*c + d*d` for integers `a`, `b`, `c`, `d`.  Hint:  loop the variables through integers between $-\\sqrt{n}$ and $\\sqrt{n}$.  Compare the values of `foursquare(n)` to the multiplicative function in the previous problem.\n",
    "\n",
    "5.  A positive integer is \"square-free\" if it has no square factors besides 1.  The **Mobius** function $\\mu(n)$ is defined by $\\mu(n) = 0$ if $n$ is not square-free, and otherwise $\\mu(n) = 1$ or $\\mu(n) = -1$ according to whether $n$ has an even or odd number of prime factors.  Verify that the Mobius function is multiplicative and implement it.  Try to reproduce the graph of the Mertens function $M(n)$ as described at [Wikipedia's article on the Mertens conjecture](https://en.wikipedia.org/wiki/Mertens_conjecture).  (See the previous Python notebook for an introduction to matplotlib for creating graphs.)\n",
    "\n"
   ]
  },
  {
   "cell_type": "code",
   "execution_count": null,
   "metadata": {
    "collapsed": true
   },
   "outputs": [],
   "source": [
    "#  Use this space to work on the exercises."
   ]
  }
 ],
 "metadata": {
  "kernelspec": {
   "display_name": "Python [default]",
   "language": "python",
   "name": "python3"
  },
  "language_info": {
   "codemirror_mode": {
    "name": "ipython",
    "version": 3
   },
   "file_extension": ".py",
   "mimetype": "text/x-python",
   "name": "python",
   "nbconvert_exporter": "python",
   "pygments_lexer": "ipython3",
   "version": "3.5.2"
  }
 },
 "nbformat": 4,
 "nbformat_minor": 1
}
