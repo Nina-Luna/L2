{
 "cells": [
  {
   "cell_type": "markdown",
   "metadata": {},
   "source": [
    "# Partie 4: Dictionnaires, factorisation des entiers et fonctions multiplicatives en Python 3.x"
   ]
  },
  {
   "cell_type": "markdown",
   "metadata": {},
   "source": [
    "Le type `list` est parfait pour stocker les données de façon ordonnée (premier élément de la liste - indéxé à zéro -, deuxième élément, etc.). Nous introduisons ici le type `dict` - pour dictionary -, qui peut être utilisé pour des paires *clé-valeur*, en anglais `key-value`. Cette structure de données convient bien pour stocker la décomposition en facteurs premiers des entiers, dans laquelle à chaque facteur premier - la *clé* - est associé un exposant - la  *valeur* -. Au fur et à mesure que nous introduirons le type `dict`, nous discuterons aussi plus généralement des *méthodes* et des *objets* en programmation Python.\n",
    "\n",
    "Nous appliquons maintenent ces concepts de programmation à la fonction *somme des diviseurs* et aux fonctions multiplicatives en arithmétique - voir le Chapitre 2 de [An Illustrated Theory of Numbers](http://illustratedtheoryofnumbers.com/index.html)."
   ]
  },
  {
   "cell_type": "markdown",
   "metadata": {},
   "source": [
    "## Table des matières\n",
    "\n",
    "- [Dictionnaires et factorisation des entiers](#dictfact)\n",
    "- [Fonctions multiplicatives](#multfunc)\n"
   ]
  },
  {
   "cell_type": "markdown",
   "metadata": {},
   "source": [
    "<a id='dictfact'></a>"
   ]
  },
  {
   "cell_type": "markdown",
   "metadata": {},
   "source": [
    "## Dictionnaires et factorisation des entiers"
   ]
  },
  {
   "cell_type": "markdown",
   "metadata": {},
   "source": [
    "### Listes, dictionnaires, objets et méthodes"
   ]
  },
  {
   "cell_type": "markdown",
   "metadata": {},
   "source": [
    "Les listes, comme `[2, 3, 5, 7]` sont des structures de données construites pour des données séquentiellement ordonnées. Les **éléments** d'une liste (dans ce cas, les nombres 2, 3, 5, 7) sont *indexés* par les entiers naturels (dans ce cas, les **indices** sont 0, 1, 2, 3).\n",
    "Python vous permet d'accéder aux éléments d'une liste via leur index."
   ]
  },
  {
   "cell_type": "code",
   "execution_count": null,
   "metadata": {
    "collapsed": false
   },
   "outputs": [],
   "source": [
    "L = [2, 3, 5, 7]\n",
    "type(L)"
   ]
  },
  {
   "cell_type": "code",
   "execution_count": null,
   "metadata": {
    "collapsed": false
   },
   "outputs": [],
   "source": [
    "print(L[0])  # What is the output?"
   ]
  },
  {
   "cell_type": "code",
   "execution_count": null,
   "metadata": {
    "collapsed": false
   },
   "outputs": [],
   "source": [
    "print(L[3])  # What is the output?"
   ]
  },
  {
   "cell_type": "code",
   "execution_count": null,
   "metadata": {
    "collapsed": false
   },
   "outputs": [],
   "source": [
    "print(L[5])  # This should give an IndexError."
   ]
  },
  {
   "cell_type": "markdown",
   "metadata": {},
   "source": [
    "Les **dictionnaires** Python sont des structures conçues pour les données ayant une structure *clé-valeur*. Les clés sont comme des indices. Mais au lieu d'indices numériques (0, 1, 2, etc.), les clés peuvent être n'importe quels nombres ou chaînes de caractères - techniquement, n'importe quel type [hashable](https://blog.m157q.tw/posts/2013/06/05/python-mutable-vs-hashable/), par exemple des tuples, des booléens, même des fonctions !, mais pas des listes, ni des dictionnaires. Chaque clé du dictionnaire fait référence à une **valeur**, de la même manière que chaque indice d'une liste fait référence à un élément. La syntaxe permettant de définir un dictionnaire est `{key1:value1, key2:value2, key3:value3, ...}`. Un premier exemple est ci-dessous. Vous pouvez également lire le [official tutorial](https://docs.python.org/3/tutorial/datastructures.html#dictionaries) pour en savoir plus sur les dictionnaires."
   ]
  },
  {
   "cell_type": "code",
   "execution_count": null,
   "metadata": {
    "collapsed": true
   },
   "outputs": [],
   "source": [
    "nemo = {'species': 'clownfish', 'color': 'orange', 'age': 6}"
   ]
  },
  {
   "cell_type": "code",
   "execution_count": null,
   "metadata": {
    "collapsed": false
   },
   "outputs": [],
   "source": [
    "nemo['color']  # The key 'color' references the value 'orange'."
   ]
  },
  {
   "cell_type": "code",
   "execution_count": null,
   "metadata": {
    "collapsed": false
   },
   "outputs": [],
   "source": [
    "nemo['age']  # Predict the result.  Notice the quotes are necessary.  The *string* 'age' is the key."
   ]
  },
  {
   "cell_type": "code",
   "execution_count": null,
   "metadata": {
    "collapsed": false
   },
   "outputs": [],
   "source": [
    "nemo[1]  # This yields a KeyError, since 1 is not a key in the dictionary."
   ]
  },
  {
   "cell_type": "markdown",
   "metadata": {},
   "source": [
    "Les dictionnaires peuvent avoir des valeurs de n'importe quel type.. Dans le cas précédent, les clés sont toutes des chaînes de caractères, tandis que les valeurs incluent des chaînes et des entiers. De cette façon, les dictionnaires sont utiles pour stocker des propriétés de différents types - ils peuvent également être utilisés pour stocker des [records](https://en.wikipedia.org/wiki/Record_(computer_science%29), car ils sont appelés dans d'autres langages de programmation."
   ]
  },
  {
   "cell_type": "markdown",
   "metadata": {},
   "source": [
    "### Un interlude sur les objets Python\n",
    "\n",
    "Nous avons discuté de la manière dont Python stocke les données de différents types: `int, bool, str, list, dict`, entre autres. C'est maintenant le moment de discuter des \"unités\" fondamentales de Python : les **objets**. Si vous avez exécuté les cellules ci-dessus, Python stocke actuellement beaucoup d'objets dans la mémoire de votre ordinateur. Ces objets incluent `nemo` et` L`. De même, `L[0]` est un objet et `nemo['age']` est un objet. Chaque objet a un type. Chaque objet occupe un espace en mémoire."
   ]
  },
  {
   "cell_type": "markdown",
   "metadata": {},
   "source": [
    "Nous référençons ces objets par les noms que nous avons créés, comme `nemo` et` L`. Mais en interne, Python attribue à chaque objet un numéro d'identification unique. Vous pouvez voir le numéro d'identification d'un objet avec la fonction `id`."
   ]
  },
  {
   "cell_type": "code",
   "execution_count": null,
   "metadata": {
    "collapsed": false
   },
   "outputs": [],
   "source": [
    "id(L)"
   ]
  },
  {
   "cell_type": "code",
   "execution_count": null,
   "metadata": {
    "collapsed": false
   },
   "outputs": [],
   "source": [
    "id(nemo)"
   ]
  },
  {
   "cell_type": "code",
   "execution_count": null,
   "metadata": {
    "collapsed": false
   },
   "outputs": [],
   "source": [
    "id(L[0])"
   ]
  },
  {
   "cell_type": "markdown",
   "metadata": {},
   "source": [
    "Il est parfois utile de vérifier le numéro d'identification des objets, de regarder un peu \"sous le capot\". Par exemple, considérez ce qui suit."
   ]
  },
  {
   "cell_type": "code",
   "execution_count": null,
   "metadata": {
    "collapsed": false
   },
   "outputs": [],
   "source": [
    "x = 3\n",
    "y = 3\n",
    "print(x == y)  # This should be true!"
   ]
  },
  {
   "cell_type": "code",
   "execution_count": null,
   "metadata": {
    "collapsed": false
   },
   "outputs": [],
   "source": [
    "id(x)"
   ]
  },
  {
   "cell_type": "code",
   "execution_count": null,
   "metadata": {
    "collapsed": false
   },
   "outputs": [],
   "source": [
    "id(y)"
   ]
  },
  {
   "cell_type": "markdown",
   "metadata": {},
   "source": [
    "Qu'est-il arrivé ? Vous avez probablement remarqué que les deux variables `x` et` y` ont le même numéro d'identification. Cela signifie que Python est efficace et ne remplit pas deux emplacements de mémoire différents avec le même nombre $3$. Au lieu de cela, il place le nombre dans un seul et même emplacement mémoire et utilise `x` et` y` comme différents noms au choix pour cet emplacement.\n",
    "\n",
    "Mais que se passe-t-il si nous changeons la valeur d'une variable ?"
   ]
  },
  {
   "cell_type": "code",
   "execution_count": null,
   "metadata": {
    "collapsed": true
   },
   "outputs": [],
   "source": [
    "x = 5"
   ]
  },
  {
   "cell_type": "code",
   "execution_count": null,
   "metadata": {
    "collapsed": false
   },
   "outputs": [],
   "source": [
    "id(x)"
   ]
  },
  {
   "cell_type": "code",
   "execution_count": null,
   "metadata": {
    "collapsed": false
   },
   "outputs": [],
   "source": [
    "id(y)"
   ]
  },
  {
   "cell_type": "markdown",
   "metadata": {},
   "source": [
    "Python ne sera pas dérouté par cela. Lorsque nous avons affecté `x = 5`, Python a ouvert un nouvel emplacement de mémoire pour le numéro $5$ et lui a attribué `x` comme nom de variable. Notez que y toujours \"pointe\" toujours à l'ancien emplacement. Python tente d’être intelligent en matière de mémoire, en se souvenant où les objets sont stockés."
   ]
  },
  {
   "cell_type": "code",
   "execution_count": null,
   "metadata": {
    "collapsed": false
   },
   "outputs": [],
   "source": [
    "id(3)  # Does Python remember where it put 3?"
   ]
  },
  {
   "cell_type": "code",
   "execution_count": null,
   "metadata": {
    "collapsed": false
   },
   "outputs": [],
   "source": [
    "id(5)  # Does Python remember where it put 5?"
   ]
  },
  {
   "cell_type": "code",
   "execution_count": null,
   "metadata": {
    "collapsed": false
   },
   "outputs": [],
   "source": [
    "id(4)  #  4 was probably not in memory before.  But now it is!"
   ]
  },
  {
   "cell_type": "code",
   "execution_count": null,
   "metadata": {
    "collapsed": true
   },
   "outputs": [],
   "source": [
    "y = 5"
   ]
  },
  {
   "cell_type": "code",
   "execution_count": null,
   "metadata": {
    "collapsed": false
   },
   "outputs": [],
   "source": [
    "id(y)  #  Did Python change the number in a slot?  Or did it point `y` at another slot?"
   ]
  },
  {
   "cell_type": "code",
   "execution_count": null,
   "metadata": {
    "collapsed": false
   },
   "outputs": [],
   "source": [
    "id(L[2]) #  Python doesn't like to waste space."
   ]
  },
  {
   "cell_type": "markdown",
   "metadata": {},
   "source": [
    "Cette gestion de la mémoire est utile pour éviter la répétition. Par exemple, considérons une liste avec répétition."
   ]
  },
  {
   "cell_type": "code",
   "execution_count": null,
   "metadata": {
    "collapsed": true
   },
   "outputs": [],
   "source": [
    "R = [19, 19, 19]"
   ]
  },
  {
   "cell_type": "code",
   "execution_count": null,
   "metadata": {
    "collapsed": false
   },
   "outputs": [],
   "source": [
    "id(R)  # The list itself is an object."
   ]
  },
  {
   "cell_type": "code",
   "execution_count": null,
   "metadata": {
    "collapsed": false
   },
   "outputs": [],
   "source": [
    "id(R[0])  # The 0th item in the list is an object."
   ]
  },
  {
   "cell_type": "code",
   "execution_count": null,
   "metadata": {
    "collapsed": false
   },
   "outputs": [],
   "source": [
    "id(R[1])  # The 1st item in the list is an object."
   ]
  },
  {
   "cell_type": "code",
   "execution_count": null,
   "metadata": {
    "collapsed": false
   },
   "outputs": [],
   "source": [
    "id(R[2])  # The 2nd item in the list is an object."
   ]
  },
  {
   "cell_type": "markdown",
   "metadata": {},
   "source": [
    "Comme chaque entrée de liste pointe au même emplacement en mémoire, Python évite de remplir trois blocs mémoire avec le même nombre $19$."
   ]
  },
  {
   "cell_type": "markdown",
   "metadata": {},
   "source": [
    "Les objets Python peuvent être associés à **méthodes**. Les méthodes sont des fonctions qui peuvent utiliser ou modifier les données dans un objet. La syntaxe de base pour utiliser des méthodes est `<object>.<method>()`. Par exemple, les clés et les valeurs d'un dictionnaire peuvent être récupérées à l'aide des méthodes `keys()` et `values()`."
   ]
  },
  {
   "cell_type": "code",
   "execution_count": null,
   "metadata": {
    "collapsed": false
   },
   "outputs": [],
   "source": [
    "nemo.keys()  # What are the keys of nemo?"
   ]
  },
  {
   "cell_type": "code",
   "execution_count": null,
   "metadata": {
    "collapsed": false
   },
   "outputs": [],
   "source": [
    "nemo.values()  # What are the values of nemo?"
   ]
  },
  {
   "cell_type": "markdown",
   "metadata": {},
   "source": [
    "Le output des méthodes `keys()` et `values()` est semblable à une liste.\n",
    "En tant que tels, ils sont pratiques pour les itérations et les tests d'appartenance."
   ]
  },
  {
   "cell_type": "code",
   "execution_count": null,
   "metadata": {
    "collapsed": false
   },
   "outputs": [],
   "source": [
    "'color' in nemo.keys()"
   ]
  },
  {
   "cell_type": "code",
   "execution_count": null,
   "metadata": {
    "collapsed": false
   },
   "outputs": [],
   "source": [
    "'taste' in nemo.keys()"
   ]
  },
  {
   "cell_type": "code",
   "execution_count": null,
   "metadata": {
    "collapsed": false
   },
   "outputs": [],
   "source": [
    "'orange' in nemo.keys()  # Is 'orange' a key in the dictionary?"
   ]
  },
  {
   "cell_type": "code",
   "execution_count": null,
   "metadata": {
    "collapsed": false
   },
   "outputs": [],
   "source": [
    "'orange' in nemo.values()  # Is 'orange' a value in the dictionary?"
   ]
  },
  {
   "cell_type": "code",
   "execution_count": null,
   "metadata": {
    "collapsed": false
   },
   "outputs": [],
   "source": [
    "for k in nemo.keys():  # Iterates through the keys.\n",
    "    print('Nemo\\'s {} is {}.'.format(k, nemo[k]))  \n",
    "    # \\' is used to get a single-quote in a string."
   ]
  },
  {
   "cell_type": "markdown",
   "metadata": {},
   "source": [
    "En fait, Python fournit une syntaxe simple pour parcourir des clés ou tester l'appartenance à des clés. La syntaxe `for k in <dictionary>:` itère la variable `k` à travers les clés du dictionnaire. De même, la syntaxe `k in <dictionary>` est un raccourci pour `k in <dictionary>.keys()`."
   ]
  },
  {
   "cell_type": "code",
   "execution_count": null,
   "metadata": {
    "collapsed": false
   },
   "outputs": [],
   "source": [
    "for k in nemo:  # This will iterate through the *keys* of the dictionary nemo.\n",
    "    print('Nemo\\'s {} is {}.'.format(k,nemo[k]))"
   ]
  },
  {
   "cell_type": "markdown",
   "metadata": {},
   "source": [
    "Parfois, nous voulons modifier un dictionnaire. Supposons par exemple que Nemo s'est perdu."
   ]
  },
  {
   "cell_type": "code",
   "execution_count": null,
   "metadata": {
    "collapsed": true
   },
   "outputs": [],
   "source": [
    "nemo['status'] = 'lost'"
   ]
  },
  {
   "cell_type": "code",
   "execution_count": null,
   "metadata": {
    "collapsed": false
   },
   "outputs": [],
   "source": [
    "id(nemo)"
   ]
  },
  {
   "cell_type": "code",
   "execution_count": null,
   "metadata": {
    "collapsed": false
   },
   "outputs": [],
   "source": [
    "id('status')"
   ]
  },
  {
   "cell_type": "code",
   "execution_count": null,
   "metadata": {
    "collapsed": false
   },
   "outputs": [],
   "source": [
    "print(nemo)"
   ]
  },
  {
   "cell_type": "markdown",
   "metadata": {},
   "source": [
    "La commande `nemo['status'] = 'lost'` crée une nouvelle clé dans le dictionnaire appelée `'status'` et attribue la valeur `'lost'` à la clé. Si nous trouvons nemo, nous pouvons changer la valeur."
   ]
  },
  {
   "cell_type": "code",
   "execution_count": null,
   "metadata": {
    "collapsed": false
   },
   "outputs": [],
   "source": [
    "nemo['status'] = 'found'\n",
    "print(nemo)"
   ]
  },
  {
   "cell_type": "markdown",
   "metadata": {},
   "source": [
    "Comme `'status'` fait déjà partie des clés de `nemo`, la commande nemo `nemo['status'] = 'found'` ne crée pas de nouvelle clé cette fois. Cela change simplement la valeur associée de `'lost'` à `'found'`."
   ]
  },
  {
   "cell_type": "code",
   "execution_count": null,
   "metadata": {
    "collapsed": false
   },
   "outputs": [],
   "source": [
    "nemo.keys()  # What are the keys of nemo now?"
   ]
  },
  {
   "cell_type": "code",
   "execution_count": null,
   "metadata": {
    "collapsed": false
   },
   "outputs": [],
   "source": [
    "nemo.values()  # What are the values of nemo now?"
   ]
  },
  {
   "cell_type": "markdown",
   "metadata": {},
   "source": [
    "Nous avons mentionné précédemment que `keys()` and `values()` sont des méthodes associées à l'objet `nemo`, et que les méthodes sont des fonctions attachées aux objets Python.\n",
    "Les objets Python ont souvent des méthodes qui leur sont attachées. Chaque dictionnaire et chaque liste de Python sont fournis avec des méthodes associées. Les méthodes peuvent être utilisées pour extraire les propriétés des objets ou les modifier. Voici des exemples de méthodes de liste."
   ]
  },
  {
   "cell_type": "code",
   "execution_count": null,
   "metadata": {
    "collapsed": false
   },
   "outputs": [],
   "source": [
    "L = [2, 3, 5, 7]\n",
    "print(L) # Let's remember what the list L is."
   ]
  },
  {
   "cell_type": "code",
   "execution_count": null,
   "metadata": {
    "collapsed": false
   },
   "outputs": [],
   "source": [
    "L[0] # What is this?"
   ]
  },
  {
   "cell_type": "code",
   "execution_count": null,
   "metadata": {
    "collapsed": false
   },
   "outputs": [],
   "source": [
    "id(L[0]) # What is the ID number of the 0th item in the list?"
   ]
  },
  {
   "cell_type": "code",
   "execution_count": null,
   "metadata": {
    "collapsed": false
   },
   "outputs": [],
   "source": [
    "L.reverse() # The reverse() method changes L!\n",
    "print(L)"
   ]
  },
  {
   "cell_type": "code",
   "execution_count": null,
   "metadata": {
    "collapsed": false
   },
   "outputs": [],
   "source": [
    "L[0]  # We have definitely changed L."
   ]
  },
  {
   "cell_type": "code",
   "execution_count": null,
   "metadata": {
    "collapsed": false
   },
   "outputs": [],
   "source": [
    "L[3]  # The last item in the list L."
   ]
  },
  {
   "cell_type": "code",
   "execution_count": null,
   "metadata": {
    "collapsed": false
   },
   "outputs": [],
   "source": [
    "id(L[3]) # The ID number of the last item in the list L."
   ]
  },
  {
   "cell_type": "markdown",
   "metadata": {},
   "source": [
    "Notez que Python a modifié l'ordre des éléments de la liste. Mais cela ne les a pas déplacés en mémoire! L'objet `2` conserve le même numéro d'identification et reste au même endroit en mémoire. Mais l'élément `L[0]` pointe sur `2` avant le `reverse()` tandis que c'est `L[3]` qui pointe sur `2` après le `reverse()`. Ça peut être déroutant au début, mais le cadre général est `<variable> points at <memory location>`. Vous choisissez le nom de la variable et travaillez directement avec la variable. Python attribue un numéro d’identification à chaque emplacement de mémoire, place les objets en mémoire et les récupère en fonction de vos souhaits."
   ]
  },
  {
   "cell_type": "code",
   "execution_count": null,
   "metadata": {
    "collapsed": false
   },
   "outputs": [],
   "source": [
    "L.append(11) # Let's add another term to the list with the append(*) method.\n",
    "print(L)"
   ]
  },
  {
   "cell_type": "code",
   "execution_count": null,
   "metadata": {
    "collapsed": false
   },
   "outputs": [],
   "source": [
    "L.sort()  # Let's get this list back in order.\n",
    "print(L)"
   ]
  },
  {
   "cell_type": "markdown",
   "metadata": {},
   "source": [
    "D'autres méthodes de listes utiles peuvent être trouvées à [tutoriel Python officiel](https://docs.python.org/3/tutorial/datastructures.html#more-on-lists).  "
   ]
  },
  {
   "cell_type": "markdown",
   "metadata": {},
   "source": [
    "### Dictionnaires pour la factorisation des entiers\n",
    "\n",
    "Si $N$ est un entier positif, alors on peut le décomposer de manière unique en un produit de nombres premiers, de la forme\n",
    "$$N = 2^{e_2} 3^{e_3} 5^{e_5} \\cdots$$\n",
    "dans lequel les exposants $ e_2, e_3, e_5 $, etc., sont des nombres entiers non nuls.\n",
    "\n",
    "Un dictionnaire Python est bien adapté pour stocker la décomposition principale résultante. Par exemple, nous pourrions stocker la décomposition  $2^3 3^2 7$ dans le dictionnaire `{2:3, 3:2, 7:1}`.\n",
    "Les nombres premiers qui apparaissent seront les *clés* du dictionnaire et les exposants les *valeurs* du dictionnaire."
   ]
  },
  {
   "cell_type": "markdown",
   "metadata": {},
   "source": [
    "Les fonctions suivantes décomposent un entier positif `N` en facteurs premiers, et enregistrent le résultat dans un dictionnaire. La stratégie consiste à séparer (diviser par) le plus petit facteur premier d'un nombre, en mettant à jour le dictionnaire en cours de processus, jusqu'à ce que le nombre soit réduit à `1`. La première fonction ci-dessous trouve le plus petit facteur premier d'un nombre."
   ]
  },
  {
   "cell_type": "code",
   "execution_count": null,
   "metadata": {
    "collapsed": false
   },
   "outputs": [],
   "source": [
    "2**3 * 3**2 * 7"
   ]
  },
  {
   "cell_type": "markdown",
   "metadata": {},
   "source": [
    "### Exercices\n",
    "\n",
    "1. Ecrire une fonction `smallest_factor` qui prend en argument un entier `n`, et qui renvoie le plus petit facteur premier de `n`. Attention : on utilisera la fonction `sqrt` pour gagner en temps d'exécution.\n",
    "\n",
    "2. Ecrire une fonction `decompose` qui prend en argument un entier `n`, et qui renvoie un dictionnaire de la décomposition en facteurs premiers de `n`. Par exemple, pour `n = 504`, on devra obtenir le dictionnaire `{2:3, 3:2, 7:1}`."
   ]
  },
  {
   "cell_type": "code",
   "execution_count": null,
   "metadata": {
    "collapsed": true
   },
   "outputs": [],
   "source": [
    "# Répondre ici à l'exercice 1.\n",
    "from math import sqrt  # We'll want to use the square root.\n",
    "def smallest_factor(n):\n",
    "    '''\n",
    "    Gives the smallest prime factor of n.\n",
    "    '''\n",
    "    # Compléter le code de la fonction smallest_factor ici"
   ]
  },
  {
   "cell_type": "markdown",
   "metadata": {},
   "source": [
    "Tests `smallest_factor()` ci-dessous"
   ]
  },
  {
   "cell_type": "code",
   "execution_count": null,
   "metadata": {
    "collapsed": false
   },
   "outputs": [],
   "source": [
    "smallest_factor(105)"
   ]
  },
  {
   "cell_type": "code",
   "execution_count": null,
   "metadata": {
    "collapsed": false
   },
   "outputs": [],
   "source": [
    "smallest_factor(1999*1999) # The result should be 1999."
   ]
  },
  {
   "cell_type": "code",
   "execution_count": null,
   "metadata": {
    "collapsed": false
   },
   "outputs": [],
   "source": [
    "smallest_factor(11**3 * 13**9) # The result should be 11."
   ]
  },
  {
   "cell_type": "code",
   "execution_count": null,
   "metadata": {
    "collapsed": true
   },
   "outputs": [],
   "source": [
    "# Répondre à l'exercice 2. ci-dessous\n",
    "def decompose(N):\n",
    "    '''\n",
    "    Gives the unique prime decomposition of a positive integer N,\n",
    "    as a dictionary with primes as keys and exponents as values.\n",
    "    '''\n",
    "    \n",
    "    # Compléter le code de la fonction decompose ici"
   ]
  },
  {
   "cell_type": "markdown",
   "metadata": {},
   "source": [
    "Tests `decompose` ci-dessous"
   ]
  },
  {
   "cell_type": "code",
   "execution_count": null,
   "metadata": {
    "collapsed": false
   },
   "outputs": [],
   "source": [
    "decompose(100) # What is the prime decomposition of 100?"
   ]
  },
  {
   "cell_type": "code",
   "execution_count": null,
   "metadata": {
    "collapsed": false
   },
   "outputs": [],
   "source": [
    "decompose(56401910421778813463) # This should be quick."
   ]
  },
  {
   "cell_type": "code",
   "execution_count": null,
   "metadata": {
    "collapsed": false
   },
   "outputs": [],
   "source": [
    "decompose(1)  # Good to test the base case!"
   ]
  },
  {
   "cell_type": "code",
   "execution_count": null,
   "metadata": {
    "collapsed": true
   },
   "outputs": [],
   "source": [
    "#  Use this space to experiment a bit with the decompose function.\n"
   ]
  },
  {
   "cell_type": "markdown",
   "metadata": {},
   "source": [
    "Maintenant que nous avons une fonction pour calculer la décomposition première d'un entier positif, écrivons une fonction pour récupérer un entier positif à partir d'une telle décomposition. La fonction est d'une grande simplicité; il suffit de parcourir les clés du dictionnaire."
   ]
  },
  {
   "cell_type": "code",
   "execution_count": null,
   "metadata": {
    "collapsed": true
   },
   "outputs": [],
   "source": [
    "def recompose(D):\n",
    "    '''\n",
    "    If D is a dictionary with prime keys and natural values,\n",
    "    this function outputs the product of terms of the form\n",
    "    key^value.  In this way, it recovers a single number from a\n",
    "    prime decomposition.\n",
    "    '''\n",
    "    N = 1\n",
    "    for p in D.keys():  # iterate p through all the keys of D.\n",
    "        N = N * (p ** D[p])  # Note that D[p] refers to the value (exponent) for the key p.\n",
    "    return N"
   ]
  },
  {
   "cell_type": "code",
   "execution_count": null,
   "metadata": {
    "collapsed": false
   },
   "outputs": [],
   "source": [
    "D = decompose(1000)\n",
    "print(D)"
   ]
  },
  {
   "cell_type": "code",
   "execution_count": null,
   "metadata": {
    "collapsed": false
   },
   "outputs": [],
   "source": [
    "recompose(D)  # This should recover 1000."
   ]
  },
  {
   "cell_type": "code",
   "execution_count": null,
   "metadata": {
    "collapsed": false
   },
   "outputs": [],
   "source": [
    "recompose({2:1, 3:1, 5:1, 7:1})  # What will this give?"
   ]
  },
  {
   "cell_type": "code",
   "execution_count": null,
   "metadata": {
    "collapsed": true
   },
   "outputs": [],
   "source": [
    "# Use this space to experiment with decompose and recompose.\n"
   ]
  },
  {
   "cell_type": "markdown",
   "metadata": {},
   "source": [
    "### Exercices\n",
    "\n",
    "1. Créez la liste [1, 100 ,2, 99, 3, 98, 4, 97, ..., 50, 51] avec le moins de commandes possible.\n",
    "\n",
    "2. Si vous essayez les commandes `x = 7`, `y = 11`, puis `x, y = y, x`, qu'attendez-vous obtenir ensuite des commandes `id(x)` et `id(y)` ?\n",
    "\n",
    "4. Ecrivez une fonction `multiply(A, B)`, qui prend en arguments des entiers `A` et` B` donnés sous la forme de leur décomposition en facteurs premiers et qui renvoie la décomposition du produit `AB` en facteurs premiers.\n",
    "\n",
    "5. Ecrivez une fonction `divides(A, B)`, qui prend en arguments des entiers `A` et` B` donnés sous la forme de leur décomposition en facteurs premiers et qui renvoie un booléen: `True` si `A` divise` B` et `False` sinon.\n",
    "\n",
    "6. Le *radical* d'un nombre entier positif `N` est le nombre entier positif dont les facteurs premiers sont identiques à ceux de `N`, mais dans lequel tous les exposants valent `1`. Par exemple, $rad(500) = 2 \\cdot 5 = 10$. Ecrivez une fonction `radical(N)` qui calcule le radical de `N`. Vous pouvez utiliser les fonctions `decompose(N)` et `recompose(N)`."
   ]
  },
  {
   "cell_type": "code",
   "execution_count": null,
   "metadata": {
    "collapsed": true
   },
   "outputs": [],
   "source": [
    "# Use this space for the exercises."
   ]
  },
  {
   "cell_type": "markdown",
   "metadata": {},
   "source": [
    "<a id='multfunc'></a>"
   ]
  },
  {
   "cell_type": "markdown",
   "metadata": {},
   "source": [
    "## Functions multiplicatives"
   ]
  },
  {
   "cell_type": "markdown",
   "metadata": {},
   "source": [
    "A *multiplicative function* is a function $f(n)$ which takes positive integer input $n$, and which satisfies $f(1) = 1$ and $f(ab) = f(a) f(b)$ whenever $a$ and $b$ are *coprime*.  A good example is the divisor-sum function, implemented below.\n",
    "\n",
    "Une fonction **multiplicative** est une fonction $f$ qui prend en argument un entier $n$ et qui vérifie $f(1) = 1$ et $f(ab) = f(a) f(b)$ lorsque $a$ et $b$ sont premiers entre eux (en anglais *coprime*).\n",
    "Un exemple est la fonction *somme des diviseurs*, implémentée ci-dessous."
   ]
  },
  {
   "cell_type": "markdown",
   "metadata": {},
   "source": [
    "### Exercices\n",
    "\n",
    "1. Ecrire une fonction `divisor_sum` qui prend en argument un entier `n` et qui renvoie la somme des diviseurs de `n`. Par exemple `divisor_sum(100)` vaut `217`.\n",
    "\n",
    "2. Tester sur quelques exemples le caractère multiplicatif de cette fonction."
   ]
  },
  {
   "cell_type": "code",
   "execution_count": null,
   "metadata": {
    "collapsed": true
   },
   "outputs": [],
   "source": [
    "def divisor_sum(n):\n",
    "    \"\"\"\n",
    "    Cette fonction prend en argument un entier n positif et renvoie la somme des diviseurs de n.\n",
    "    \"\"\"\n",
    "    # code de la fonction ici"
   ]
  },
  {
   "cell_type": "code",
   "execution_count": null,
   "metadata": {
    "collapsed": true
   },
   "outputs": [],
   "source": [
    "# choisir deux entiers a et b premiers entre eux\n",
    "a = \n",
    "b = \n",
    "test = (divisor_sum(a*b) == divisor_sum(a)*divisor_sum(b))\n",
    "print(test)"
   ]
  },
  {
   "cell_type": "code",
   "execution_count": null,
   "metadata": {
    "collapsed": false
   },
   "outputs": [],
   "source": [
    "%timeit divisor_sum(730) # Let's see how quickly the function runs."
   ]
  },
  {
   "cell_type": "markdown",
   "metadata": {},
   "source": [
    "Un nombre parfait est un entier positif qui est égal à la somme de ses diviseurs propres (ses diviseurs positifs autres que lui-même)."
   ]
  },
  {
   "cell_type": "markdown",
   "metadata": {},
   "source": [
    "### Exercice\n",
    "Ecrire une fonction `is_perfect` qui prend en argument un entier positif et qui renvoie `True` si `n` est parfait, `False` sinon. Tester la fonction."
   ]
  },
  {
   "cell_type": "code",
   "execution_count": null,
   "metadata": {
    "collapsed": false
   },
   "outputs": [],
   "source": [
    "def is_perfect(n):\n",
    "    # code de la fonction ici"
   ]
  },
  {
   "cell_type": "markdown",
   "metadata": {},
   "source": [
    "Calculons les nombres parfaits jusqu'à 10000. Cela peut prendre quelques secondes."
   ]
  },
  {
   "cell_type": "code",
   "execution_count": null,
   "metadata": {
    "collapsed": false
   },
   "outputs": [],
   "source": [
    "for j in range(1, 10000):\n",
    "    if is_perfect(j):\n",
    "        print(\"{} is perfect!\".format(j))"
   ]
  },
  {
   "cell_type": "markdown",
   "metadata": {},
   "source": [
    "Les fonctions multiplicatives telles que la fonction `divisor_sum` peuvent être calculées via une décomposition en facteurs premiers. En effet, si $f$ est une fonction multiplicative et que $$n = 2^a 3^b 5^c \\cdots$$\n",
    "alors on a\n",
    "$$f(n) = f(2^a) f(3^b) f(5^c) \\cdots$$\n",
    "Donc, si nous pouvons calculer $f$ sur les puissances de nombre premiers, nous pouvons calculer $f$ sur tous les entiers positifs."
   ]
  },
  {
   "cell_type": "markdown",
   "metadata": {},
   "source": [
    "### Exercices\n",
    "\n",
    "1. Ecrire une fonction `divisor_sum_pp`, qui prend en arguments un entier premier `p`, un exposant `e` et qui renvoie la somme des diviseurs de $p^e$.\n",
    "\n",
    "2. Ecrire une fonction `divisor_sum_multiplicative`, qui prend en argument un entier `n`, qui renvoie la somme des diviseurs de `n` et qui utilise la formule multiplicative décrite précédemment\n",
    "$$f(n) = f(2^a) f(3^b) f(5^c) \\cdots$$\n",
    "\n",
    "3. Tester ces deux fonctions"
   ]
  },
  {
   "cell_type": "code",
   "execution_count": null,
   "metadata": {
    "collapsed": true
   },
   "outputs": [],
   "source": [
    "def divisor_sum_pp(p, e):  # pp stands for prime power\n",
    "    '''\n",
    "    Computes the divisor sum of the prime power p**e,\n",
    "    when p is prime and e is a positive integer.\n",
    "    This is just 1 + p^2 + p^3 + ... + p^e.\n",
    "    '''\n",
    "    # code de la fonction ici\n",
    "    \n",
    "def divisor_sum_multiplicative(n):\n",
    "    '''\n",
    "    Computes the sum of the positive divisors of a positive integer n,\n",
    "    using the multiplicative property of the function.\n",
    "    '''\n",
    "    # code de la fonction ici"
   ]
  },
  {
   "cell_type": "code",
   "execution_count": null,
   "metadata": {
    "collapsed": false
   },
   "outputs": [],
   "source": [
    "% timeit(divisor_sum_multiplicative(730)) # this probably runs faster than the previous version."
   ]
  },
  {
   "cell_type": "markdown",
   "metadata": {},
   "source": [
    "Il y a beaucoup de fonctions multiplicatives intéressantes. Nous pourrions implémenter chacune d'elle en suivant un processus en deux étapes, comme ci-dessus: implémenter la fonction pour les puissances de nombre premier, puis sur tous les entiers positifs. Mais il existe un raccourci pour la deuxième étape, qui utilise une propriété très intéressante de Python.\n",
    "\n",
    "En Python, les fonctions **sont des objets Python**."
   ]
  },
  {
   "cell_type": "code",
   "execution_count": null,
   "metadata": {
    "collapsed": false
   },
   "outputs": [],
   "source": [
    "type(divisor_sum_pp) # Every object has a type."
   ]
  },
  {
   "cell_type": "code",
   "execution_count": null,
   "metadata": {
    "collapsed": false
   },
   "outputs": [],
   "source": [
    "id(divisor_sum_pp) # Yes, every object gets an ID number."
   ]
  },
  {
   "cell_type": "markdown",
   "metadata": {},
   "source": [
    "Comme les fonctions sont des objets Python, il est possible de définir une fonction qui prend en argument une fonction et renvoie aussi une fonction ! \n",
    "\n",
    "On dit que Python est un langage de programmation **fonctionnel**.\n",
    "\n",
    "Voici un exemple élémentaire."
   ]
  },
  {
   "cell_type": "code",
   "execution_count": null,
   "metadata": {
    "collapsed": true
   },
   "outputs": [],
   "source": [
    "def addone(x):  # Let's make a simple function.\n",
    "    return x + 1"
   ]
  },
  {
   "cell_type": "code",
   "execution_count": null,
   "metadata": {
    "collapsed": false
   },
   "outputs": [],
   "source": [
    "addone(10) # Predict the result."
   ]
  },
  {
   "cell_type": "code",
   "execution_count": null,
   "metadata": {
    "collapsed": true
   },
   "outputs": [],
   "source": [
    "def do_twice(f):\n",
    "    '''\n",
    "    If a function f is input, then the output is the function\n",
    "    \"f composed with f.\"\n",
    "    '''\n",
    "    def ff(x):  # Defines a new function ff!\n",
    "        return f(f(x)) # This is what ff does.\n",
    "    \n",
    "    return ff"
   ]
  },
  {
   "cell_type": "code",
   "execution_count": null,
   "metadata": {
    "collapsed": true
   },
   "outputs": [],
   "source": [
    "addtwo = do_twice(addone)  # addtwo is a function!"
   ]
  },
  {
   "cell_type": "code",
   "execution_count": null,
   "metadata": {
    "collapsed": false
   },
   "outputs": [],
   "source": [
    "addtwo(10)  # What is the result?"
   ]
  },
  {
   "cell_type": "markdown",
   "metadata": {},
   "source": [
    "Nous exploitons maintenant cette approche fonctionnelle pour créer une fonction Python appelée `mult_function`. Etant donnée une fonction `f_pp(p, e)`, la fonction `mult_function` génère la *fonction multiplicative* qui coïncide avec` f_pp` sur les puissances des nombres premiers.\n",
    "En d’autres termes, si `f = mult_function(f_pp)`, alors `f(p**e)` sera égal à `f_pp(p, e)`."
   ]
  },
  {
   "cell_type": "markdown",
   "metadata": {},
   "source": [
    "### Exercice\n",
    "\n",
    "1. Implémenter `mult_function` ci-dessous."
   ]
  },
  {
   "cell_type": "code",
   "execution_count": null,
   "metadata": {
    "collapsed": true
   },
   "outputs": [],
   "source": [
    "def mult_function(f_pp):\n",
    "    '''\n",
    "    When a function f_pp(p,e) of two arguments is input,\n",
    "    this outputs a multiplicative function f obtained from f_pp\n",
    "    via prime decomposition.\n",
    "    '''\n",
    "    def f(n):\n",
    "        # Ici code de la fonction f ; on pourra utiliser les fonctions decomp et f_pp\n",
    "        return result_of_f\n",
    "    \n",
    "    return f"
   ]
  },
  {
   "cell_type": "markdown",
   "metadata": {},
   "source": [
    "Testons maintenant le fonctionnement de `mult_function` pour la fonction *divisor-counting*. C'est la fonction $\\sigma_0(n)$ dont la valeur est le nombre de diviseurs positifs de $n$. Pour les puissances de premiers, il est facile de compter les diviseurs, $\\sigma_0(p^e) = e + 1$"
   ]
  },
  {
   "cell_type": "code",
   "execution_count": null,
   "metadata": {
    "collapsed": true
   },
   "outputs": [],
   "source": [
    "def sigma0_pp(p,e):\n",
    "    return e + 1"
   ]
  },
  {
   "cell_type": "markdown",
   "metadata": {},
   "source": [
    "Comme la fonction de divisor-counting est multiplicative, nous pouvons l’implémenter en appliquant mult_function à `sigma0_pp`."
   ]
  },
  {
   "cell_type": "code",
   "execution_count": null,
   "metadata": {
    "collapsed": true
   },
   "outputs": [],
   "source": [
    "sigma0 = mult_function(sigma0_pp)"
   ]
  },
  {
   "cell_type": "code",
   "execution_count": null,
   "metadata": {
    "collapsed": false
   },
   "outputs": [],
   "source": [
    "sigma0(100)  # How many divisors does 100 have?"
   ]
  },
  {
   "cell_type": "markdown",
   "metadata": {},
   "source": [
    "### Exercices\n",
    "\n",
    "1. Un entier positif `n` est appelé déficient/parfait/abondant selon que la somme de ses diviseurs propres est inférieure/égale à/supérieure à `n` lui-même. Parmi les nombres jusqu'à `10000`, combien sont déficients, parfaits et abondants ?\n",
    "\n",
    "2. Si `f` est une fonction prenant en argument un entier naturel `n` et qui renvoie un réel, définissez `F` comme étant la fonction donnée par la formule $F(n) = \\sum_{i=0}^n f(i)$. Créez une fonction `sumfun` qui prend en argument une fonction `f` et renvoie la fonction `F` comme décrite ci-dessus.\n",
    "\n",
    "3. Considérons la fonction `f` qui compte le nombre de diviseurs positifs de `n` qui ne sont pas divisibles par $4$. Vérifiez qu’il s’agit d’une fonction multiplicative et implémentez-la à l’aide de `mult_function`.\n",
    "\n",
    "4. Ecrivez une fonction `foursquare` qui prend en argument un entier positif `n` et renvoie le nombre de façons que `n` peut être exprimé par `n = a*a + b*b + c*c + d*d` pour des entiers `a`, `b`, `c`, `d`. Astuce: faire des boucles sur les entiers compris entre $-\\sqrt{n}$ and $\\sqrt{n}$. Comparez les valeurs de `foursquare` à la fonction multiplicative du problème précédent.\n",
    "\n",
    "5. Un entier positif est \"sans carré\" s'il n'a pas de facteur carré en plus de 1. La fonction de **Mobius** $\\mu(n)$ est définie par $\\mu(n) = 0$ if $n$ si $n$ n'est pas sans carré, et sinon, $\\mu(n) = 1$ or $\\mu(n) = -1$ selon que $n$ a un nombre pair ou impair de facteurs premiers. \n",
    " * Vérifiez que la fonction de Mobius est multiplicative ; implémentez la et tester la.\n",
    " * Essayez de reproduire le graphique de la fonction de Mertens $M$ comme décrit dans [Wikipedia's article on the Mertens conjecture](https://en.wikipedia.org/wiki/Mertens_conjecture). Voir le notebook Python précédent pour une introduction à matplotlib sur la création de graphiques."
   ]
  },
  {
   "cell_type": "code",
   "execution_count": null,
   "metadata": {
    "collapsed": true
   },
   "outputs": [],
   "source": [
    "#  Use this space to work on the exercises."
   ]
  }
 ],
 "metadata": {
  "kernelspec": {
   "display_name": "Python [default]",
   "language": "python",
   "name": "python3"
  },
  "language_info": {
   "codemirror_mode": {
    "name": "ipython",
    "version": 3
   },
   "file_extension": ".py",
   "mimetype": "text/x-python",
   "name": "python",
   "nbconvert_exporter": "python",
   "pygments_lexer": "ipython3",
   "version": "3.5.2"
  }
 },
 "nbformat": 4,
 "nbformat_minor": 1
}
